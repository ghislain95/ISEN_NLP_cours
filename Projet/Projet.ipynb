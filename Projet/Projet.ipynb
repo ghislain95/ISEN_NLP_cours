{
  "nbformat": 4,
  "nbformat_minor": 0,
  "metadata": {
    "colab": {
      "name": "Projet.ipynb",
      "provenance": [],
      "collapsed_sections": []
    },
    "kernelspec": {
      "name": "python3",
      "display_name": "Python 3"
    },
    "accelerator": "GPU"
  },
  "cells": [
    {
      "cell_type": "code",
      "metadata": {
        "colab": {
          "base_uri": "https://localhost:8080/"
        },
        "id": "xwR0Ea50w_qy",
        "outputId": "29e5898f-3c15-4020-ef30-cd53d25fab02"
      },
      "source": [
        "import tensorflow as tf\r\n",
        "from tensorflow import keras\r\n",
        "from tensorflow.keras import preprocessing\r\n",
        "import numpy as np\r\n",
        "import pandas as pd\r\n",
        "import matplotlib.pyplot as plt\r\n",
        "import nltk\r\n",
        "\r\n",
        "from tensorflow.keras.layers import LSTM, Activation, Dense, Dropout, Input, Embedding\r\n",
        "from tensorflow.keras.preprocessing.text import Tokenizer\r\n",
        "from tensorflow.keras.preprocessing import sequence\r\n",
        "from keras.preprocessing.sequence import pad_sequences\r\n",
        "from sklearn.model_selection import train_test_split\r\n",
        "from tensorflow.keras.models import Model\r\n",
        "from tensorflow.keras.optimizers import RMSprop\r\n",
        "from tensorflow import keras\r\n",
        "\r\n",
        "from sklearn.feature_extraction.text import CountVectorizer\r\n",
        "\r\n",
        "nltk.download('punkt')\r\n",
        "nltk.download('stopwords')\r\n",
        "nltk.download('wordnet')\r\n",
        "nltk.download('averaged_perceptron_tagger')"
      ],
      "execution_count": 80,
      "outputs": [
        {
          "output_type": "stream",
          "text": [
            "[nltk_data] Downloading package punkt to /root/nltk_data...\n",
            "[nltk_data]   Package punkt is already up-to-date!\n",
            "[nltk_data] Downloading package stopwords to /root/nltk_data...\n",
            "[nltk_data]   Package stopwords is already up-to-date!\n",
            "[nltk_data] Downloading package wordnet to /root/nltk_data...\n",
            "[nltk_data]   Package wordnet is already up-to-date!\n",
            "[nltk_data] Downloading package averaged_perceptron_tagger to\n",
            "[nltk_data]     /root/nltk_data...\n",
            "[nltk_data]   Package averaged_perceptron_tagger is already up-to-\n",
            "[nltk_data]       date!\n"
          ],
          "name": "stdout"
        },
        {
          "output_type": "execute_result",
          "data": {
            "text/plain": [
              "True"
            ]
          },
          "metadata": {
            "tags": []
          },
          "execution_count": 80
        }
      ]
    },
    {
      "cell_type": "code",
      "metadata": {
        "colab": {
          "base_uri": "https://localhost:8080/"
        },
        "id": "fHwQ9BSDxBOv",
        "outputId": "89b41629-cd62-49bf-f0ac-0ab14116d2ce"
      },
      "source": [
        "from google.colab import drive\r\n",
        "drive.mount('/content/gdrive/')"
      ],
      "execution_count": 2,
      "outputs": [
        {
          "output_type": "stream",
          "text": [
            "Mounted at /content/gdrive/\n"
          ],
          "name": "stdout"
        }
      ]
    },
    {
      "cell_type": "code",
      "metadata": {
        "id": "CWgf93kaxMLm"
      },
      "source": [
        "df = pd.read_csv('gdrive/MyDrive/Colab Notebooks/Projet/training.1600000.processed.noemoticon.csv', encoding='latin-1', header=None)\r\n",
        "\r\n",
        "df.columns = ['target','id','date','flag','user','text']"
      ],
      "execution_count": 3,
      "outputs": []
    },
    {
      "cell_type": "code",
      "metadata": {
        "colab": {
          "base_uri": "https://localhost:8080/",
          "height": 407
        },
        "id": "PfA01OFLySP4",
        "outputId": "910def62-d8df-43a1-82f2-b7a21d3379dd"
      },
      "source": [
        "#Visualize dataframe\r\n",
        "df"
      ],
      "execution_count": 4,
      "outputs": [
        {
          "output_type": "execute_result",
          "data": {
            "text/html": [
              "<div>\n",
              "<style scoped>\n",
              "    .dataframe tbody tr th:only-of-type {\n",
              "        vertical-align: middle;\n",
              "    }\n",
              "\n",
              "    .dataframe tbody tr th {\n",
              "        vertical-align: top;\n",
              "    }\n",
              "\n",
              "    .dataframe thead th {\n",
              "        text-align: right;\n",
              "    }\n",
              "</style>\n",
              "<table border=\"1\" class=\"dataframe\">\n",
              "  <thead>\n",
              "    <tr style=\"text-align: right;\">\n",
              "      <th></th>\n",
              "      <th>target</th>\n",
              "      <th>id</th>\n",
              "      <th>date</th>\n",
              "      <th>flag</th>\n",
              "      <th>user</th>\n",
              "      <th>text</th>\n",
              "    </tr>\n",
              "  </thead>\n",
              "  <tbody>\n",
              "    <tr>\n",
              "      <th>0</th>\n",
              "      <td>0</td>\n",
              "      <td>1467810369</td>\n",
              "      <td>Mon Apr 06 22:19:45 PDT 2009</td>\n",
              "      <td>NO_QUERY</td>\n",
              "      <td>_TheSpecialOne_</td>\n",
              "      <td>@switchfoot http://twitpic.com/2y1zl - Awww, t...</td>\n",
              "    </tr>\n",
              "    <tr>\n",
              "      <th>1</th>\n",
              "      <td>0</td>\n",
              "      <td>1467810672</td>\n",
              "      <td>Mon Apr 06 22:19:49 PDT 2009</td>\n",
              "      <td>NO_QUERY</td>\n",
              "      <td>scotthamilton</td>\n",
              "      <td>is upset that he can't update his Facebook by ...</td>\n",
              "    </tr>\n",
              "    <tr>\n",
              "      <th>2</th>\n",
              "      <td>0</td>\n",
              "      <td>1467810917</td>\n",
              "      <td>Mon Apr 06 22:19:53 PDT 2009</td>\n",
              "      <td>NO_QUERY</td>\n",
              "      <td>mattycus</td>\n",
              "      <td>@Kenichan I dived many times for the ball. Man...</td>\n",
              "    </tr>\n",
              "    <tr>\n",
              "      <th>3</th>\n",
              "      <td>0</td>\n",
              "      <td>1467811184</td>\n",
              "      <td>Mon Apr 06 22:19:57 PDT 2009</td>\n",
              "      <td>NO_QUERY</td>\n",
              "      <td>ElleCTF</td>\n",
              "      <td>my whole body feels itchy and like its on fire</td>\n",
              "    </tr>\n",
              "    <tr>\n",
              "      <th>4</th>\n",
              "      <td>0</td>\n",
              "      <td>1467811193</td>\n",
              "      <td>Mon Apr 06 22:19:57 PDT 2009</td>\n",
              "      <td>NO_QUERY</td>\n",
              "      <td>Karoli</td>\n",
              "      <td>@nationwideclass no, it's not behaving at all....</td>\n",
              "    </tr>\n",
              "    <tr>\n",
              "      <th>...</th>\n",
              "      <td>...</td>\n",
              "      <td>...</td>\n",
              "      <td>...</td>\n",
              "      <td>...</td>\n",
              "      <td>...</td>\n",
              "      <td>...</td>\n",
              "    </tr>\n",
              "    <tr>\n",
              "      <th>1599995</th>\n",
              "      <td>4</td>\n",
              "      <td>2193601966</td>\n",
              "      <td>Tue Jun 16 08:40:49 PDT 2009</td>\n",
              "      <td>NO_QUERY</td>\n",
              "      <td>AmandaMarie1028</td>\n",
              "      <td>Just woke up. Having no school is the best fee...</td>\n",
              "    </tr>\n",
              "    <tr>\n",
              "      <th>1599996</th>\n",
              "      <td>4</td>\n",
              "      <td>2193601969</td>\n",
              "      <td>Tue Jun 16 08:40:49 PDT 2009</td>\n",
              "      <td>NO_QUERY</td>\n",
              "      <td>TheWDBoards</td>\n",
              "      <td>TheWDB.com - Very cool to hear old Walt interv...</td>\n",
              "    </tr>\n",
              "    <tr>\n",
              "      <th>1599997</th>\n",
              "      <td>4</td>\n",
              "      <td>2193601991</td>\n",
              "      <td>Tue Jun 16 08:40:49 PDT 2009</td>\n",
              "      <td>NO_QUERY</td>\n",
              "      <td>bpbabe</td>\n",
              "      <td>Are you ready for your MoJo Makeover? Ask me f...</td>\n",
              "    </tr>\n",
              "    <tr>\n",
              "      <th>1599998</th>\n",
              "      <td>4</td>\n",
              "      <td>2193602064</td>\n",
              "      <td>Tue Jun 16 08:40:49 PDT 2009</td>\n",
              "      <td>NO_QUERY</td>\n",
              "      <td>tinydiamondz</td>\n",
              "      <td>Happy 38th Birthday to my boo of alll time!!! ...</td>\n",
              "    </tr>\n",
              "    <tr>\n",
              "      <th>1599999</th>\n",
              "      <td>4</td>\n",
              "      <td>2193602129</td>\n",
              "      <td>Tue Jun 16 08:40:50 PDT 2009</td>\n",
              "      <td>NO_QUERY</td>\n",
              "      <td>RyanTrevMorris</td>\n",
              "      <td>happy #charitytuesday @theNSPCC @SparksCharity...</td>\n",
              "    </tr>\n",
              "  </tbody>\n",
              "</table>\n",
              "<p>1600000 rows × 6 columns</p>\n",
              "</div>"
            ],
            "text/plain": [
              "         target  ...                                               text\n",
              "0             0  ...  @switchfoot http://twitpic.com/2y1zl - Awww, t...\n",
              "1             0  ...  is upset that he can't update his Facebook by ...\n",
              "2             0  ...  @Kenichan I dived many times for the ball. Man...\n",
              "3             0  ...    my whole body feels itchy and like its on fire \n",
              "4             0  ...  @nationwideclass no, it's not behaving at all....\n",
              "...         ...  ...                                                ...\n",
              "1599995       4  ...  Just woke up. Having no school is the best fee...\n",
              "1599996       4  ...  TheWDB.com - Very cool to hear old Walt interv...\n",
              "1599997       4  ...  Are you ready for your MoJo Makeover? Ask me f...\n",
              "1599998       4  ...  Happy 38th Birthday to my boo of alll time!!! ...\n",
              "1599999       4  ...  happy #charitytuesday @theNSPCC @SparksCharity...\n",
              "\n",
              "[1600000 rows x 6 columns]"
            ]
          },
          "metadata": {
            "tags": []
          },
          "execution_count": 4
        }
      ]
    },
    {
      "cell_type": "code",
      "metadata": {
        "colab": {
          "base_uri": "https://localhost:8080/"
        },
        "id": "xYojKMz2CZsB",
        "outputId": "fd855c73-ed0d-4bc9-8bf1-3b157f531597"
      },
      "source": [
        "print(\"Shape : \" + str(df.shape))\r\n",
        "print(\"Length : \" + str(len(df)))"
      ],
      "execution_count": 5,
      "outputs": [
        {
          "output_type": "stream",
          "text": [
            "Shape : (1600000, 6)\n",
            "Length : 1600000\n"
          ],
          "name": "stdout"
        }
      ]
    },
    {
      "cell_type": "code",
      "metadata": {
        "colab": {
          "base_uri": "https://localhost:8080/",
          "height": 407
        },
        "id": "Hq7pmekryb_C",
        "outputId": "2dab6c69-0606-4300-c8d7-15ff1482f63b"
      },
      "source": [
        "#Let's keep only targets and text\r\n",
        "df = df[['target','text']]\r\n",
        "df"
      ],
      "execution_count": 6,
      "outputs": [
        {
          "output_type": "execute_result",
          "data": {
            "text/html": [
              "<div>\n",
              "<style scoped>\n",
              "    .dataframe tbody tr th:only-of-type {\n",
              "        vertical-align: middle;\n",
              "    }\n",
              "\n",
              "    .dataframe tbody tr th {\n",
              "        vertical-align: top;\n",
              "    }\n",
              "\n",
              "    .dataframe thead th {\n",
              "        text-align: right;\n",
              "    }\n",
              "</style>\n",
              "<table border=\"1\" class=\"dataframe\">\n",
              "  <thead>\n",
              "    <tr style=\"text-align: right;\">\n",
              "      <th></th>\n",
              "      <th>target</th>\n",
              "      <th>text</th>\n",
              "    </tr>\n",
              "  </thead>\n",
              "  <tbody>\n",
              "    <tr>\n",
              "      <th>0</th>\n",
              "      <td>0</td>\n",
              "      <td>@switchfoot http://twitpic.com/2y1zl - Awww, t...</td>\n",
              "    </tr>\n",
              "    <tr>\n",
              "      <th>1</th>\n",
              "      <td>0</td>\n",
              "      <td>is upset that he can't update his Facebook by ...</td>\n",
              "    </tr>\n",
              "    <tr>\n",
              "      <th>2</th>\n",
              "      <td>0</td>\n",
              "      <td>@Kenichan I dived many times for the ball. Man...</td>\n",
              "    </tr>\n",
              "    <tr>\n",
              "      <th>3</th>\n",
              "      <td>0</td>\n",
              "      <td>my whole body feels itchy and like its on fire</td>\n",
              "    </tr>\n",
              "    <tr>\n",
              "      <th>4</th>\n",
              "      <td>0</td>\n",
              "      <td>@nationwideclass no, it's not behaving at all....</td>\n",
              "    </tr>\n",
              "    <tr>\n",
              "      <th>...</th>\n",
              "      <td>...</td>\n",
              "      <td>...</td>\n",
              "    </tr>\n",
              "    <tr>\n",
              "      <th>1599995</th>\n",
              "      <td>4</td>\n",
              "      <td>Just woke up. Having no school is the best fee...</td>\n",
              "    </tr>\n",
              "    <tr>\n",
              "      <th>1599996</th>\n",
              "      <td>4</td>\n",
              "      <td>TheWDB.com - Very cool to hear old Walt interv...</td>\n",
              "    </tr>\n",
              "    <tr>\n",
              "      <th>1599997</th>\n",
              "      <td>4</td>\n",
              "      <td>Are you ready for your MoJo Makeover? Ask me f...</td>\n",
              "    </tr>\n",
              "    <tr>\n",
              "      <th>1599998</th>\n",
              "      <td>4</td>\n",
              "      <td>Happy 38th Birthday to my boo of alll time!!! ...</td>\n",
              "    </tr>\n",
              "    <tr>\n",
              "      <th>1599999</th>\n",
              "      <td>4</td>\n",
              "      <td>happy #charitytuesday @theNSPCC @SparksCharity...</td>\n",
              "    </tr>\n",
              "  </tbody>\n",
              "</table>\n",
              "<p>1600000 rows × 2 columns</p>\n",
              "</div>"
            ],
            "text/plain": [
              "         target                                               text\n",
              "0             0  @switchfoot http://twitpic.com/2y1zl - Awww, t...\n",
              "1             0  is upset that he can't update his Facebook by ...\n",
              "2             0  @Kenichan I dived many times for the ball. Man...\n",
              "3             0    my whole body feels itchy and like its on fire \n",
              "4             0  @nationwideclass no, it's not behaving at all....\n",
              "...         ...                                                ...\n",
              "1599995       4  Just woke up. Having no school is the best fee...\n",
              "1599996       4  TheWDB.com - Very cool to hear old Walt interv...\n",
              "1599997       4  Are you ready for your MoJo Makeover? Ask me f...\n",
              "1599998       4  Happy 38th Birthday to my boo of alll time!!! ...\n",
              "1599999       4  happy #charitytuesday @theNSPCC @SparksCharity...\n",
              "\n",
              "[1600000 rows x 2 columns]"
            ]
          },
          "metadata": {
            "tags": []
          },
          "execution_count": 6
        }
      ]
    },
    {
      "cell_type": "code",
      "metadata": {
        "colab": {
          "base_uri": "https://localhost:8080/",
          "height": 507
        },
        "id": "hDwPIkJuv5TF",
        "outputId": "ea40f373-fb44-4813-a411-55f246678fca"
      },
      "source": [
        "import re\r\n",
        "def clean_tweet(text):\r\n",
        "    text = re.sub('((www\\.[^\\s]+)|(https?://[^\\s]+))',' ',text) #remove links\r\n",
        "    text = re.sub('@[^\\s]+',' ', text) #remove mentions\r\n",
        "    text = re.sub('[\\s]+', ' ', text) #remove blanks\r\n",
        "    text = re.sub(r'#([^\\s]+)', r' ', text) #remove #\r\n",
        "    return text\r\n",
        "df['clean_tweet'] = df.text.apply(clean_tweet)\r\n",
        "df"
      ],
      "execution_count": 7,
      "outputs": [
        {
          "output_type": "stream",
          "text": [
            "/usr/local/lib/python3.7/dist-packages/ipykernel_launcher.py:8: SettingWithCopyWarning: \n",
            "A value is trying to be set on a copy of a slice from a DataFrame.\n",
            "Try using .loc[row_indexer,col_indexer] = value instead\n",
            "\n",
            "See the caveats in the documentation: https://pandas.pydata.org/pandas-docs/stable/user_guide/indexing.html#returning-a-view-versus-a-copy\n",
            "  \n"
          ],
          "name": "stderr"
        },
        {
          "output_type": "execute_result",
          "data": {
            "text/html": [
              "<div>\n",
              "<style scoped>\n",
              "    .dataframe tbody tr th:only-of-type {\n",
              "        vertical-align: middle;\n",
              "    }\n",
              "\n",
              "    .dataframe tbody tr th {\n",
              "        vertical-align: top;\n",
              "    }\n",
              "\n",
              "    .dataframe thead th {\n",
              "        text-align: right;\n",
              "    }\n",
              "</style>\n",
              "<table border=\"1\" class=\"dataframe\">\n",
              "  <thead>\n",
              "    <tr style=\"text-align: right;\">\n",
              "      <th></th>\n",
              "      <th>target</th>\n",
              "      <th>text</th>\n",
              "      <th>clean_tweet</th>\n",
              "    </tr>\n",
              "  </thead>\n",
              "  <tbody>\n",
              "    <tr>\n",
              "      <th>0</th>\n",
              "      <td>0</td>\n",
              "      <td>@switchfoot http://twitpic.com/2y1zl - Awww, t...</td>\n",
              "      <td>- Awww, that's a bummer. You shoulda got Davi...</td>\n",
              "    </tr>\n",
              "    <tr>\n",
              "      <th>1</th>\n",
              "      <td>0</td>\n",
              "      <td>is upset that he can't update his Facebook by ...</td>\n",
              "      <td>is upset that he can't update his Facebook by ...</td>\n",
              "    </tr>\n",
              "    <tr>\n",
              "      <th>2</th>\n",
              "      <td>0</td>\n",
              "      <td>@Kenichan I dived many times for the ball. Man...</td>\n",
              "      <td>I dived many times for the ball. Managed to s...</td>\n",
              "    </tr>\n",
              "    <tr>\n",
              "      <th>3</th>\n",
              "      <td>0</td>\n",
              "      <td>my whole body feels itchy and like its on fire</td>\n",
              "      <td>my whole body feels itchy and like its on fire</td>\n",
              "    </tr>\n",
              "    <tr>\n",
              "      <th>4</th>\n",
              "      <td>0</td>\n",
              "      <td>@nationwideclass no, it's not behaving at all....</td>\n",
              "      <td>no, it's not behaving at all. i'm mad. why am...</td>\n",
              "    </tr>\n",
              "    <tr>\n",
              "      <th>...</th>\n",
              "      <td>...</td>\n",
              "      <td>...</td>\n",
              "      <td>...</td>\n",
              "    </tr>\n",
              "    <tr>\n",
              "      <th>1599995</th>\n",
              "      <td>4</td>\n",
              "      <td>Just woke up. Having no school is the best fee...</td>\n",
              "      <td>Just woke up. Having no school is the best fee...</td>\n",
              "    </tr>\n",
              "    <tr>\n",
              "      <th>1599996</th>\n",
              "      <td>4</td>\n",
              "      <td>TheWDB.com - Very cool to hear old Walt interv...</td>\n",
              "      <td>TheWDB.com - Very cool to hear old Walt interv...</td>\n",
              "    </tr>\n",
              "    <tr>\n",
              "      <th>1599997</th>\n",
              "      <td>4</td>\n",
              "      <td>Are you ready for your MoJo Makeover? Ask me f...</td>\n",
              "      <td>Are you ready for your MoJo Makeover? Ask me f...</td>\n",
              "    </tr>\n",
              "    <tr>\n",
              "      <th>1599998</th>\n",
              "      <td>4</td>\n",
              "      <td>Happy 38th Birthday to my boo of alll time!!! ...</td>\n",
              "      <td>Happy 38th Birthday to my boo of alll time!!! ...</td>\n",
              "    </tr>\n",
              "    <tr>\n",
              "      <th>1599999</th>\n",
              "      <td>4</td>\n",
              "      <td>happy #charitytuesday @theNSPCC @SparksCharity...</td>\n",
              "      <td>happy</td>\n",
              "    </tr>\n",
              "  </tbody>\n",
              "</table>\n",
              "<p>1600000 rows × 3 columns</p>\n",
              "</div>"
            ],
            "text/plain": [
              "         target  ...                                        clean_tweet\n",
              "0             0  ...   - Awww, that's a bummer. You shoulda got Davi...\n",
              "1             0  ...  is upset that he can't update his Facebook by ...\n",
              "2             0  ...   I dived many times for the ball. Managed to s...\n",
              "3             0  ...    my whole body feels itchy and like its on fire \n",
              "4             0  ...   no, it's not behaving at all. i'm mad. why am...\n",
              "...         ...  ...                                                ...\n",
              "1599995       4  ...  Just woke up. Having no school is the best fee...\n",
              "1599996       4  ...  TheWDB.com - Very cool to hear old Walt interv...\n",
              "1599997       4  ...  Are you ready for your MoJo Makeover? Ask me f...\n",
              "1599998       4  ...  Happy 38th Birthday to my boo of alll time!!! ...\n",
              "1599999       4  ...                                           happy   \n",
              "\n",
              "[1600000 rows x 3 columns]"
            ]
          },
          "metadata": {
            "tags": []
          },
          "execution_count": 7
        }
      ]
    },
    {
      "cell_type": "code",
      "metadata": {
        "colab": {
          "base_uri": "https://localhost:8080/",
          "height": 507
        },
        "id": "AlNb1_73ydne",
        "outputId": "9a618bc9-3af6-428a-d86d-2863dbc76c78"
      },
      "source": [
        "#Remove punctiations, numbers and uppercases letters in tweets\r\n",
        "from nltk.corpus import stopwords\r\n",
        "stopWords = set(stopwords.words('english'))\r\n",
        "def remove_punct(text):\r\n",
        "    text = text.str.replace('[^a-zA-Z#]',' ') # keep only letters, if not a letter replace with space\r\n",
        "    text = text.str.lower() #remove uppercases letters\r\n",
        "    text = text.apply(lambda x: ' '.join(w for w in x.split() if w not in stopWords))\r\n",
        "    return text\r\n",
        "df['clean_tweet'] = remove_punct(df['clean_tweet'])\r\n",
        "df "
      ],
      "execution_count": 8,
      "outputs": [
        {
          "output_type": "stream",
          "text": [
            "/usr/local/lib/python3.7/dist-packages/ipykernel_launcher.py:9: SettingWithCopyWarning: \n",
            "A value is trying to be set on a copy of a slice from a DataFrame.\n",
            "Try using .loc[row_indexer,col_indexer] = value instead\n",
            "\n",
            "See the caveats in the documentation: https://pandas.pydata.org/pandas-docs/stable/user_guide/indexing.html#returning-a-view-versus-a-copy\n",
            "  if __name__ == '__main__':\n"
          ],
          "name": "stderr"
        },
        {
          "output_type": "execute_result",
          "data": {
            "text/html": [
              "<div>\n",
              "<style scoped>\n",
              "    .dataframe tbody tr th:only-of-type {\n",
              "        vertical-align: middle;\n",
              "    }\n",
              "\n",
              "    .dataframe tbody tr th {\n",
              "        vertical-align: top;\n",
              "    }\n",
              "\n",
              "    .dataframe thead th {\n",
              "        text-align: right;\n",
              "    }\n",
              "</style>\n",
              "<table border=\"1\" class=\"dataframe\">\n",
              "  <thead>\n",
              "    <tr style=\"text-align: right;\">\n",
              "      <th></th>\n",
              "      <th>target</th>\n",
              "      <th>text</th>\n",
              "      <th>clean_tweet</th>\n",
              "    </tr>\n",
              "  </thead>\n",
              "  <tbody>\n",
              "    <tr>\n",
              "      <th>0</th>\n",
              "      <td>0</td>\n",
              "      <td>@switchfoot http://twitpic.com/2y1zl - Awww, t...</td>\n",
              "      <td>awww bummer shoulda got david carr third day</td>\n",
              "    </tr>\n",
              "    <tr>\n",
              "      <th>1</th>\n",
              "      <td>0</td>\n",
              "      <td>is upset that he can't update his Facebook by ...</td>\n",
              "      <td>upset update facebook texting might cry result...</td>\n",
              "    </tr>\n",
              "    <tr>\n",
              "      <th>2</th>\n",
              "      <td>0</td>\n",
              "      <td>@Kenichan I dived many times for the ball. Man...</td>\n",
              "      <td>dived many times ball managed save rest go bounds</td>\n",
              "    </tr>\n",
              "    <tr>\n",
              "      <th>3</th>\n",
              "      <td>0</td>\n",
              "      <td>my whole body feels itchy and like its on fire</td>\n",
              "      <td>whole body feels itchy like fire</td>\n",
              "    </tr>\n",
              "    <tr>\n",
              "      <th>4</th>\n",
              "      <td>0</td>\n",
              "      <td>@nationwideclass no, it's not behaving at all....</td>\n",
              "      <td>behaving mad see</td>\n",
              "    </tr>\n",
              "    <tr>\n",
              "      <th>...</th>\n",
              "      <td>...</td>\n",
              "      <td>...</td>\n",
              "      <td>...</td>\n",
              "    </tr>\n",
              "    <tr>\n",
              "      <th>1599995</th>\n",
              "      <td>4</td>\n",
              "      <td>Just woke up. Having no school is the best fee...</td>\n",
              "      <td>woke school best feeling ever</td>\n",
              "    </tr>\n",
              "    <tr>\n",
              "      <th>1599996</th>\n",
              "      <td>4</td>\n",
              "      <td>TheWDB.com - Very cool to hear old Walt interv...</td>\n",
              "      <td>thewdb com cool hear old walt interviews</td>\n",
              "    </tr>\n",
              "    <tr>\n",
              "      <th>1599997</th>\n",
              "      <td>4</td>\n",
              "      <td>Are you ready for your MoJo Makeover? Ask me f...</td>\n",
              "      <td>ready mojo makeover ask details</td>\n",
              "    </tr>\n",
              "    <tr>\n",
              "      <th>1599998</th>\n",
              "      <td>4</td>\n",
              "      <td>Happy 38th Birthday to my boo of alll time!!! ...</td>\n",
              "      <td>happy th birthday boo alll time tupac amaru sh...</td>\n",
              "    </tr>\n",
              "    <tr>\n",
              "      <th>1599999</th>\n",
              "      <td>4</td>\n",
              "      <td>happy #charitytuesday @theNSPCC @SparksCharity...</td>\n",
              "      <td>happy</td>\n",
              "    </tr>\n",
              "  </tbody>\n",
              "</table>\n",
              "<p>1600000 rows × 3 columns</p>\n",
              "</div>"
            ],
            "text/plain": [
              "         target  ...                                        clean_tweet\n",
              "0             0  ...       awww bummer shoulda got david carr third day\n",
              "1             0  ...  upset update facebook texting might cry result...\n",
              "2             0  ...  dived many times ball managed save rest go bounds\n",
              "3             0  ...                   whole body feels itchy like fire\n",
              "4             0  ...                                   behaving mad see\n",
              "...         ...  ...                                                ...\n",
              "1599995       4  ...                      woke school best feeling ever\n",
              "1599996       4  ...           thewdb com cool hear old walt interviews\n",
              "1599997       4  ...                    ready mojo makeover ask details\n",
              "1599998       4  ...  happy th birthday boo alll time tupac amaru sh...\n",
              "1599999       4  ...                                              happy\n",
              "\n",
              "[1600000 rows x 3 columns]"
            ]
          },
          "metadata": {
            "tags": []
          },
          "execution_count": 8
        }
      ]
    },
    {
      "cell_type": "code",
      "metadata": {
        "colab": {
          "base_uri": "https://localhost:8080/"
        },
        "id": "uaqFDG4G4eLl",
        "outputId": "2aeefb17-33e1-4ec7-8f15-19109565179c"
      },
      "source": [
        "#tokenize texts\r\n",
        "tokenized_text = df['clean_tweet'].apply(lambda x: x.split())\r\n",
        "tokenized_text.head()"
      ],
      "execution_count": 9,
      "outputs": [
        {
          "output_type": "execute_result",
          "data": {
            "text/plain": [
              "0    [awww, bummer, shoulda, got, david, carr, thir...\n",
              "1    [upset, update, facebook, texting, might, cry,...\n",
              "2    [dived, many, times, ball, managed, save, rest...\n",
              "3              [whole, body, feels, itchy, like, fire]\n",
              "4                                 [behaving, mad, see]\n",
              "Name: clean_tweet, dtype: object"
            ]
          },
          "metadata": {
            "tags": []
          },
          "execution_count": 9
        }
      ]
    },
    {
      "cell_type": "code",
      "metadata": {
        "colab": {
          "base_uri": "https://localhost:8080/"
        },
        "id": "CXdaqP7849py",
        "outputId": "f89a22df-141c-4dbb-9b61-2832ecc3ecb3"
      },
      "source": [
        "#stemming words\r\n",
        "from nltk.stem.porter import *\r\n",
        "stemmer = PorterStemmer()\r\n",
        "\r\n",
        "tokenized_text = tokenized_text.apply(lambda x: [stemmer.stem(i) for i in x])\r\n",
        "tokenized_text.head()"
      ],
      "execution_count": 10,
      "outputs": [
        {
          "output_type": "execute_result",
          "data": {
            "text/plain": [
              "0    [awww, bummer, shoulda, got, david, carr, thir...\n",
              "1    [upset, updat, facebook, text, might, cri, res...\n",
              "2    [dive, mani, time, ball, manag, save, rest, go...\n",
              "3               [whole, bodi, feel, itchi, like, fire]\n",
              "4                                    [behav, mad, see]\n",
              "Name: clean_tweet, dtype: object"
            ]
          },
          "metadata": {
            "tags": []
          },
          "execution_count": 10
        }
      ]
    },
    {
      "cell_type": "code",
      "metadata": {
        "colab": {
          "base_uri": "https://localhost:8080/",
          "height": 507
        },
        "id": "BwIRDVC8HTB7",
        "outputId": "13c38a99-a2e0-4fde-bc77-e16b0bfe7c04"
      },
      "source": [
        "df['tokens'] = tokenized_text\r\n",
        "df"
      ],
      "execution_count": 11,
      "outputs": [
        {
          "output_type": "stream",
          "text": [
            "/usr/local/lib/python3.7/dist-packages/ipykernel_launcher.py:1: SettingWithCopyWarning: \n",
            "A value is trying to be set on a copy of a slice from a DataFrame.\n",
            "Try using .loc[row_indexer,col_indexer] = value instead\n",
            "\n",
            "See the caveats in the documentation: https://pandas.pydata.org/pandas-docs/stable/user_guide/indexing.html#returning-a-view-versus-a-copy\n",
            "  \"\"\"Entry point for launching an IPython kernel.\n"
          ],
          "name": "stderr"
        },
        {
          "output_type": "execute_result",
          "data": {
            "text/html": [
              "<div>\n",
              "<style scoped>\n",
              "    .dataframe tbody tr th:only-of-type {\n",
              "        vertical-align: middle;\n",
              "    }\n",
              "\n",
              "    .dataframe tbody tr th {\n",
              "        vertical-align: top;\n",
              "    }\n",
              "\n",
              "    .dataframe thead th {\n",
              "        text-align: right;\n",
              "    }\n",
              "</style>\n",
              "<table border=\"1\" class=\"dataframe\">\n",
              "  <thead>\n",
              "    <tr style=\"text-align: right;\">\n",
              "      <th></th>\n",
              "      <th>target</th>\n",
              "      <th>text</th>\n",
              "      <th>clean_tweet</th>\n",
              "      <th>tokens</th>\n",
              "    </tr>\n",
              "  </thead>\n",
              "  <tbody>\n",
              "    <tr>\n",
              "      <th>0</th>\n",
              "      <td>0</td>\n",
              "      <td>@switchfoot http://twitpic.com/2y1zl - Awww, t...</td>\n",
              "      <td>awww bummer shoulda got david carr third day</td>\n",
              "      <td>[awww, bummer, shoulda, got, david, carr, thir...</td>\n",
              "    </tr>\n",
              "    <tr>\n",
              "      <th>1</th>\n",
              "      <td>0</td>\n",
              "      <td>is upset that he can't update his Facebook by ...</td>\n",
              "      <td>upset update facebook texting might cry result...</td>\n",
              "      <td>[upset, updat, facebook, text, might, cri, res...</td>\n",
              "    </tr>\n",
              "    <tr>\n",
              "      <th>2</th>\n",
              "      <td>0</td>\n",
              "      <td>@Kenichan I dived many times for the ball. Man...</td>\n",
              "      <td>dived many times ball managed save rest go bounds</td>\n",
              "      <td>[dive, mani, time, ball, manag, save, rest, go...</td>\n",
              "    </tr>\n",
              "    <tr>\n",
              "      <th>3</th>\n",
              "      <td>0</td>\n",
              "      <td>my whole body feels itchy and like its on fire</td>\n",
              "      <td>whole body feels itchy like fire</td>\n",
              "      <td>[whole, bodi, feel, itchi, like, fire]</td>\n",
              "    </tr>\n",
              "    <tr>\n",
              "      <th>4</th>\n",
              "      <td>0</td>\n",
              "      <td>@nationwideclass no, it's not behaving at all....</td>\n",
              "      <td>behaving mad see</td>\n",
              "      <td>[behav, mad, see]</td>\n",
              "    </tr>\n",
              "    <tr>\n",
              "      <th>...</th>\n",
              "      <td>...</td>\n",
              "      <td>...</td>\n",
              "      <td>...</td>\n",
              "      <td>...</td>\n",
              "    </tr>\n",
              "    <tr>\n",
              "      <th>1599995</th>\n",
              "      <td>4</td>\n",
              "      <td>Just woke up. Having no school is the best fee...</td>\n",
              "      <td>woke school best feeling ever</td>\n",
              "      <td>[woke, school, best, feel, ever]</td>\n",
              "    </tr>\n",
              "    <tr>\n",
              "      <th>1599996</th>\n",
              "      <td>4</td>\n",
              "      <td>TheWDB.com - Very cool to hear old Walt interv...</td>\n",
              "      <td>thewdb com cool hear old walt interviews</td>\n",
              "      <td>[thewdb, com, cool, hear, old, walt, interview]</td>\n",
              "    </tr>\n",
              "    <tr>\n",
              "      <th>1599997</th>\n",
              "      <td>4</td>\n",
              "      <td>Are you ready for your MoJo Makeover? Ask me f...</td>\n",
              "      <td>ready mojo makeover ask details</td>\n",
              "      <td>[readi, mojo, makeov, ask, detail]</td>\n",
              "    </tr>\n",
              "    <tr>\n",
              "      <th>1599998</th>\n",
              "      <td>4</td>\n",
              "      <td>Happy 38th Birthday to my boo of alll time!!! ...</td>\n",
              "      <td>happy th birthday boo alll time tupac amaru sh...</td>\n",
              "      <td>[happi, th, birthday, boo, alll, time, tupac, ...</td>\n",
              "    </tr>\n",
              "    <tr>\n",
              "      <th>1599999</th>\n",
              "      <td>4</td>\n",
              "      <td>happy #charitytuesday @theNSPCC @SparksCharity...</td>\n",
              "      <td>happy</td>\n",
              "      <td>[happi]</td>\n",
              "    </tr>\n",
              "  </tbody>\n",
              "</table>\n",
              "<p>1600000 rows × 4 columns</p>\n",
              "</div>"
            ],
            "text/plain": [
              "         target  ...                                             tokens\n",
              "0             0  ...  [awww, bummer, shoulda, got, david, carr, thir...\n",
              "1             0  ...  [upset, updat, facebook, text, might, cri, res...\n",
              "2             0  ...  [dive, mani, time, ball, manag, save, rest, go...\n",
              "3             0  ...             [whole, bodi, feel, itchi, like, fire]\n",
              "4             0  ...                                  [behav, mad, see]\n",
              "...         ...  ...                                                ...\n",
              "1599995       4  ...                   [woke, school, best, feel, ever]\n",
              "1599996       4  ...    [thewdb, com, cool, hear, old, walt, interview]\n",
              "1599997       4  ...                 [readi, mojo, makeov, ask, detail]\n",
              "1599998       4  ...  [happi, th, birthday, boo, alll, time, tupac, ...\n",
              "1599999       4  ...                                            [happi]\n",
              "\n",
              "[1600000 rows x 4 columns]"
            ]
          },
          "metadata": {
            "tags": []
          },
          "execution_count": 11
        }
      ]
    },
    {
      "cell_type": "code",
      "metadata": {
        "colab": {
          "base_uri": "https://localhost:8080/"
        },
        "id": "YEUhnRIo8OjK",
        "outputId": "75b00ba7-e219-4ce1-d8dc-faac762957f7"
      },
      "source": [
        "# now let's see how tokenized cleaned tweets look like in the dataframe\r\n",
        "for i in range(len(tokenized_text)):\r\n",
        "    tokenized_text[i] = ' '.join(tokenized_text[i])\r\n",
        "\r\n",
        "df['clean_tweet_final'] = tokenized_text"
      ],
      "execution_count": 12,
      "outputs": [
        {
          "output_type": "stream",
          "text": [
            "/usr/local/lib/python3.7/dist-packages/ipykernel_launcher.py:5: SettingWithCopyWarning: \n",
            "A value is trying to be set on a copy of a slice from a DataFrame.\n",
            "Try using .loc[row_indexer,col_indexer] = value instead\n",
            "\n",
            "See the caveats in the documentation: https://pandas.pydata.org/pandas-docs/stable/user_guide/indexing.html#returning-a-view-versus-a-copy\n",
            "  \"\"\"\n"
          ],
          "name": "stderr"
        }
      ]
    },
    {
      "cell_type": "code",
      "metadata": {
        "colab": {
          "base_uri": "https://localhost:8080/",
          "height": 407
        },
        "id": "qG_5nPLaPkL4",
        "outputId": "6eab556a-7655-447c-aefc-b4daa4dda18e"
      },
      "source": [
        "df"
      ],
      "execution_count": 13,
      "outputs": [
        {
          "output_type": "execute_result",
          "data": {
            "text/html": [
              "<div>\n",
              "<style scoped>\n",
              "    .dataframe tbody tr th:only-of-type {\n",
              "        vertical-align: middle;\n",
              "    }\n",
              "\n",
              "    .dataframe tbody tr th {\n",
              "        vertical-align: top;\n",
              "    }\n",
              "\n",
              "    .dataframe thead th {\n",
              "        text-align: right;\n",
              "    }\n",
              "</style>\n",
              "<table border=\"1\" class=\"dataframe\">\n",
              "  <thead>\n",
              "    <tr style=\"text-align: right;\">\n",
              "      <th></th>\n",
              "      <th>target</th>\n",
              "      <th>text</th>\n",
              "      <th>clean_tweet</th>\n",
              "      <th>tokens</th>\n",
              "      <th>clean_tweet_final</th>\n",
              "    </tr>\n",
              "  </thead>\n",
              "  <tbody>\n",
              "    <tr>\n",
              "      <th>0</th>\n",
              "      <td>0</td>\n",
              "      <td>@switchfoot http://twitpic.com/2y1zl - Awww, t...</td>\n",
              "      <td>awww bummer shoulda got david carr third day</td>\n",
              "      <td>[awww, bummer, shoulda, got, david, carr, thir...</td>\n",
              "      <td>awww bummer shoulda got david carr third day</td>\n",
              "    </tr>\n",
              "    <tr>\n",
              "      <th>1</th>\n",
              "      <td>0</td>\n",
              "      <td>is upset that he can't update his Facebook by ...</td>\n",
              "      <td>upset update facebook texting might cry result...</td>\n",
              "      <td>[upset, updat, facebook, text, might, cri, res...</td>\n",
              "      <td>upset updat facebook text might cri result sch...</td>\n",
              "    </tr>\n",
              "    <tr>\n",
              "      <th>2</th>\n",
              "      <td>0</td>\n",
              "      <td>@Kenichan I dived many times for the ball. Man...</td>\n",
              "      <td>dived many times ball managed save rest go bounds</td>\n",
              "      <td>[dive, mani, time, ball, manag, save, rest, go...</td>\n",
              "      <td>dive mani time ball manag save rest go bound</td>\n",
              "    </tr>\n",
              "    <tr>\n",
              "      <th>3</th>\n",
              "      <td>0</td>\n",
              "      <td>my whole body feels itchy and like its on fire</td>\n",
              "      <td>whole body feels itchy like fire</td>\n",
              "      <td>[whole, bodi, feel, itchi, like, fire]</td>\n",
              "      <td>whole bodi feel itchi like fire</td>\n",
              "    </tr>\n",
              "    <tr>\n",
              "      <th>4</th>\n",
              "      <td>0</td>\n",
              "      <td>@nationwideclass no, it's not behaving at all....</td>\n",
              "      <td>behaving mad see</td>\n",
              "      <td>[behav, mad, see]</td>\n",
              "      <td>behav mad see</td>\n",
              "    </tr>\n",
              "    <tr>\n",
              "      <th>...</th>\n",
              "      <td>...</td>\n",
              "      <td>...</td>\n",
              "      <td>...</td>\n",
              "      <td>...</td>\n",
              "      <td>...</td>\n",
              "    </tr>\n",
              "    <tr>\n",
              "      <th>1599995</th>\n",
              "      <td>4</td>\n",
              "      <td>Just woke up. Having no school is the best fee...</td>\n",
              "      <td>woke school best feeling ever</td>\n",
              "      <td>[woke, school, best, feel, ever]</td>\n",
              "      <td>woke school best feel ever</td>\n",
              "    </tr>\n",
              "    <tr>\n",
              "      <th>1599996</th>\n",
              "      <td>4</td>\n",
              "      <td>TheWDB.com - Very cool to hear old Walt interv...</td>\n",
              "      <td>thewdb com cool hear old walt interviews</td>\n",
              "      <td>[thewdb, com, cool, hear, old, walt, interview]</td>\n",
              "      <td>thewdb com cool hear old walt interview</td>\n",
              "    </tr>\n",
              "    <tr>\n",
              "      <th>1599997</th>\n",
              "      <td>4</td>\n",
              "      <td>Are you ready for your MoJo Makeover? Ask me f...</td>\n",
              "      <td>ready mojo makeover ask details</td>\n",
              "      <td>[readi, mojo, makeov, ask, detail]</td>\n",
              "      <td>readi mojo makeov ask detail</td>\n",
              "    </tr>\n",
              "    <tr>\n",
              "      <th>1599998</th>\n",
              "      <td>4</td>\n",
              "      <td>Happy 38th Birthday to my boo of alll time!!! ...</td>\n",
              "      <td>happy th birthday boo alll time tupac amaru sh...</td>\n",
              "      <td>[happi, th, birthday, boo, alll, time, tupac, ...</td>\n",
              "      <td>happi th birthday boo alll time tupac amaru sh...</td>\n",
              "    </tr>\n",
              "    <tr>\n",
              "      <th>1599999</th>\n",
              "      <td>4</td>\n",
              "      <td>happy #charitytuesday @theNSPCC @SparksCharity...</td>\n",
              "      <td>happy</td>\n",
              "      <td>[happi]</td>\n",
              "      <td>happi</td>\n",
              "    </tr>\n",
              "  </tbody>\n",
              "</table>\n",
              "<p>1600000 rows × 5 columns</p>\n",
              "</div>"
            ],
            "text/plain": [
              "         target  ...                                  clean_tweet_final\n",
              "0             0  ...       awww bummer shoulda got david carr third day\n",
              "1             0  ...  upset updat facebook text might cri result sch...\n",
              "2             0  ...       dive mani time ball manag save rest go bound\n",
              "3             0  ...                    whole bodi feel itchi like fire\n",
              "4             0  ...                                      behav mad see\n",
              "...         ...  ...                                                ...\n",
              "1599995       4  ...                         woke school best feel ever\n",
              "1599996       4  ...            thewdb com cool hear old walt interview\n",
              "1599997       4  ...                       readi mojo makeov ask detail\n",
              "1599998       4  ...  happi th birthday boo alll time tupac amaru sh...\n",
              "1599999       4  ...                                              happi\n",
              "\n",
              "[1600000 rows x 5 columns]"
            ]
          },
          "metadata": {
            "tags": []
          },
          "execution_count": 13
        }
      ]
    },
    {
      "cell_type": "code",
      "metadata": {
        "id": "NFaJ2zb09FNW",
        "colab": {
          "base_uri": "https://localhost:8080/",
          "height": 573
        },
        "outputId": "5e884c8c-9eab-43c4-f766-7c8884690f0b"
      },
      "source": [
        "# Put label = 4 to 1 for better reading\r\n",
        "df['target'][df['target']==4]=1\r\n",
        "\r\n",
        "# and put pos and neg in data_pos and data_neg\r\n",
        "#data_pos_full from 800000 to 1599999\r\n",
        "data_pos = df[df['target'] == 1]\r\n",
        "#data_neg_full from 0 to 799999\r\n",
        "data_neg = df[df['target'] == 0]\r\n",
        "\r\n",
        "# for training, keep only 20000 elements of neg and pos\r\n",
        "data_neg_test = data_neg.iloc[:int(40000)] # 20000 first neg tweets\r\n",
        "data_pos_test = data_pos.iloc[:int(40000)] # 20000 first pos tweets\r\n",
        "\r\n",
        "\r\n",
        "\r\n",
        "# For tests we keep only 40000 elements\r\n",
        "data = pd.concat([data_neg_test, data_pos_test]);\r\n",
        "\r\n",
        "data=data[['clean_tweet_final', 'target']]\r\n",
        "data"
      ],
      "execution_count": 183,
      "outputs": [
        {
          "output_type": "stream",
          "text": [
            "/usr/local/lib/python3.7/dist-packages/ipykernel_launcher.py:2: SettingWithCopyWarning: \n",
            "A value is trying to be set on a copy of a slice from a DataFrame\n",
            "\n",
            "See the caveats in the documentation: https://pandas.pydata.org/pandas-docs/stable/user_guide/indexing.html#returning-a-view-versus-a-copy\n",
            "  \n",
            "/usr/local/lib/python3.7/dist-packages/pandas/core/series.py:1021: SettingWithCopyWarning: \n",
            "A value is trying to be set on a copy of a slice from a DataFrame\n",
            "\n",
            "See the caveats in the documentation: https://pandas.pydata.org/pandas-docs/stable/user_guide/indexing.html#returning-a-view-versus-a-copy\n",
            "  self._where(~key, value, inplace=True)\n"
          ],
          "name": "stderr"
        },
        {
          "output_type": "execute_result",
          "data": {
            "text/html": [
              "<div>\n",
              "<style scoped>\n",
              "    .dataframe tbody tr th:only-of-type {\n",
              "        vertical-align: middle;\n",
              "    }\n",
              "\n",
              "    .dataframe tbody tr th {\n",
              "        vertical-align: top;\n",
              "    }\n",
              "\n",
              "    .dataframe thead th {\n",
              "        text-align: right;\n",
              "    }\n",
              "</style>\n",
              "<table border=\"1\" class=\"dataframe\">\n",
              "  <thead>\n",
              "    <tr style=\"text-align: right;\">\n",
              "      <th></th>\n",
              "      <th>clean_tweet_final</th>\n",
              "      <th>target</th>\n",
              "    </tr>\n",
              "  </thead>\n",
              "  <tbody>\n",
              "    <tr>\n",
              "      <th>0</th>\n",
              "      <td>awww bummer shoulda got david carr third day</td>\n",
              "      <td>0</td>\n",
              "    </tr>\n",
              "    <tr>\n",
              "      <th>1</th>\n",
              "      <td>upset updat facebook text might cri result sch...</td>\n",
              "      <td>0</td>\n",
              "    </tr>\n",
              "    <tr>\n",
              "      <th>2</th>\n",
              "      <td>dive mani time ball manag save rest go bound</td>\n",
              "      <td>0</td>\n",
              "    </tr>\n",
              "    <tr>\n",
              "      <th>3</th>\n",
              "      <td>whole bodi feel itchi like fire</td>\n",
              "      <td>0</td>\n",
              "    </tr>\n",
              "    <tr>\n",
              "      <th>4</th>\n",
              "      <td>behav mad see</td>\n",
              "      <td>0</td>\n",
              "    </tr>\n",
              "    <tr>\n",
              "      <th>...</th>\n",
              "      <td>...</td>\n",
              "      <td>...</td>\n",
              "    </tr>\n",
              "    <tr>\n",
              "      <th>839995</th>\n",
              "      <td>ofici done driver ed stuff wait june licens ri...</td>\n",
              "      <td>1</td>\n",
              "    </tr>\n",
              "    <tr>\n",
              "      <th>839996</th>\n",
              "      <td>thank share care glad like quot</td>\n",
              "      <td>1</td>\n",
              "    </tr>\n",
              "    <tr>\n",
              "      <th>839997</th>\n",
              "      <td>ok object sustain</td>\n",
              "      <td>1</td>\n",
              "    </tr>\n",
              "    <tr>\n",
              "      <th>839998</th>\n",
              "      <td>twittin babi girl sleep</td>\n",
              "      <td>1</td>\n",
              "    </tr>\n",
              "    <tr>\n",
              "      <th>839999</th>\n",
              "      <td>facebook u share load myspac see promot celeb ...</td>\n",
              "      <td>1</td>\n",
              "    </tr>\n",
              "  </tbody>\n",
              "</table>\n",
              "<p>80000 rows × 2 columns</p>\n",
              "</div>"
            ],
            "text/plain": [
              "                                        clean_tweet_final  target\n",
              "0            awww bummer shoulda got david carr third day       0\n",
              "1       upset updat facebook text might cri result sch...       0\n",
              "2            dive mani time ball manag save rest go bound       0\n",
              "3                         whole bodi feel itchi like fire       0\n",
              "4                                           behav mad see       0\n",
              "...                                                   ...     ...\n",
              "839995  ofici done driver ed stuff wait june licens ri...       1\n",
              "839996                    thank share care glad like quot       1\n",
              "839997                                  ok object sustain       1\n",
              "839998                            twittin babi girl sleep       1\n",
              "839999  facebook u share load myspac see promot celeb ...       1\n",
              "\n",
              "[80000 rows x 2 columns]"
            ]
          },
          "metadata": {
            "tags": []
          },
          "execution_count": 183
        }
      ]
    },
    {
      "cell_type": "code",
      "metadata": {
        "id": "_YPGPpqh2SFZ"
      },
      "source": [
        "#x = data.cleaned_tweet\r\n",
        "x = data.clean_tweet_final # input features\r\n",
        "y = data.target # label"
      ],
      "execution_count": 184,
      "outputs": []
    },
    {
      "cell_type": "code",
      "metadata": {
        "id": "nbn1eRgt4vqO",
        "colab": {
          "base_uri": "https://localhost:8080/"
        },
        "outputId": "3c476297-8f0c-4f36-b5e7-e004856c0cb8"
      },
      "source": [
        "max_len = 500\r\n",
        "tokenizer = Tokenizer(num_words=2000)\r\n",
        "tokenizer.fit_on_texts(x)\r\n",
        "sequences = tokenizer.texts_to_sequences(x)\r\n",
        "sequences_matrix = sequence.pad_sequences(sequences,maxlen=max_len)\r\n",
        "\r\n",
        "vocab_size = len(tokenizer.word_index)\r\n",
        "print(\"Total words\", vocab_size)\r\n",
        "print(\"Matrix shape\", sequences_matrix.shape)\r\n"
      ],
      "execution_count": 185,
      "outputs": [
        {
          "output_type": "stream",
          "text": [
            "Total words 33555\n",
            "Matrix shape (80000, 500)\n"
          ],
          "name": "stdout"
        }
      ]
    },
    {
      "cell_type": "code",
      "metadata": {
        "id": "fAfR3MmH40sg",
        "colab": {
          "base_uri": "https://localhost:8080/"
        },
        "outputId": "eb7bccf1-59bd-4f6f-cf06-8ea9d47d010e"
      },
      "source": [
        "x_train, x_test, y_train, y_test = train_test_split(sequences_matrix, y, test_size=0.3, random_state=2) # create train and test data\r\n",
        "#x_train = pad_sequences(tokenizer.texts_to_sequences(train_data.clean_tweet_final), maxlen=400)\r\n",
        "#x_test = pad_sequences(tokenizer.texts_to_sequences(test_data.clean_tweet_final), maxlen=400)\r\n",
        "#y_train = y_train.values.reshape(-1,1)\r\n",
        "#y_test = y_test.values.reshape(-1,1)\r\n",
        "\r\n",
        "print(\"x_train : \" + str(x_train.shape))\r\n",
        "print(\"y_train : \" + str(y_train.shape))\r\n",
        "print(\"x_test : \" + str(x_test.shape))\r\n",
        "print(\"y_test : \" + str(y_test.shape))"
      ],
      "execution_count": 186,
      "outputs": [
        {
          "output_type": "stream",
          "text": [
            "x_train : (56000, 500)\n",
            "y_train : (56000,)\n",
            "x_test : (24000, 500)\n",
            "y_test : (24000,)\n"
          ],
          "name": "stdout"
        }
      ]
    },
    {
      "cell_type": "code",
      "metadata": {
        "id": "SW-x78vv7XrI"
      },
      "source": [
        "def model1(): # Pour entrainer le modèle on utilise la fonction tensorflow_based_model\r\n",
        "    inputs = Input(name='inputs',shape=[max_len])# etape 1\r\n",
        "    layer = Embedding(2000,50,input_length=max_len)(inputs) # etape 2\r\n",
        "    layer = LSTM(64)(layer) # etape3\r\n",
        "    layer = Dense(256,name='FC1')(layer) # etape 4\r\n",
        "    layer = Activation('relu')(layer) # etape 5\r\n",
        "    layer = Dropout(0.5)(layer) # step6\r\n",
        "    layer = Dense(1,name='out_layer')(layer) # etape 4 encore, mais on donne seulement 1 sortie car il faut classer le tweet positif ou négatif\r\n",
        "    layer = Activation('sigmoid')(layer) # etape 5 encore mais la fonction d'activation est sigmoid pour une seule sortie\r\n",
        "    model = Model(inputs=inputs,outputs=layer) # Ici on obtient la sortie finale pour la classification\r\n",
        "    return model # on retourne la valeur"
      ],
      "execution_count": 187,
      "outputs": []
    },
    {
      "cell_type": "code",
      "metadata": {
        "id": "NjRGhgn5O0KW"
      },
      "source": [
        "from keras.models import Sequential\r\n",
        "def model2():\r\n",
        "  model = Sequential()\r\n",
        "  inputs = Input(name='inputs',shape=[max_len])\r\n",
        "  model.add(Embedding(2000,50,input_length=max_len))\r\n",
        "  model.add(LSTM(64))\r\n",
        "  model.add(Dense(512,name='FC1'))\r\n",
        "  model.add(Activation('relu'))\r\n",
        "  model.add(Dropout(0.75))\r\n",
        "  model.add(Dense(256,name='FC2'))\r\n",
        "  model.add(Activation('relu'))\r\n",
        "  model.add(Dropout(0.5))\r\n",
        "  model.add(Dense(128,name='FC3'))\r\n",
        "  model.add(Activation('relu'))\r\n",
        "  model.add(Dropout(0.5))\r\n",
        "  model.add(Dense(50, activation='softmax'))\r\n",
        "  model.add(Dense(1,name='out_layer'))\r\n",
        "  model.add(Activation('sigmoid'))\r\n",
        "\r\n",
        "  return model"
      ],
      "execution_count": 188,
      "outputs": []
    },
    {
      "cell_type": "code",
      "metadata": {
        "id": "ezCrKRBPCp5R"
      },
      "source": [
        "def model1LSTM():\r\n",
        "  model = Sequential()\r\n",
        "  embedding_layer = Embedding(sequences_matrix.shape[0], 500, weights=[sequences_matrix], input_length=max_len , trainable=False)\r\n",
        "  model.add(embedding_layer)\r\n",
        "  model.add(LSTM(128))\r\n",
        "\r\n",
        "  model.add(Dense(1, activation='sigmoid'))\r\n",
        "  model.compile(optimizer='adam', loss='binary_crossentropy', metrics=['accuracy'])  \r\n",
        "  return model"
      ],
      "execution_count": 237,
      "outputs": []
    },
    {
      "cell_type": "code",
      "metadata": {
        "id": "Fme7St6m8EnK"
      },
      "source": [
        "model = model1() # on crée notre modèle\r\n",
        "model.compile(loss='binary_crossentropy',optimizer='adam',metrics=['accuracy']) "
      ],
      "execution_count": 240,
      "outputs": []
    },
    {
      "cell_type": "code",
      "metadata": {
        "colab": {
          "base_uri": "https://localhost:8080/"
        },
        "id": "ZxFAvBj-8Gz_",
        "outputId": "f1df07ba-7088-432c-a58a-846d250a16ec"
      },
      "source": [
        "history=model.fit(x_train,y_train,batch_size=80,epochs=50, validation_split=0.1)# On entraine le modèle avec les données d'entraînement\r\n",
        "print('Entrainement terminé !')"
      ],
      "execution_count": 241,
      "outputs": [
        {
          "output_type": "stream",
          "text": [
            "Epoch 1/50\n",
            "630/630 [==============================] - 17s 25ms/step - loss: 0.5892 - accuracy: 0.6779 - val_loss: 0.5079 - val_accuracy: 0.7541\n",
            "Epoch 2/50\n",
            "630/630 [==============================] - 15s 24ms/step - loss: 0.4866 - accuracy: 0.7703 - val_loss: 0.5007 - val_accuracy: 0.7570\n",
            "Epoch 3/50\n",
            "630/630 [==============================] - 15s 24ms/step - loss: 0.4689 - accuracy: 0.7768 - val_loss: 0.5058 - val_accuracy: 0.7534\n",
            "Epoch 4/50\n",
            "630/630 [==============================] - 16s 25ms/step - loss: 0.4614 - accuracy: 0.7801 - val_loss: 0.5121 - val_accuracy: 0.7477\n",
            "Epoch 5/50\n",
            "630/630 [==============================] - 15s 25ms/step - loss: 0.4423 - accuracy: 0.7895 - val_loss: 0.5189 - val_accuracy: 0.7480\n",
            "Epoch 6/50\n",
            "630/630 [==============================] - 15s 25ms/step - loss: 0.4283 - accuracy: 0.7970 - val_loss: 0.5294 - val_accuracy: 0.7421\n",
            "Epoch 7/50\n",
            "630/630 [==============================] - 16s 25ms/step - loss: 0.4193 - accuracy: 0.8014 - val_loss: 0.5492 - val_accuracy: 0.7370\n",
            "Epoch 8/50\n",
            "630/630 [==============================] - 16s 25ms/step - loss: 0.4010 - accuracy: 0.8087 - val_loss: 0.5680 - val_accuracy: 0.7407\n",
            "Epoch 9/50\n",
            "630/630 [==============================] - 15s 25ms/step - loss: 0.3880 - accuracy: 0.8170 - val_loss: 0.5946 - val_accuracy: 0.7389\n",
            "Epoch 10/50\n",
            "630/630 [==============================] - 15s 24ms/step - loss: 0.3635 - accuracy: 0.8314 - val_loss: 0.6286 - val_accuracy: 0.7312\n",
            "Epoch 11/50\n",
            "630/630 [==============================] - 15s 24ms/step - loss: 0.3526 - accuracy: 0.8312 - val_loss: 0.6669 - val_accuracy: 0.7293\n",
            "Epoch 12/50\n",
            "630/630 [==============================] - 15s 24ms/step - loss: 0.3302 - accuracy: 0.8433 - val_loss: 0.7341 - val_accuracy: 0.7257\n",
            "Epoch 13/50\n",
            "630/630 [==============================] - 15s 24ms/step - loss: 0.3122 - accuracy: 0.8532 - val_loss: 0.7910 - val_accuracy: 0.7275\n",
            "Epoch 14/50\n",
            "630/630 [==============================] - 15s 24ms/step - loss: 0.3030 - accuracy: 0.8556 - val_loss: 0.8254 - val_accuracy: 0.7155\n",
            "Epoch 15/50\n",
            "630/630 [==============================] - 15s 25ms/step - loss: 0.2867 - accuracy: 0.8615 - val_loss: 0.9254 - val_accuracy: 0.7173\n",
            "Epoch 16/50\n",
            "630/630 [==============================] - 16s 25ms/step - loss: 0.2722 - accuracy: 0.8680 - val_loss: 1.0501 - val_accuracy: 0.7205\n",
            "Epoch 17/50\n",
            "630/630 [==============================] - 15s 25ms/step - loss: 0.2571 - accuracy: 0.8756 - val_loss: 1.1926 - val_accuracy: 0.7168\n",
            "Epoch 18/50\n",
            "630/630 [==============================] - 15s 25ms/step - loss: 0.2510 - accuracy: 0.8788 - val_loss: 1.1727 - val_accuracy: 0.7175\n",
            "Epoch 19/50\n",
            "630/630 [==============================] - 15s 25ms/step - loss: 0.2432 - accuracy: 0.8814 - val_loss: 1.2782 - val_accuracy: 0.7127\n",
            "Epoch 20/50\n",
            "630/630 [==============================] - 15s 25ms/step - loss: 0.2201 - accuracy: 0.8916 - val_loss: 1.5093 - val_accuracy: 0.7079\n",
            "Epoch 21/50\n",
            "630/630 [==============================] - 16s 25ms/step - loss: 0.2111 - accuracy: 0.8968 - val_loss: 1.6709 - val_accuracy: 0.7150\n",
            "Epoch 22/50\n",
            "630/630 [==============================] - 16s 25ms/step - loss: 0.2066 - accuracy: 0.8984 - val_loss: 1.6387 - val_accuracy: 0.7107\n",
            "Epoch 23/50\n",
            "630/630 [==============================] - 15s 25ms/step - loss: 0.1946 - accuracy: 0.9068 - val_loss: 1.7955 - val_accuracy: 0.7018\n",
            "Epoch 24/50\n",
            "630/630 [==============================] - 16s 25ms/step - loss: 0.1852 - accuracy: 0.9089 - val_loss: 1.9916 - val_accuracy: 0.7114\n",
            "Epoch 25/50\n",
            "630/630 [==============================] - 15s 24ms/step - loss: 0.1776 - accuracy: 0.9105 - val_loss: 2.1385 - val_accuracy: 0.7155\n",
            "Epoch 26/50\n",
            "630/630 [==============================] - 15s 24ms/step - loss: 0.1738 - accuracy: 0.9144 - val_loss: 2.1350 - val_accuracy: 0.7105\n",
            "Epoch 27/50\n",
            "630/630 [==============================] - 15s 24ms/step - loss: 0.1622 - accuracy: 0.9180 - val_loss: 2.2880 - val_accuracy: 0.7030\n",
            "Epoch 28/50\n",
            "630/630 [==============================] - 15s 24ms/step - loss: 0.1590 - accuracy: 0.9201 - val_loss: 2.2905 - val_accuracy: 0.7041\n",
            "Epoch 29/50\n",
            "630/630 [==============================] - 15s 24ms/step - loss: 0.1578 - accuracy: 0.9199 - val_loss: 2.5035 - val_accuracy: 0.7039\n",
            "Epoch 30/50\n",
            "630/630 [==============================] - 15s 24ms/step - loss: 0.1512 - accuracy: 0.9239 - val_loss: 2.3021 - val_accuracy: 0.7011\n",
            "Epoch 31/50\n",
            "630/630 [==============================] - 15s 24ms/step - loss: 0.1510 - accuracy: 0.9253 - val_loss: 2.6862 - val_accuracy: 0.7043\n",
            "Epoch 32/50\n",
            "630/630 [==============================] - 15s 24ms/step - loss: 0.1384 - accuracy: 0.9298 - val_loss: 2.6539 - val_accuracy: 0.7054\n",
            "Epoch 33/50\n",
            "630/630 [==============================] - 15s 24ms/step - loss: 0.1401 - accuracy: 0.9312 - val_loss: 2.7348 - val_accuracy: 0.6986\n",
            "Epoch 34/50\n",
            "630/630 [==============================] - 15s 24ms/step - loss: 0.1292 - accuracy: 0.9360 - val_loss: 2.8998 - val_accuracy: 0.7095\n",
            "Epoch 35/50\n",
            "630/630 [==============================] - 15s 24ms/step - loss: 0.1322 - accuracy: 0.9362 - val_loss: 2.7769 - val_accuracy: 0.7007\n",
            "Epoch 36/50\n",
            "630/630 [==============================] - 15s 24ms/step - loss: 0.1222 - accuracy: 0.9370 - val_loss: 3.1846 - val_accuracy: 0.7029\n",
            "Epoch 37/50\n",
            "630/630 [==============================] - 15s 24ms/step - loss: 0.1236 - accuracy: 0.9403 - val_loss: 2.8630 - val_accuracy: 0.7061\n",
            "Epoch 38/50\n",
            "630/630 [==============================] - 15s 24ms/step - loss: 0.1210 - accuracy: 0.9409 - val_loss: 3.0287 - val_accuracy: 0.7029\n",
            "Epoch 39/50\n",
            "630/630 [==============================] - 15s 24ms/step - loss: 0.1177 - accuracy: 0.9419 - val_loss: 3.1666 - val_accuracy: 0.6980\n",
            "Epoch 40/50\n",
            "630/630 [==============================] - 15s 24ms/step - loss: 0.1108 - accuracy: 0.9448 - val_loss: 3.1467 - val_accuracy: 0.7000\n",
            "Epoch 41/50\n",
            "630/630 [==============================] - 15s 24ms/step - loss: 0.1071 - accuracy: 0.9477 - val_loss: 3.0693 - val_accuracy: 0.7032\n",
            "Epoch 42/50\n",
            "630/630 [==============================] - 15s 24ms/step - loss: 0.1129 - accuracy: 0.9437 - val_loss: 3.3356 - val_accuracy: 0.6993\n",
            "Epoch 43/50\n",
            "630/630 [==============================] - 16s 25ms/step - loss: 0.1007 - accuracy: 0.9502 - val_loss: 3.5087 - val_accuracy: 0.7091\n",
            "Epoch 44/50\n",
            "630/630 [==============================] - 16s 25ms/step - loss: 0.1054 - accuracy: 0.9499 - val_loss: 3.4113 - val_accuracy: 0.6982\n",
            "Epoch 45/50\n",
            "630/630 [==============================] - 16s 25ms/step - loss: 0.1021 - accuracy: 0.9506 - val_loss: 3.5693 - val_accuracy: 0.7029\n",
            "Epoch 46/50\n",
            "630/630 [==============================] - 16s 25ms/step - loss: 0.0968 - accuracy: 0.9525 - val_loss: 3.6327 - val_accuracy: 0.7107\n",
            "Epoch 47/50\n",
            "630/630 [==============================] - 15s 25ms/step - loss: 0.0995 - accuracy: 0.9530 - val_loss: 3.5691 - val_accuracy: 0.7007\n",
            "Epoch 48/50\n",
            "630/630 [==============================] - 15s 24ms/step - loss: 0.0949 - accuracy: 0.9529 - val_loss: 3.6352 - val_accuracy: 0.7073\n",
            "Epoch 49/50\n",
            "630/630 [==============================] - 15s 24ms/step - loss: 0.0933 - accuracy: 0.9538 - val_loss: 3.6329 - val_accuracy: 0.7038\n",
            "Epoch 50/50\n",
            "630/630 [==============================] - 15s 24ms/step - loss: 0.0908 - accuracy: 0.9559 - val_loss: 3.7438 - val_accuracy: 0.7075\n",
            "Entrainement terminé !\n"
          ],
          "name": "stdout"
        }
      ]
    },
    {
      "cell_type": "code",
      "metadata": {
        "id": "yYZwoFrWQMuA"
      },
      "source": [
        "def plot_model_history(model_history):\r\n",
        "    fig, axs = plt.subplots(1,2,figsize=(15,5))\r\n",
        "    # summarize history for accuracy\r\n",
        "    axs[0].plot(range(1,len(model_history.history['accuracy'])+1),model_history.history['accuracy'])\r\n",
        "    axs[0].plot(range(1,len(model_history.history['val_accuracy'])+1),model_history.history['val_accuracy'])\r\n",
        "    axs[0].set_title('Model Accuracy')\r\n",
        "    axs[0].set_ylabel('Accuracy')\r\n",
        "    axs[0].set_xlabel('Epoch')\r\n",
        "    axs[0].set_xticks(np.arange(1,len(model_history.history['accuracy'])+1),len(model_history.history['accuracy'])/10)\r\n",
        "    axs[0].legend(['train', 'val'], loc='best')\r\n",
        "    # summarize history for loss\r\n",
        "    axs[1].plot(range(1,len(model_history.history['loss'])+1),model_history.history['loss'])\r\n",
        "    axs[1].plot(range(1,len(model_history.history['val_loss'])+1),model_history.history['val_loss'])\r\n",
        "    axs[1].set_title('Model Loss')\r\n",
        "    axs[1].set_ylabel('Loss')\r\n",
        "    axs[1].set_xlabel('Epoch')\r\n",
        "    axs[1].set_xticks(np.arange(1,len(model_history.history['loss'])+1),len(model_history.history['loss'])/10)\r\n",
        "    axs[1].legend(['train', 'val'], loc='best')\r\n",
        "    plt.show()"
      ],
      "execution_count": 242,
      "outputs": []
    },
    {
      "cell_type": "code",
      "metadata": {
        "colab": {
          "base_uri": "https://localhost:8080/",
          "height": 420
        },
        "id": "6gU0D72mQGZj",
        "outputId": "4037b973-9062-4b71-e055-47c1ed18d41e"
      },
      "source": [
        "plot_model_history(history)"
      ],
      "execution_count": 243,
      "outputs": [
        {
          "output_type": "stream",
          "text": [
            "/usr/local/lib/python3.7/dist-packages/ipykernel_launcher.py:9: MatplotlibDeprecationWarning: Passing the minor parameter of set_xticks() positionally is deprecated since Matplotlib 3.2; the parameter will become keyword-only two minor releases later.\n",
            "  if __name__ == '__main__':\n",
            "/usr/local/lib/python3.7/dist-packages/ipykernel_launcher.py:17: MatplotlibDeprecationWarning: Passing the minor parameter of set_xticks() positionally is deprecated since Matplotlib 3.2; the parameter will become keyword-only two minor releases later.\n"
          ],
          "name": "stderr"
        },
        {
          "output_type": "display_data",
          "data": {
            "image/png": "[encoded data removed]",
            "text/plain": [
              "<Figure size 1080x360 with 2 Axes>"
            ]
          },
          "metadata": {
            "tags": [],
            "needs_background": "light"
          }
        }
      ]
    },
    {
      "cell_type": "code",
      "metadata": {
        "colab": {
          "base_uri": "https://localhost:8080/"
        },
        "id": "0UKxY4gm8kmT",
        "outputId": "c6adb16b-1797-4eeb-c98b-8b08487a0997"
      },
      "source": [
        "score = model.evaluate(x_test, y_test)\r\n",
        "print(\"Accuracy :\",score[1]) # précision du modèle"
      ],
      "execution_count": 244,
      "outputs": [
        {
          "output_type": "stream",
          "text": [
            "750/750 [==============================] - 7s 8ms/step - loss: 3.7636 - accuracy: 0.7019\n",
            "Accuracy : 0.7019166946411133\n"
          ],
          "name": "stdout"
        }
      ]
    },
    {
      "cell_type": "code",
      "metadata": {
        "id": "Ls4Plawbnyu3"
      },
      "source": [
        "def get_sentiment(score):\r\n",
        "  if score < 0.5 :\r\n",
        "    return \"Negative sentiment\"\r\n",
        "  else : \r\n",
        "    return \"Positive sentiment\""
      ],
      "execution_count": 245,
      "outputs": []
    },
    {
      "cell_type": "code",
      "metadata": {
        "id": "ULk1QW0zoXUn"
      },
      "source": [
        "def predict(text):\r\n",
        "    # Tokenize text\r\n",
        "    x_test = pad_sequences(tokenizer.texts_to_sequences([text]), maxlen=max_len)\r\n",
        "    # Predict\r\n",
        "    score = model.predict([x_test])[0]\r\n",
        "    # Decode sentiment\r\n",
        "    label = get_sentiment(score)\r\n",
        "\r\n",
        "    return {\"label\": label, \"score\": float(score)}"
      ],
      "execution_count": 246,
      "outputs": []
    },
    {
      "cell_type": "code",
      "metadata": {
        "colab": {
          "base_uri": "https://localhost:8080/"
        },
        "id": "-ZIMdhE1opRY",
        "outputId": "4d5e2205-1e03-4bbd-8a3a-1bb5deae538f"
      },
      "source": [
        "predict(\"I loved the burger\")"
      ],
      "execution_count": 247,
      "outputs": [
        {
          "output_type": "execute_result",
          "data": {
            "text/plain": [
              "{'label': 'Positive sentiment', 'score': 1.0}"
            ]
          },
          "metadata": {
            "tags": []
          },
          "execution_count": 247
        }
      ]
    },
    {
      "cell_type": "code",
      "metadata": {
        "colab": {
          "base_uri": "https://localhost:8080/"
        },
        "id": "wH-xUz8borOQ",
        "outputId": "bbe43ec9-9f04-47b8-bfa5-6d3a4a9beb02"
      },
      "source": [
        "predict(\"Covid is a really sad period\")"
      ],
      "execution_count": 249,
      "outputs": [
        {
          "output_type": "execute_result",
          "data": {
            "text/plain": [
              "{'label': 'Negative sentiment', 'score': 2.4867020442798093e-07}"
            ]
          },
          "metadata": {
            "tags": []
          },
          "execution_count": 249
        }
      ]
    },
    {
      "cell_type": "code",
      "metadata": {
        "id": "OKVJWnBppnXs"
      },
      "source": [
        ""
      ],
      "execution_count": null,
      "outputs": []
    }
  ]
}