{
  "nbformat": 4,
  "nbformat_minor": 0,
  "metadata": {
    "colab": {
      "name": "Projet.ipynb",
      "provenance": [],
      "collapsed_sections": []
    },
    "kernelspec": {
      "name": "python3",
      "display_name": "Python 3"
    },
    "accelerator": "GPU"
  },
  "cells": [
    {
      "cell_type": "markdown",
      "metadata": {
        "id": "HASk0nJLgSbk"
      },
      "source": [
        "\r\n",
        "\r\n",
        "# Projet Natural Language Processing - Sentiment Analysis - Ghislain Sartorius\r\n",
        "\r\n",
        "\r\n"
      ]
    },
    {
      "cell_type": "markdown",
      "metadata": {
        "id": "ZaGbz-fwgL1w"
      },
      "source": [
        "\r\n",
        "\r\n",
        "# Organisation des étapes du code\r\n",
        "I. Importation des données\r\n",
        "\r\n",
        "II. Prétraitement des données\r\n",
        "\r\n",
        "III.\tPréparation des données pour l’entraînement\r\n",
        "\r\n",
        "IV.\tCréation du modèle, entraînement\r\n",
        "\r\n",
        "V.\tTests de prédiction\r\n",
        "\r\n",
        "\r\n"
      ]
    },
    {
      "cell_type": "markdown",
      "metadata": {
        "id": "yaNnroOjgW72"
      },
      "source": [
        "\r\n",
        "On importe les différents modules que nous allons utiliser : tensorflow, numpy, pandas, etc..\r\n",
        "Pour la création de notre modèle, nous utilisons des layers de keras\r\n",
        "\r\n",
        "Nous utilisons aussi des fonctions (sequence, pad_sequences, etc) de keras pour transformer nos phrases en vecteurs (explications plus bas)"
      ]
    },
    {
      "cell_type": "code",
      "metadata": {
        "colab": {
          "base_uri": "https://localhost:8080/"
        },
        "id": "xwR0Ea50w_qy",
        "outputId": "5eaf0852-82da-43f9-9f91-f254dfe05d4d"
      },
      "source": [
        "import tensorflow as tf\r\n",
        "from tensorflow import keras\r\n",
        "from tensorflow.keras import preprocessing\r\n",
        "import numpy as np\r\n",
        "import pandas as pd\r\n",
        "import matplotlib.pyplot as plt\r\n",
        "import nltk\r\n",
        "\r\n",
        "from keras.models import Sequential\r\n",
        "from keras.layers import LSTM, Activation, Dense, Dropout, Input, Embedding\r\n",
        "from keras.preprocessing.text import Tokenizer\r\n",
        "from keras.preprocessing import sequence\r\n",
        "from keras.preprocessing.sequence import pad_sequences\r\n",
        "from sklearn.model_selection import train_test_split\r\n",
        "from tensorflow.keras.models import Model\r\n",
        "\r\n",
        "nltk.download('punkt')\r\n",
        "nltk.download('stopwords')\r\n",
        "nltk.download('wordnet')\r\n",
        "nltk.download('averaged_perceptron_tagger')"
      ],
      "execution_count": 170,
      "outputs": [
        {
          "output_type": "stream",
          "text": [
            "[nltk_data] Downloading package punkt to /root/nltk_data...\n",
            "[nltk_data]   Package punkt is already up-to-date!\n",
            "[nltk_data] Downloading package stopwords to /root/nltk_data...\n",
            "[nltk_data]   Package stopwords is already up-to-date!\n",
            "[nltk_data] Downloading package wordnet to /root/nltk_data...\n",
            "[nltk_data]   Package wordnet is already up-to-date!\n",
            "[nltk_data] Downloading package averaged_perceptron_tagger to\n",
            "[nltk_data]     /root/nltk_data...\n",
            "[nltk_data]   Package averaged_perceptron_tagger is already up-to-\n",
            "[nltk_data]       date!\n"
          ],
          "name": "stdout"
        },
        {
          "output_type": "execute_result",
          "data": {
            "text/plain": [
              "True"
            ]
          },
          "metadata": {
            "tags": []
          },
          "execution_count": 170
        }
      ]
    },
    {
      "cell_type": "code",
      "metadata": {
        "colab": {
          "base_uri": "https://localhost:8080/"
        },
        "id": "fHwQ9BSDxBOv",
        "outputId": "c2f96f2d-9773-43ba-f226-cb9599915259"
      },
      "source": [
        "from google.colab import drive\r\n",
        "drive.mount('/content/gdrive/')"
      ],
      "execution_count": 171,
      "outputs": [
        {
          "output_type": "stream",
          "text": [
            "Drive already mounted at /content/gdrive/; to attempt to forcibly remount, call drive.mount(\"/content/gdrive/\", force_remount=True).\n"
          ],
          "name": "stdout"
        }
      ]
    },
    {
      "cell_type": "markdown",
      "metadata": {
        "id": "eg5XYt-Ajfyk"
      },
      "source": [
        "# I. Importation des données\r\n",
        "On importe le jeu de données disponnible sur le drive (changer le chemin pour le faire fonctionner)"
      ]
    },
    {
      "cell_type": "code",
      "metadata": {
        "id": "CWgf93kaxMLm"
      },
      "source": [
        "df = pd.read_csv('gdrive/MyDrive/Colab Notebooks/Projet/training.1600000.processed.noemoticon.csv', encoding='latin-1', header=None)\r\n",
        "\r\n",
        "df.columns = ['target','id','date','flag','user','text']"
      ],
      "execution_count": 172,
      "outputs": []
    },
    {
      "cell_type": "markdown",
      "metadata": {
        "id": "v2nKqiDAjsgF"
      },
      "source": [
        "Et on visualise le jeu de données"
      ]
    },
    {
      "cell_type": "code",
      "metadata": {
        "colab": {
          "base_uri": "https://localhost:8080/",
          "height": 411
        },
        "id": "PfA01OFLySP4",
        "outputId": "a3267cc5-8594-41fc-c3d2-ff85edba72ba"
      },
      "source": [
        "#Visualize dataframe\r\n",
        "df"
      ],
      "execution_count": 173,
      "outputs": [
        {
          "output_type": "execute_result",
          "data": {
            "text/html": [
              "<div>\n",
              "<style scoped>\n",
              "    .dataframe tbody tr th:only-of-type {\n",
              "        vertical-align: middle;\n",
              "    }\n",
              "\n",
              "    .dataframe tbody tr th {\n",
              "        vertical-align: top;\n",
              "    }\n",
              "\n",
              "    .dataframe thead th {\n",
              "        text-align: right;\n",
              "    }\n",
              "</style>\n",
              "<table border=\"1\" class=\"dataframe\">\n",
              "  <thead>\n",
              "    <tr style=\"text-align: right;\">\n",
              "      <th></th>\n",
              "      <th>target</th>\n",
              "      <th>id</th>\n",
              "      <th>date</th>\n",
              "      <th>flag</th>\n",
              "      <th>user</th>\n",
              "      <th>text</th>\n",
              "    </tr>\n",
              "  </thead>\n",
              "  <tbody>\n",
              "    <tr>\n",
              "      <th>0</th>\n",
              "      <td>0</td>\n",
              "      <td>1467810369</td>\n",
              "      <td>Mon Apr 06 22:19:45 PDT 2009</td>\n",
              "      <td>NO_QUERY</td>\n",
              "      <td>_TheSpecialOne_</td>\n",
              "      <td>@switchfoot http://twitpic.com/2y1zl - Awww, t...</td>\n",
              "    </tr>\n",
              "    <tr>\n",
              "      <th>1</th>\n",
              "      <td>0</td>\n",
              "      <td>1467810672</td>\n",
              "      <td>Mon Apr 06 22:19:49 PDT 2009</td>\n",
              "      <td>NO_QUERY</td>\n",
              "      <td>scotthamilton</td>\n",
              "      <td>is upset that he can't update his Facebook by ...</td>\n",
              "    </tr>\n",
              "    <tr>\n",
              "      <th>2</th>\n",
              "      <td>0</td>\n",
              "      <td>1467810917</td>\n",
              "      <td>Mon Apr 06 22:19:53 PDT 2009</td>\n",
              "      <td>NO_QUERY</td>\n",
              "      <td>mattycus</td>\n",
              "      <td>@Kenichan I dived many times for the ball. Man...</td>\n",
              "    </tr>\n",
              "    <tr>\n",
              "      <th>3</th>\n",
              "      <td>0</td>\n",
              "      <td>1467811184</td>\n",
              "      <td>Mon Apr 06 22:19:57 PDT 2009</td>\n",
              "      <td>NO_QUERY</td>\n",
              "      <td>ElleCTF</td>\n",
              "      <td>my whole body feels itchy and like its on fire</td>\n",
              "    </tr>\n",
              "    <tr>\n",
              "      <th>4</th>\n",
              "      <td>0</td>\n",
              "      <td>1467811193</td>\n",
              "      <td>Mon Apr 06 22:19:57 PDT 2009</td>\n",
              "      <td>NO_QUERY</td>\n",
              "      <td>Karoli</td>\n",
              "      <td>@nationwideclass no, it's not behaving at all....</td>\n",
              "    </tr>\n",
              "    <tr>\n",
              "      <th>...</th>\n",
              "      <td>...</td>\n",
              "      <td>...</td>\n",
              "      <td>...</td>\n",
              "      <td>...</td>\n",
              "      <td>...</td>\n",
              "      <td>...</td>\n",
              "    </tr>\n",
              "    <tr>\n",
              "      <th>1599995</th>\n",
              "      <td>4</td>\n",
              "      <td>2193601966</td>\n",
              "      <td>Tue Jun 16 08:40:49 PDT 2009</td>\n",
              "      <td>NO_QUERY</td>\n",
              "      <td>AmandaMarie1028</td>\n",
              "      <td>Just woke up. Having no school is the best fee...</td>\n",
              "    </tr>\n",
              "    <tr>\n",
              "      <th>1599996</th>\n",
              "      <td>4</td>\n",
              "      <td>2193601969</td>\n",
              "      <td>Tue Jun 16 08:40:49 PDT 2009</td>\n",
              "      <td>NO_QUERY</td>\n",
              "      <td>TheWDBoards</td>\n",
              "      <td>TheWDB.com - Very cool to hear old Walt interv...</td>\n",
              "    </tr>\n",
              "    <tr>\n",
              "      <th>1599997</th>\n",
              "      <td>4</td>\n",
              "      <td>2193601991</td>\n",
              "      <td>Tue Jun 16 08:40:49 PDT 2009</td>\n",
              "      <td>NO_QUERY</td>\n",
              "      <td>bpbabe</td>\n",
              "      <td>Are you ready for your MoJo Makeover? Ask me f...</td>\n",
              "    </tr>\n",
              "    <tr>\n",
              "      <th>1599998</th>\n",
              "      <td>4</td>\n",
              "      <td>2193602064</td>\n",
              "      <td>Tue Jun 16 08:40:49 PDT 2009</td>\n",
              "      <td>NO_QUERY</td>\n",
              "      <td>tinydiamondz</td>\n",
              "      <td>Happy 38th Birthday to my boo of alll time!!! ...</td>\n",
              "    </tr>\n",
              "    <tr>\n",
              "      <th>1599999</th>\n",
              "      <td>4</td>\n",
              "      <td>2193602129</td>\n",
              "      <td>Tue Jun 16 08:40:50 PDT 2009</td>\n",
              "      <td>NO_QUERY</td>\n",
              "      <td>RyanTrevMorris</td>\n",
              "      <td>happy #charitytuesday @theNSPCC @SparksCharity...</td>\n",
              "    </tr>\n",
              "  </tbody>\n",
              "</table>\n",
              "<p>1600000 rows × 6 columns</p>\n",
              "</div>"
            ],
            "text/plain": [
              "         target  ...                                               text\n",
              "0             0  ...  @switchfoot http://twitpic.com/2y1zl - Awww, t...\n",
              "1             0  ...  is upset that he can't update his Facebook by ...\n",
              "2             0  ...  @Kenichan I dived many times for the ball. Man...\n",
              "3             0  ...    my whole body feels itchy and like its on fire \n",
              "4             0  ...  @nationwideclass no, it's not behaving at all....\n",
              "...         ...  ...                                                ...\n",
              "1599995       4  ...  Just woke up. Having no school is the best fee...\n",
              "1599996       4  ...  TheWDB.com - Very cool to hear old Walt interv...\n",
              "1599997       4  ...  Are you ready for your MoJo Makeover? Ask me f...\n",
              "1599998       4  ...  Happy 38th Birthday to my boo of alll time!!! ...\n",
              "1599999       4  ...  happy #charitytuesday @theNSPCC @SparksCharity...\n",
              "\n",
              "[1600000 rows x 6 columns]"
            ]
          },
          "metadata": {
            "tags": []
          },
          "execution_count": 173
        }
      ]
    },
    {
      "cell_type": "markdown",
      "metadata": {
        "id": "vnwwOgGAjvcD"
      },
      "source": [
        "On peut voir qu'il y a 1600000 tweets, avec 6 colonnes (target(le sentiment), id du tweet, la date, flag, l'utilisateur qui a tweeté et le tweet (text))"
      ]
    },
    {
      "cell_type": "code",
      "metadata": {
        "colab": {
          "base_uri": "https://localhost:8080/"
        },
        "id": "xYojKMz2CZsB",
        "outputId": "5fdc5735-1af4-4674-db70-ac9ec56a96c7"
      },
      "source": [
        "print(\"Shape : \" + str(df.shape))\r\n",
        "print(\"Length : \" + str(len(df)))"
      ],
      "execution_count": 174,
      "outputs": [
        {
          "output_type": "stream",
          "text": [
            "Shape : (1600000, 6)\n",
            "Length : 1600000\n"
          ],
          "name": "stdout"
        }
      ]
    },
    {
      "cell_type": "markdown",
      "metadata": {
        "id": "0-J-yx5dkGDF"
      },
      "source": [
        "Le seules colonnes qui nous intéressent sont celles du sentiment et le texte, on ne garde donc que celles-là dans notre jeu de données"
      ]
    },
    {
      "cell_type": "code",
      "metadata": {
        "colab": {
          "base_uri": "https://localhost:8080/",
          "height": 411
        },
        "id": "Hq7pmekryb_C",
        "outputId": "a22c19da-5e8c-4de2-ab99-06d8e5fd4f80"
      },
      "source": [
        "# We keep only targets and text\r\n",
        "df = df[['target','text']]\r\n",
        "df"
      ],
      "execution_count": 175,
      "outputs": [
        {
          "output_type": "execute_result",
          "data": {
            "text/html": [
              "<div>\n",
              "<style scoped>\n",
              "    .dataframe tbody tr th:only-of-type {\n",
              "        vertical-align: middle;\n",
              "    }\n",
              "\n",
              "    .dataframe tbody tr th {\n",
              "        vertical-align: top;\n",
              "    }\n",
              "\n",
              "    .dataframe thead th {\n",
              "        text-align: right;\n",
              "    }\n",
              "</style>\n",
              "<table border=\"1\" class=\"dataframe\">\n",
              "  <thead>\n",
              "    <tr style=\"text-align: right;\">\n",
              "      <th></th>\n",
              "      <th>target</th>\n",
              "      <th>text</th>\n",
              "    </tr>\n",
              "  </thead>\n",
              "  <tbody>\n",
              "    <tr>\n",
              "      <th>0</th>\n",
              "      <td>0</td>\n",
              "      <td>@switchfoot http://twitpic.com/2y1zl - Awww, t...</td>\n",
              "    </tr>\n",
              "    <tr>\n",
              "      <th>1</th>\n",
              "      <td>0</td>\n",
              "      <td>is upset that he can't update his Facebook by ...</td>\n",
              "    </tr>\n",
              "    <tr>\n",
              "      <th>2</th>\n",
              "      <td>0</td>\n",
              "      <td>@Kenichan I dived many times for the ball. Man...</td>\n",
              "    </tr>\n",
              "    <tr>\n",
              "      <th>3</th>\n",
              "      <td>0</td>\n",
              "      <td>my whole body feels itchy and like its on fire</td>\n",
              "    </tr>\n",
              "    <tr>\n",
              "      <th>4</th>\n",
              "      <td>0</td>\n",
              "      <td>@nationwideclass no, it's not behaving at all....</td>\n",
              "    </tr>\n",
              "    <tr>\n",
              "      <th>...</th>\n",
              "      <td>...</td>\n",
              "      <td>...</td>\n",
              "    </tr>\n",
              "    <tr>\n",
              "      <th>1599995</th>\n",
              "      <td>4</td>\n",
              "      <td>Just woke up. Having no school is the best fee...</td>\n",
              "    </tr>\n",
              "    <tr>\n",
              "      <th>1599996</th>\n",
              "      <td>4</td>\n",
              "      <td>TheWDB.com - Very cool to hear old Walt interv...</td>\n",
              "    </tr>\n",
              "    <tr>\n",
              "      <th>1599997</th>\n",
              "      <td>4</td>\n",
              "      <td>Are you ready for your MoJo Makeover? Ask me f...</td>\n",
              "    </tr>\n",
              "    <tr>\n",
              "      <th>1599998</th>\n",
              "      <td>4</td>\n",
              "      <td>Happy 38th Birthday to my boo of alll time!!! ...</td>\n",
              "    </tr>\n",
              "    <tr>\n",
              "      <th>1599999</th>\n",
              "      <td>4</td>\n",
              "      <td>happy #charitytuesday @theNSPCC @SparksCharity...</td>\n",
              "    </tr>\n",
              "  </tbody>\n",
              "</table>\n",
              "<p>1600000 rows × 2 columns</p>\n",
              "</div>"
            ],
            "text/plain": [
              "         target                                               text\n",
              "0             0  @switchfoot http://twitpic.com/2y1zl - Awww, t...\n",
              "1             0  is upset that he can't update his Facebook by ...\n",
              "2             0  @Kenichan I dived many times for the ball. Man...\n",
              "3             0    my whole body feels itchy and like its on fire \n",
              "4             0  @nationwideclass no, it's not behaving at all....\n",
              "...         ...                                                ...\n",
              "1599995       4  Just woke up. Having no school is the best fee...\n",
              "1599996       4  TheWDB.com - Very cool to hear old Walt interv...\n",
              "1599997       4  Are you ready for your MoJo Makeover? Ask me f...\n",
              "1599998       4  Happy 38th Birthday to my boo of alll time!!! ...\n",
              "1599999       4  happy #charitytuesday @theNSPCC @SparksCharity...\n",
              "\n",
              "[1600000 rows x 2 columns]"
            ]
          },
          "metadata": {
            "tags": []
          },
          "execution_count": 175
        }
      ]
    },
    {
      "cell_type": "markdown",
      "metadata": {
        "id": "7D5IUpZHkRMB"
      },
      "source": [
        "# II. Préraitement des données\r\n",
        "Maintenant que nous avons ce qui nous intéresse, il va falloir traiter le texte\r\n",
        "\r\n",
        "On commence par la fonction clean_tweet, qui va permettre d'enlever les liens (www., http:://), les mentions (@user), les zones vides, ainsi que les hashtags\r\n",
        "\r\n",
        "On crée une nouvelle colonne dans notre dataframe, dans laquelle on mets le tweet \"nettoyé\""
      ]
    },
    {
      "cell_type": "code",
      "metadata": {
        "colab": {
          "base_uri": "https://localhost:8080/",
          "height": 518
        },
        "id": "hDwPIkJuv5TF",
        "outputId": "3dfc6b6b-253d-46d1-8394-e8fd8b46cd9c"
      },
      "source": [
        "import re\r\n",
        "def clean_tweet(text):\r\n",
        "    text = re.sub('((www\\.[^\\s]+)|(https?://[^\\s]+))',' ',text) #remove links\r\n",
        "    text = re.sub('@[^\\s]+',' ', text) #remove mentions\r\n",
        "    text = re.sub('[\\s]+', ' ', text) #remove blanks\r\n",
        "    text = re.sub(r'#([^\\s]+)', r' ', text) #remove #\r\n",
        "    return text\r\n",
        "df['clean_tweet'] = df.text.apply(clean_tweet)\r\n",
        "df"
      ],
      "execution_count": 176,
      "outputs": [
        {
          "output_type": "stream",
          "text": [
            "/usr/local/lib/python3.7/dist-packages/ipykernel_launcher.py:8: SettingWithCopyWarning: \n",
            "A value is trying to be set on a copy of a slice from a DataFrame.\n",
            "Try using .loc[row_indexer,col_indexer] = value instead\n",
            "\n",
            "See the caveats in the documentation: https://pandas.pydata.org/pandas-docs/stable/user_guide/indexing.html#returning-a-view-versus-a-copy\n",
            "  \n"
          ],
          "name": "stderr"
        },
        {
          "output_type": "execute_result",
          "data": {
            "text/html": [
              "<div>\n",
              "<style scoped>\n",
              "    .dataframe tbody tr th:only-of-type {\n",
              "        vertical-align: middle;\n",
              "    }\n",
              "\n",
              "    .dataframe tbody tr th {\n",
              "        vertical-align: top;\n",
              "    }\n",
              "\n",
              "    .dataframe thead th {\n",
              "        text-align: right;\n",
              "    }\n",
              "</style>\n",
              "<table border=\"1\" class=\"dataframe\">\n",
              "  <thead>\n",
              "    <tr style=\"text-align: right;\">\n",
              "      <th></th>\n",
              "      <th>target</th>\n",
              "      <th>text</th>\n",
              "      <th>clean_tweet</th>\n",
              "    </tr>\n",
              "  </thead>\n",
              "  <tbody>\n",
              "    <tr>\n",
              "      <th>0</th>\n",
              "      <td>0</td>\n",
              "      <td>@switchfoot http://twitpic.com/2y1zl - Awww, t...</td>\n",
              "      <td>- Awww, that's a bummer. You shoulda got Davi...</td>\n",
              "    </tr>\n",
              "    <tr>\n",
              "      <th>1</th>\n",
              "      <td>0</td>\n",
              "      <td>is upset that he can't update his Facebook by ...</td>\n",
              "      <td>is upset that he can't update his Facebook by ...</td>\n",
              "    </tr>\n",
              "    <tr>\n",
              "      <th>2</th>\n",
              "      <td>0</td>\n",
              "      <td>@Kenichan I dived many times for the ball. Man...</td>\n",
              "      <td>I dived many times for the ball. Managed to s...</td>\n",
              "    </tr>\n",
              "    <tr>\n",
              "      <th>3</th>\n",
              "      <td>0</td>\n",
              "      <td>my whole body feels itchy and like its on fire</td>\n",
              "      <td>my whole body feels itchy and like its on fire</td>\n",
              "    </tr>\n",
              "    <tr>\n",
              "      <th>4</th>\n",
              "      <td>0</td>\n",
              "      <td>@nationwideclass no, it's not behaving at all....</td>\n",
              "      <td>no, it's not behaving at all. i'm mad. why am...</td>\n",
              "    </tr>\n",
              "    <tr>\n",
              "      <th>...</th>\n",
              "      <td>...</td>\n",
              "      <td>...</td>\n",
              "      <td>...</td>\n",
              "    </tr>\n",
              "    <tr>\n",
              "      <th>1599995</th>\n",
              "      <td>4</td>\n",
              "      <td>Just woke up. Having no school is the best fee...</td>\n",
              "      <td>Just woke up. Having no school is the best fee...</td>\n",
              "    </tr>\n",
              "    <tr>\n",
              "      <th>1599996</th>\n",
              "      <td>4</td>\n",
              "      <td>TheWDB.com - Very cool to hear old Walt interv...</td>\n",
              "      <td>TheWDB.com - Very cool to hear old Walt interv...</td>\n",
              "    </tr>\n",
              "    <tr>\n",
              "      <th>1599997</th>\n",
              "      <td>4</td>\n",
              "      <td>Are you ready for your MoJo Makeover? Ask me f...</td>\n",
              "      <td>Are you ready for your MoJo Makeover? Ask me f...</td>\n",
              "    </tr>\n",
              "    <tr>\n",
              "      <th>1599998</th>\n",
              "      <td>4</td>\n",
              "      <td>Happy 38th Birthday to my boo of alll time!!! ...</td>\n",
              "      <td>Happy 38th Birthday to my boo of alll time!!! ...</td>\n",
              "    </tr>\n",
              "    <tr>\n",
              "      <th>1599999</th>\n",
              "      <td>4</td>\n",
              "      <td>happy #charitytuesday @theNSPCC @SparksCharity...</td>\n",
              "      <td>happy</td>\n",
              "    </tr>\n",
              "  </tbody>\n",
              "</table>\n",
              "<p>1600000 rows × 3 columns</p>\n",
              "</div>"
            ],
            "text/plain": [
              "         target  ...                                        clean_tweet\n",
              "0             0  ...   - Awww, that's a bummer. You shoulda got Davi...\n",
              "1             0  ...  is upset that he can't update his Facebook by ...\n",
              "2             0  ...   I dived many times for the ball. Managed to s...\n",
              "3             0  ...    my whole body feels itchy and like its on fire \n",
              "4             0  ...   no, it's not behaving at all. i'm mad. why am...\n",
              "...         ...  ...                                                ...\n",
              "1599995       4  ...  Just woke up. Having no school is the best fee...\n",
              "1599996       4  ...  TheWDB.com - Very cool to hear old Walt interv...\n",
              "1599997       4  ...  Are you ready for your MoJo Makeover? Ask me f...\n",
              "1599998       4  ...  Happy 38th Birthday to my boo of alll time!!! ...\n",
              "1599999       4  ...                                           happy   \n",
              "\n",
              "[1600000 rows x 3 columns]"
            ]
          },
          "metadata": {
            "tags": []
          },
          "execution_count": 176
        }
      ]
    },
    {
      "cell_type": "markdown",
      "metadata": {
        "id": "rIfvT-GulIbr"
      },
      "source": [
        "Ensuite, nous continuons le nettoyage des tweets en supprimant les ponctuations (on décide de ne garder que les lettres). Puis on mets toutes nos lettres en minuscule. Enfin, on supprime les stopwords. Les tweets étant en anglais, on utilise le dictionnaire de stopwords anglais.\r\n",
        "\r\n",
        "On remplace les tweets de la colonne clean_tweets par les nouveaux tweets"
      ]
    },
    {
      "cell_type": "code",
      "metadata": {
        "colab": {
          "base_uri": "https://localhost:8080/",
          "height": 518
        },
        "id": "AlNb1_73ydne",
        "outputId": "15b1595c-2062-44ef-e4b6-649791eb62f7"
      },
      "source": [
        "#Remove punctiations, numbers, uppercases letters and stopwords in tweets\r\n",
        "from nltk.corpus import stopwords\r\n",
        "stopWords = set(stopwords.words('english'))\r\n",
        "def remove_punct(text):\r\n",
        "    text = text.str.replace('[^a-zA-Z#]',' ') # keep only letters, if not a letter replace with space\r\n",
        "    text = text.str.lower() #remove uppercases letters\r\n",
        "    text = text.apply(lambda x: ' '.join(w for w in x.split() if w not in stopWords)) # remove stopwords\r\n",
        "    return text\r\n",
        "df['clean_tweet'] = remove_punct(df['clean_tweet'])\r\n",
        "df "
      ],
      "execution_count": 177,
      "outputs": [
        {
          "output_type": "stream",
          "text": [
            "/usr/local/lib/python3.7/dist-packages/ipykernel_launcher.py:9: SettingWithCopyWarning: \n",
            "A value is trying to be set on a copy of a slice from a DataFrame.\n",
            "Try using .loc[row_indexer,col_indexer] = value instead\n",
            "\n",
            "See the caveats in the documentation: https://pandas.pydata.org/pandas-docs/stable/user_guide/indexing.html#returning-a-view-versus-a-copy\n",
            "  if __name__ == '__main__':\n"
          ],
          "name": "stderr"
        },
        {
          "output_type": "execute_result",
          "data": {
            "text/html": [
              "<div>\n",
              "<style scoped>\n",
              "    .dataframe tbody tr th:only-of-type {\n",
              "        vertical-align: middle;\n",
              "    }\n",
              "\n",
              "    .dataframe tbody tr th {\n",
              "        vertical-align: top;\n",
              "    }\n",
              "\n",
              "    .dataframe thead th {\n",
              "        text-align: right;\n",
              "    }\n",
              "</style>\n",
              "<table border=\"1\" class=\"dataframe\">\n",
              "  <thead>\n",
              "    <tr style=\"text-align: right;\">\n",
              "      <th></th>\n",
              "      <th>target</th>\n",
              "      <th>text</th>\n",
              "      <th>clean_tweet</th>\n",
              "    </tr>\n",
              "  </thead>\n",
              "  <tbody>\n",
              "    <tr>\n",
              "      <th>0</th>\n",
              "      <td>0</td>\n",
              "      <td>@switchfoot http://twitpic.com/2y1zl - Awww, t...</td>\n",
              "      <td>awww bummer shoulda got david carr third day</td>\n",
              "    </tr>\n",
              "    <tr>\n",
              "      <th>1</th>\n",
              "      <td>0</td>\n",
              "      <td>is upset that he can't update his Facebook by ...</td>\n",
              "      <td>upset update facebook texting might cry result...</td>\n",
              "    </tr>\n",
              "    <tr>\n",
              "      <th>2</th>\n",
              "      <td>0</td>\n",
              "      <td>@Kenichan I dived many times for the ball. Man...</td>\n",
              "      <td>dived many times ball managed save rest go bounds</td>\n",
              "    </tr>\n",
              "    <tr>\n",
              "      <th>3</th>\n",
              "      <td>0</td>\n",
              "      <td>my whole body feels itchy and like its on fire</td>\n",
              "      <td>whole body feels itchy like fire</td>\n",
              "    </tr>\n",
              "    <tr>\n",
              "      <th>4</th>\n",
              "      <td>0</td>\n",
              "      <td>@nationwideclass no, it's not behaving at all....</td>\n",
              "      <td>behaving mad see</td>\n",
              "    </tr>\n",
              "    <tr>\n",
              "      <th>...</th>\n",
              "      <td>...</td>\n",
              "      <td>...</td>\n",
              "      <td>...</td>\n",
              "    </tr>\n",
              "    <tr>\n",
              "      <th>1599995</th>\n",
              "      <td>4</td>\n",
              "      <td>Just woke up. Having no school is the best fee...</td>\n",
              "      <td>woke school best feeling ever</td>\n",
              "    </tr>\n",
              "    <tr>\n",
              "      <th>1599996</th>\n",
              "      <td>4</td>\n",
              "      <td>TheWDB.com - Very cool to hear old Walt interv...</td>\n",
              "      <td>thewdb com cool hear old walt interviews</td>\n",
              "    </tr>\n",
              "    <tr>\n",
              "      <th>1599997</th>\n",
              "      <td>4</td>\n",
              "      <td>Are you ready for your MoJo Makeover? Ask me f...</td>\n",
              "      <td>ready mojo makeover ask details</td>\n",
              "    </tr>\n",
              "    <tr>\n",
              "      <th>1599998</th>\n",
              "      <td>4</td>\n",
              "      <td>Happy 38th Birthday to my boo of alll time!!! ...</td>\n",
              "      <td>happy th birthday boo alll time tupac amaru sh...</td>\n",
              "    </tr>\n",
              "    <tr>\n",
              "      <th>1599999</th>\n",
              "      <td>4</td>\n",
              "      <td>happy #charitytuesday @theNSPCC @SparksCharity...</td>\n",
              "      <td>happy</td>\n",
              "    </tr>\n",
              "  </tbody>\n",
              "</table>\n",
              "<p>1600000 rows × 3 columns</p>\n",
              "</div>"
            ],
            "text/plain": [
              "         target  ...                                        clean_tweet\n",
              "0             0  ...       awww bummer shoulda got david carr third day\n",
              "1             0  ...  upset update facebook texting might cry result...\n",
              "2             0  ...  dived many times ball managed save rest go bounds\n",
              "3             0  ...                   whole body feels itchy like fire\n",
              "4             0  ...                                   behaving mad see\n",
              "...         ...  ...                                                ...\n",
              "1599995       4  ...                      woke school best feeling ever\n",
              "1599996       4  ...           thewdb com cool hear old walt interviews\n",
              "1599997       4  ...                    ready mojo makeover ask details\n",
              "1599998       4  ...  happy th birthday boo alll time tupac amaru sh...\n",
              "1599999       4  ...                                              happy\n",
              "\n",
              "[1600000 rows x 3 columns]"
            ]
          },
          "metadata": {
            "tags": []
          },
          "execution_count": 177
        }
      ]
    },
    {
      "cell_type": "markdown",
      "metadata": {
        "id": "su_ucgMpl7oB"
      },
      "source": [
        "L'étape suivante est le Stemming. Pour procéder, nous devons tokenizer chaque tweet en splitant simplement les mots dans les tweets"
      ]
    },
    {
      "cell_type": "code",
      "metadata": {
        "colab": {
          "base_uri": "https://localhost:8080/"
        },
        "id": "uaqFDG4G4eLl",
        "outputId": "c2a55fc0-1764-42df-dfe8-b2ea874a3abc"
      },
      "source": [
        "#tokenize texts\r\n",
        "tokenized_text = df['clean_tweet'].apply(lambda x: x.split())\r\n",
        "tokenized_text.head()"
      ],
      "execution_count": 178,
      "outputs": [
        {
          "output_type": "execute_result",
          "data": {
            "text/plain": [
              "0    [awww, bummer, shoulda, got, david, carr, thir...\n",
              "1    [upset, update, facebook, texting, might, cry,...\n",
              "2    [dived, many, times, ball, managed, save, rest...\n",
              "3              [whole, body, feels, itchy, like, fire]\n",
              "4                                 [behaving, mad, see]\n",
              "Name: clean_tweet, dtype: object"
            ]
          },
          "metadata": {
            "tags": []
          },
          "execution_count": 178
        }
      ]
    },
    {
      "cell_type": "markdown",
      "metadata": {
        "id": "BPeML5PSmJI1"
      },
      "source": [
        "Puis nous appliquons le Stemming (PorterStemming) à nos tokens (l'étape est assez longue)"
      ]
    },
    {
      "cell_type": "code",
      "metadata": {
        "colab": {
          "base_uri": "https://localhost:8080/"
        },
        "id": "CXdaqP7849py",
        "outputId": "dae9143b-4f31-48d4-a428-bdba388fe9ef"
      },
      "source": [
        "#stemming words\r\n",
        "from nltk.stem.porter import *\r\n",
        "stemmer = PorterStemmer()\r\n",
        "\r\n",
        "tokenized_text = tokenized_text.apply(lambda x: [stemmer.stem(i) for i in x])\r\n",
        "tokenized_text.head()"
      ],
      "execution_count": 179,
      "outputs": [
        {
          "output_type": "execute_result",
          "data": {
            "text/plain": [
              "0    [awww, bummer, shoulda, got, david, carr, thir...\n",
              "1    [upset, updat, facebook, text, might, cri, res...\n",
              "2    [dive, mani, time, ball, manag, save, rest, go...\n",
              "3               [whole, bodi, feel, itchi, like, fire]\n",
              "4                                    [behav, mad, see]\n",
              "Name: clean_tweet, dtype: object"
            ]
          },
          "metadata": {
            "tags": []
          },
          "execution_count": 179
        }
      ]
    },
    {
      "cell_type": "markdown",
      "metadata": {
        "id": "wOeQ2jDYmSd3"
      },
      "source": [
        "Nous créons une nouvelle colonne représentant les tokens + Stemming des tweets"
      ]
    },
    {
      "cell_type": "code",
      "metadata": {
        "colab": {
          "base_uri": "https://localhost:8080/",
          "height": 518
        },
        "id": "BwIRDVC8HTB7",
        "outputId": "d73eae5a-9423-4de9-d17f-aa5531e12543"
      },
      "source": [
        "df['tokens'] = tokenized_text\r\n",
        "df"
      ],
      "execution_count": 180,
      "outputs": [
        {
          "output_type": "stream",
          "text": [
            "/usr/local/lib/python3.7/dist-packages/ipykernel_launcher.py:1: SettingWithCopyWarning: \n",
            "A value is trying to be set on a copy of a slice from a DataFrame.\n",
            "Try using .loc[row_indexer,col_indexer] = value instead\n",
            "\n",
            "See the caveats in the documentation: https://pandas.pydata.org/pandas-docs/stable/user_guide/indexing.html#returning-a-view-versus-a-copy\n",
            "  \"\"\"Entry point for launching an IPython kernel.\n"
          ],
          "name": "stderr"
        },
        {
          "output_type": "execute_result",
          "data": {
            "text/html": [
              "<div>\n",
              "<style scoped>\n",
              "    .dataframe tbody tr th:only-of-type {\n",
              "        vertical-align: middle;\n",
              "    }\n",
              "\n",
              "    .dataframe tbody tr th {\n",
              "        vertical-align: top;\n",
              "    }\n",
              "\n",
              "    .dataframe thead th {\n",
              "        text-align: right;\n",
              "    }\n",
              "</style>\n",
              "<table border=\"1\" class=\"dataframe\">\n",
              "  <thead>\n",
              "    <tr style=\"text-align: right;\">\n",
              "      <th></th>\n",
              "      <th>target</th>\n",
              "      <th>text</th>\n",
              "      <th>clean_tweet</th>\n",
              "      <th>tokens</th>\n",
              "    </tr>\n",
              "  </thead>\n",
              "  <tbody>\n",
              "    <tr>\n",
              "      <th>0</th>\n",
              "      <td>0</td>\n",
              "      <td>@switchfoot http://twitpic.com/2y1zl - Awww, t...</td>\n",
              "      <td>awww bummer shoulda got david carr third day</td>\n",
              "      <td>[awww, bummer, shoulda, got, david, carr, thir...</td>\n",
              "    </tr>\n",
              "    <tr>\n",
              "      <th>1</th>\n",
              "      <td>0</td>\n",
              "      <td>is upset that he can't update his Facebook by ...</td>\n",
              "      <td>upset update facebook texting might cry result...</td>\n",
              "      <td>[upset, updat, facebook, text, might, cri, res...</td>\n",
              "    </tr>\n",
              "    <tr>\n",
              "      <th>2</th>\n",
              "      <td>0</td>\n",
              "      <td>@Kenichan I dived many times for the ball. Man...</td>\n",
              "      <td>dived many times ball managed save rest go bounds</td>\n",
              "      <td>[dive, mani, time, ball, manag, save, rest, go...</td>\n",
              "    </tr>\n",
              "    <tr>\n",
              "      <th>3</th>\n",
              "      <td>0</td>\n",
              "      <td>my whole body feels itchy and like its on fire</td>\n",
              "      <td>whole body feels itchy like fire</td>\n",
              "      <td>[whole, bodi, feel, itchi, like, fire]</td>\n",
              "    </tr>\n",
              "    <tr>\n",
              "      <th>4</th>\n",
              "      <td>0</td>\n",
              "      <td>@nationwideclass no, it's not behaving at all....</td>\n",
              "      <td>behaving mad see</td>\n",
              "      <td>[behav, mad, see]</td>\n",
              "    </tr>\n",
              "    <tr>\n",
              "      <th>...</th>\n",
              "      <td>...</td>\n",
              "      <td>...</td>\n",
              "      <td>...</td>\n",
              "      <td>...</td>\n",
              "    </tr>\n",
              "    <tr>\n",
              "      <th>1599995</th>\n",
              "      <td>4</td>\n",
              "      <td>Just woke up. Having no school is the best fee...</td>\n",
              "      <td>woke school best feeling ever</td>\n",
              "      <td>[woke, school, best, feel, ever]</td>\n",
              "    </tr>\n",
              "    <tr>\n",
              "      <th>1599996</th>\n",
              "      <td>4</td>\n",
              "      <td>TheWDB.com - Very cool to hear old Walt interv...</td>\n",
              "      <td>thewdb com cool hear old walt interviews</td>\n",
              "      <td>[thewdb, com, cool, hear, old, walt, interview]</td>\n",
              "    </tr>\n",
              "    <tr>\n",
              "      <th>1599997</th>\n",
              "      <td>4</td>\n",
              "      <td>Are you ready for your MoJo Makeover? Ask me f...</td>\n",
              "      <td>ready mojo makeover ask details</td>\n",
              "      <td>[readi, mojo, makeov, ask, detail]</td>\n",
              "    </tr>\n",
              "    <tr>\n",
              "      <th>1599998</th>\n",
              "      <td>4</td>\n",
              "      <td>Happy 38th Birthday to my boo of alll time!!! ...</td>\n",
              "      <td>happy th birthday boo alll time tupac amaru sh...</td>\n",
              "      <td>[happi, th, birthday, boo, alll, time, tupac, ...</td>\n",
              "    </tr>\n",
              "    <tr>\n",
              "      <th>1599999</th>\n",
              "      <td>4</td>\n",
              "      <td>happy #charitytuesday @theNSPCC @SparksCharity...</td>\n",
              "      <td>happy</td>\n",
              "      <td>[happi]</td>\n",
              "    </tr>\n",
              "  </tbody>\n",
              "</table>\n",
              "<p>1600000 rows × 4 columns</p>\n",
              "</div>"
            ],
            "text/plain": [
              "         target  ...                                             tokens\n",
              "0             0  ...  [awww, bummer, shoulda, got, david, carr, thir...\n",
              "1             0  ...  [upset, updat, facebook, text, might, cri, res...\n",
              "2             0  ...  [dive, mani, time, ball, manag, save, rest, go...\n",
              "3             0  ...             [whole, bodi, feel, itchi, like, fire]\n",
              "4             0  ...                                  [behav, mad, see]\n",
              "...         ...  ...                                                ...\n",
              "1599995       4  ...                   [woke, school, best, feel, ever]\n",
              "1599996       4  ...    [thewdb, com, cool, hear, old, walt, interview]\n",
              "1599997       4  ...                 [readi, mojo, makeov, ask, detail]\n",
              "1599998       4  ...  [happi, th, birthday, boo, alll, time, tupac, ...\n",
              "1599999       4  ...                                            [happi]\n",
              "\n",
              "[1600000 rows x 4 columns]"
            ]
          },
          "metadata": {
            "tags": []
          },
          "execution_count": 180
        }
      ]
    },
    {
      "cell_type": "markdown",
      "metadata": {
        "id": "wGo-GSnAmdKf"
      },
      "source": [
        "Enfin, nous recréons les phrases en rassemblant tous les tokens. Nous obtenons donc les tweets finaux, qui vont nous servir pour l'entrainement.\r\n",
        "Ces textes sont placés dans une nouvelle colonne, *clean_tweet_final*"
      ]
    },
    {
      "cell_type": "code",
      "metadata": {
        "colab": {
          "base_uri": "https://localhost:8080/"
        },
        "id": "YEUhnRIo8OjK",
        "outputId": "08b34539-d556-4ecd-e901-2627bbd7eb30"
      },
      "source": [
        "# now let's see how clean tweets look like in the dataframe\r\n",
        "for i in range(len(tokenized_text)):\r\n",
        "    tokenized_text[i] = ' '.join(tokenized_text[i])\r\n",
        "\r\n",
        "df['clean_tweet_final'] = tokenized_text"
      ],
      "execution_count": 181,
      "outputs": [
        {
          "output_type": "stream",
          "text": [
            "/usr/local/lib/python3.7/dist-packages/ipykernel_launcher.py:5: SettingWithCopyWarning: \n",
            "A value is trying to be set on a copy of a slice from a DataFrame.\n",
            "Try using .loc[row_indexer,col_indexer] = value instead\n",
            "\n",
            "See the caveats in the documentation: https://pandas.pydata.org/pandas-docs/stable/user_guide/indexing.html#returning-a-view-versus-a-copy\n",
            "  \"\"\"\n"
          ],
          "name": "stderr"
        }
      ]
    },
    {
      "cell_type": "code",
      "metadata": {
        "colab": {
          "base_uri": "https://localhost:8080/",
          "height": 530
        },
        "id": "qG_5nPLaPkL4",
        "outputId": "c1ae0706-0653-45c4-913d-f285b2838544"
      },
      "source": [
        "df"
      ],
      "execution_count": 182,
      "outputs": [
        {
          "output_type": "execute_result",
          "data": {
            "text/html": [
              "<div>\n",
              "<style scoped>\n",
              "    .dataframe tbody tr th:only-of-type {\n",
              "        vertical-align: middle;\n",
              "    }\n",
              "\n",
              "    .dataframe tbody tr th {\n",
              "        vertical-align: top;\n",
              "    }\n",
              "\n",
              "    .dataframe thead th {\n",
              "        text-align: right;\n",
              "    }\n",
              "</style>\n",
              "<table border=\"1\" class=\"dataframe\">\n",
              "  <thead>\n",
              "    <tr style=\"text-align: right;\">\n",
              "      <th></th>\n",
              "      <th>target</th>\n",
              "      <th>text</th>\n",
              "      <th>clean_tweet</th>\n",
              "      <th>tokens</th>\n",
              "      <th>clean_tweet_final</th>\n",
              "    </tr>\n",
              "  </thead>\n",
              "  <tbody>\n",
              "    <tr>\n",
              "      <th>0</th>\n",
              "      <td>0</td>\n",
              "      <td>@switchfoot http://twitpic.com/2y1zl - Awww, t...</td>\n",
              "      <td>awww bummer shoulda got david carr third day</td>\n",
              "      <td>[awww, bummer, shoulda, got, david, carr, thir...</td>\n",
              "      <td>awww bummer shoulda got david carr third day</td>\n",
              "    </tr>\n",
              "    <tr>\n",
              "      <th>1</th>\n",
              "      <td>0</td>\n",
              "      <td>is upset that he can't update his Facebook by ...</td>\n",
              "      <td>upset update facebook texting might cry result...</td>\n",
              "      <td>[upset, updat, facebook, text, might, cri, res...</td>\n",
              "      <td>upset updat facebook text might cri result sch...</td>\n",
              "    </tr>\n",
              "    <tr>\n",
              "      <th>2</th>\n",
              "      <td>0</td>\n",
              "      <td>@Kenichan I dived many times for the ball. Man...</td>\n",
              "      <td>dived many times ball managed save rest go bounds</td>\n",
              "      <td>[dive, mani, time, ball, manag, save, rest, go...</td>\n",
              "      <td>dive mani time ball manag save rest go bound</td>\n",
              "    </tr>\n",
              "    <tr>\n",
              "      <th>3</th>\n",
              "      <td>0</td>\n",
              "      <td>my whole body feels itchy and like its on fire</td>\n",
              "      <td>whole body feels itchy like fire</td>\n",
              "      <td>[whole, bodi, feel, itchi, like, fire]</td>\n",
              "      <td>whole bodi feel itchi like fire</td>\n",
              "    </tr>\n",
              "    <tr>\n",
              "      <th>4</th>\n",
              "      <td>0</td>\n",
              "      <td>@nationwideclass no, it's not behaving at all....</td>\n",
              "      <td>behaving mad see</td>\n",
              "      <td>[behav, mad, see]</td>\n",
              "      <td>behav mad see</td>\n",
              "    </tr>\n",
              "    <tr>\n",
              "      <th>...</th>\n",
              "      <td>...</td>\n",
              "      <td>...</td>\n",
              "      <td>...</td>\n",
              "      <td>...</td>\n",
              "      <td>...</td>\n",
              "    </tr>\n",
              "    <tr>\n",
              "      <th>1599995</th>\n",
              "      <td>4</td>\n",
              "      <td>Just woke up. Having no school is the best fee...</td>\n",
              "      <td>woke school best feeling ever</td>\n",
              "      <td>[woke, school, best, feel, ever]</td>\n",
              "      <td>woke school best feel ever</td>\n",
              "    </tr>\n",
              "    <tr>\n",
              "      <th>1599996</th>\n",
              "      <td>4</td>\n",
              "      <td>TheWDB.com - Very cool to hear old Walt interv...</td>\n",
              "      <td>thewdb com cool hear old walt interviews</td>\n",
              "      <td>[thewdb, com, cool, hear, old, walt, interview]</td>\n",
              "      <td>thewdb com cool hear old walt interview</td>\n",
              "    </tr>\n",
              "    <tr>\n",
              "      <th>1599997</th>\n",
              "      <td>4</td>\n",
              "      <td>Are you ready for your MoJo Makeover? Ask me f...</td>\n",
              "      <td>ready mojo makeover ask details</td>\n",
              "      <td>[readi, mojo, makeov, ask, detail]</td>\n",
              "      <td>readi mojo makeov ask detail</td>\n",
              "    </tr>\n",
              "    <tr>\n",
              "      <th>1599998</th>\n",
              "      <td>4</td>\n",
              "      <td>Happy 38th Birthday to my boo of alll time!!! ...</td>\n",
              "      <td>happy th birthday boo alll time tupac amaru sh...</td>\n",
              "      <td>[happi, th, birthday, boo, alll, time, tupac, ...</td>\n",
              "      <td>happi th birthday boo alll time tupac amaru sh...</td>\n",
              "    </tr>\n",
              "    <tr>\n",
              "      <th>1599999</th>\n",
              "      <td>4</td>\n",
              "      <td>happy #charitytuesday @theNSPCC @SparksCharity...</td>\n",
              "      <td>happy</td>\n",
              "      <td>[happi]</td>\n",
              "      <td>happi</td>\n",
              "    </tr>\n",
              "  </tbody>\n",
              "</table>\n",
              "<p>1600000 rows × 5 columns</p>\n",
              "</div>"
            ],
            "text/plain": [
              "         target  ...                                  clean_tweet_final\n",
              "0             0  ...       awww bummer shoulda got david carr third day\n",
              "1             0  ...  upset updat facebook text might cri result sch...\n",
              "2             0  ...       dive mani time ball manag save rest go bound\n",
              "3             0  ...                    whole bodi feel itchi like fire\n",
              "4             0  ...                                      behav mad see\n",
              "...         ...  ...                                                ...\n",
              "1599995       4  ...                         woke school best feel ever\n",
              "1599996       4  ...            thewdb com cool hear old walt interview\n",
              "1599997       4  ...                       readi mojo makeov ask detail\n",
              "1599998       4  ...  happi th birthday boo alll time tupac amaru sh...\n",
              "1599999       4  ...                                              happi\n",
              "\n",
              "[1600000 rows x 5 columns]"
            ]
          },
          "metadata": {
            "tags": []
          },
          "execution_count": 182
        }
      ]
    },
    {
      "cell_type": "markdown",
      "metadata": {
        "id": "P78mpmm9m5PK"
      },
      "source": [
        "# III. Préparation des données pour l'entrainement\r\n",
        "\r\n",
        "Maintenant que nos données sont traitées, il faut les utiliser.\r\n",
        "\r\n",
        "Pour commencer, on modifie 4 par 1 dans la colonne des sentiments, pour une meilleure lecture.\r\n",
        "Ainsi 0 = sentiment négatif, 1 = sentiment positif.\r\n",
        "\r\n",
        "Ensuite, nous sélectionnons les données positives et négatives en les mettant dans *data_pos* et *data_neg*\r\n",
        "\r\n",
        "Pour nos tests, nous choisissons de ne sélectionner qu'une partie des données : 50000 tweets positifs, 50000 tweets négatifs. (j’ai pris 200000 (2*100000) tweets pour mon dernier test)\r\n",
        "\r\n",
        "*data* sera donc nos données d'entrainement"
      ]
    },
    {
      "cell_type": "code",
      "metadata": {
        "id": "NFaJ2zb09FNW",
        "colab": {
          "base_uri": "https://localhost:8080/",
          "height": 589
        },
        "outputId": "e555ee2d-6571-4316-a715-a0be3c6ab6e0"
      },
      "source": [
        "# Put label = 4 to 1 for better reading\r\n",
        "df['target'][df['target']==4]=1\r\n",
        "\r\n",
        "# and put pos and neg in data_pos and data_neg\r\n",
        "#data_pos from 800000 to 1599999\r\n",
        "data_pos = df[df['target'] == 1]\r\n",
        "#data_neg from 0 to 799999\r\n",
        "data_neg = df[df['target'] == 0]\r\n",
        "\r\n",
        "# for training, keep only 40000 elements of neg and pos\r\n",
        "# Last test : 50000 each\r\n",
        "data_neg_test = data_neg.iloc[:int(50000)] # 40000 neg tweets\r\n",
        "data_pos_test = data_pos.iloc[:int(50000)] # 40000 pos tweets\r\n",
        "\r\n",
        "# So for tests we keep 80000 elements\r\n",
        "data = pd.concat([data_neg_test, data_pos_test])\r\n",
        "\r\n",
        "data=data[['clean_tweet_final', 'target']]\r\n",
        "data"
      ],
      "execution_count": 198,
      "outputs": [
        {
          "output_type": "stream",
          "text": [
            "/usr/local/lib/python3.7/dist-packages/ipykernel_launcher.py:2: SettingWithCopyWarning: \n",
            "A value is trying to be set on a copy of a slice from a DataFrame\n",
            "\n",
            "See the caveats in the documentation: https://pandas.pydata.org/pandas-docs/stable/user_guide/indexing.html#returning-a-view-versus-a-copy\n",
            "  \n",
            "/usr/local/lib/python3.7/dist-packages/pandas/core/series.py:1021: SettingWithCopyWarning: \n",
            "A value is trying to be set on a copy of a slice from a DataFrame\n",
            "\n",
            "See the caveats in the documentation: https://pandas.pydata.org/pandas-docs/stable/user_guide/indexing.html#returning-a-view-versus-a-copy\n",
            "  self._where(~key, value, inplace=True)\n"
          ],
          "name": "stderr"
        },
        {
          "output_type": "execute_result",
          "data": {
            "text/html": [
              "<div>\n",
              "<style scoped>\n",
              "    .dataframe tbody tr th:only-of-type {\n",
              "        vertical-align: middle;\n",
              "    }\n",
              "\n",
              "    .dataframe tbody tr th {\n",
              "        vertical-align: top;\n",
              "    }\n",
              "\n",
              "    .dataframe thead th {\n",
              "        text-align: right;\n",
              "    }\n",
              "</style>\n",
              "<table border=\"1\" class=\"dataframe\">\n",
              "  <thead>\n",
              "    <tr style=\"text-align: right;\">\n",
              "      <th></th>\n",
              "      <th>clean_tweet_final</th>\n",
              "      <th>target</th>\n",
              "    </tr>\n",
              "  </thead>\n",
              "  <tbody>\n",
              "    <tr>\n",
              "      <th>0</th>\n",
              "      <td>awww bummer shoulda got david carr third day</td>\n",
              "      <td>0</td>\n",
              "    </tr>\n",
              "    <tr>\n",
              "      <th>1</th>\n",
              "      <td>upset updat facebook text might cri result sch...</td>\n",
              "      <td>0</td>\n",
              "    </tr>\n",
              "    <tr>\n",
              "      <th>2</th>\n",
              "      <td>dive mani time ball manag save rest go bound</td>\n",
              "      <td>0</td>\n",
              "    </tr>\n",
              "    <tr>\n",
              "      <th>3</th>\n",
              "      <td>whole bodi feel itchi like fire</td>\n",
              "      <td>0</td>\n",
              "    </tr>\n",
              "    <tr>\n",
              "      <th>4</th>\n",
              "      <td>behav mad see</td>\n",
              "      <td>0</td>\n",
              "    </tr>\n",
              "    <tr>\n",
              "      <th>...</th>\n",
              "      <td>...</td>\n",
              "      <td>...</td>\n",
              "    </tr>\n",
              "    <tr>\n",
              "      <th>849995</th>\n",
              "      <td>need follow compleat follow</td>\n",
              "      <td>1</td>\n",
              "    </tr>\n",
              "    <tr>\n",
              "      <th>849996</th>\n",
              "      <td>knew explain someth friend said star trek ligh...</td>\n",
              "      <td>1</td>\n",
              "    </tr>\n",
              "    <tr>\n",
              "      <th>849997</th>\n",
              "      <td>done tweet til tomorrow</td>\n",
              "      <td>1</td>\n",
              "    </tr>\n",
              "    <tr>\n",
              "      <th>849998</th>\n",
              "      <td>act ii set pretti breath take love reaction ge...</td>\n",
              "      <td>1</td>\n",
              "    </tr>\n",
              "    <tr>\n",
              "      <th>849999</th>\n",
              "      <td>artfir account sell fun thing suggest sign one</td>\n",
              "      <td>1</td>\n",
              "    </tr>\n",
              "  </tbody>\n",
              "</table>\n",
              "<p>100000 rows × 2 columns</p>\n",
              "</div>"
            ],
            "text/plain": [
              "                                        clean_tweet_final  target\n",
              "0            awww bummer shoulda got david carr third day       0\n",
              "1       upset updat facebook text might cri result sch...       0\n",
              "2            dive mani time ball manag save rest go bound       0\n",
              "3                         whole bodi feel itchi like fire       0\n",
              "4                                           behav mad see       0\n",
              "...                                                   ...     ...\n",
              "849995                        need follow compleat follow       1\n",
              "849996  knew explain someth friend said star trek ligh...       1\n",
              "849997                            done tweet til tomorrow       1\n",
              "849998  act ii set pretti breath take love reaction ge...       1\n",
              "849999     artfir account sell fun thing suggest sign one       1\n",
              "\n",
              "[100000 rows x 2 columns]"
            ]
          },
          "metadata": {
            "tags": []
          },
          "execution_count": 198
        }
      ]
    },
    {
      "cell_type": "markdown",
      "metadata": {
        "id": "yp3MQKlyoVrX"
      },
      "source": [
        "A présent nous définissons nos données d'entrée : x sera les tweets et y les sentiments"
      ]
    },
    {
      "cell_type": "code",
      "metadata": {
        "id": "_YPGPpqh2SFZ"
      },
      "source": [
        "x = data.clean_tweet_final # input features\r\n",
        "y = data.target # label"
      ],
      "execution_count": 199,
      "outputs": []
    },
    {
      "cell_type": "markdown",
      "metadata": {
        "id": "sHnVr4RcoiIO"
      },
      "source": [
        "Maintenant que nous avons nos données, nous devons créer nos vecteurs de mots\r\n",
        "\r\n",
        "*max_len* représente le nombre maximum de caractéristiques/mots sélectionnés pour l'entrainement. Ces mots seront utilisés selon l'importance qui distingue les tweets positifs et négatifs. Nous en choisissons 500.\r\n",
        "\r\n",
        "Ensuite, nous définissons le Tokenizer, pour lequel nous choisissons un num_words de 2000, c'est-à-dire que celui-ci n'utilisera que les 2000 mots les plus communs dans le jeu de données. Le tokenizer crée des tokens pour chaque mot du jeu de données et les mappe à un index à l'aide d'un dictionnaire. On utilise alors la méthode *fit_on_texts*, qui crée l'index de vocabulaire basé sur la fréquence des mots.\r\n",
        "\r\n",
        "Pour notre modèle, il est nécessaire que les données d'entrée soient codées en entiers, de sorte que chaque mot soit représenté par un entier unique. C'est pour cela que nous utilisons la fonction texts_to_sequences, qui transforme chaque texte en une séquence d'entiers. Chaque mot du texte est alors remplacé par sa valeur entière correspondante dans le dictionnaire *fit_on_texts*\r\n",
        "\r\n",
        "Etant donné que nous allons construire un modèle séquentiel, alimenté par des séquences de nombres, nous devons nous assurer que les séquences en entrée auront toutes la même forme, elles doivent toutes avoir la même longueur. Le problème est que les textes des tweets ont un nombre de mots différent. Pour pallier ce problème, nous utilisons la fonction *pad_sequence* de keras, qui transforme toute la séquence dans une longueur constante *max_len*.\r\n",
        "\r\n",
        "*vocab_size* représente le nombre total de mots dans le jeu de données\r\n"
      ]
    },
    {
      "cell_type": "code",
      "metadata": {
        "id": "nbn1eRgt4vqO",
        "colab": {
          "base_uri": "https://localhost:8080/"
        },
        "outputId": "8b918f4e-5cb4-4768-a253-900ab825ede9"
      },
      "source": [
        "# For training, we select maximum 500 features/words\r\n",
        "max_len = 500\r\n",
        "tokenizer = Tokenizer(num_words = 2000) # Tokenizer will use only 2000 most common words\r\n",
        "tokenizer.fit_on_texts(x)\r\n",
        "sequences = tokenizer.texts_to_sequences(x)\r\n",
        "sequences_matrix = sequence.pad_sequences(sequences,maxlen=max_len)\r\n",
        "\r\n",
        "vocab_size = len(tokenizer.word_index)\r\n",
        "print(\"Total words\", vocab_size)\r\n",
        "print(\"Matrix shape\", sequences_matrix.shape)\r\n"
      ],
      "execution_count": 200,
      "outputs": [
        {
          "output_type": "stream",
          "text": [
            "Total words 38574\n",
            "Matrix shape (100000, 500)\n"
          ],
          "name": "stdout"
        }
      ]
    },
    {
      "cell_type": "markdown",
      "metadata": {
        "id": "sv6-JfCsVS5f"
      },
      "source": [
        "Puis nous définissons nos données de l'entrainement et nos données de test.\r\n",
        "\r\n",
        "Pour cela on utilise la fonction *train_test_split* de sklearn, qui mélange le jeu de données et le divise. Cette fonction prend un paramètre appelé test_size, qui correspond à la portion du jeu de données que nous souhaitons assigner aux données de test. Nous choisissons d'assigner 20% du jeu de données aux données de test, d'où le 0.2"
      ]
    },
    {
      "cell_type": "code",
      "metadata": {
        "id": "fAfR3MmH40sg",
        "colab": {
          "base_uri": "https://localhost:8080/"
        },
        "outputId": "349eecff-5f6a-402c-de81-2931b9da341e"
      },
      "source": [
        "# train_test_split mélange le jeu de données et le divise pour donner un ensemble de données d'entraînement et de test. On choisir une portion de 20% (0.2) réservée aux données de test\r\n",
        "x_train, x_test, y_train, y_test = train_test_split(sequences_matrix, y, test_size=0.2, random_state=2) # create train and test data\r\n",
        "#x_train = pad_sequences(tokenizer.texts_to_sequences(train_data.clean_tweet_final), maxlen=max_len)\r\n",
        "#x_test = pad_sequences(tokenizer.texts_to_sequences(test_data.clean_tweet_final), maxlen=max_len)\r\n",
        "y_train = y_train.values.reshape(-1,1)\r\n",
        "y_test = y_test.values.reshape(-1,1)\r\n",
        "\r\n",
        "print(\"x_train : \" + str(x_train.shape))\r\n",
        "print(\"y_train : \" + str(y_train.shape))\r\n",
        "print(\"x_test : \" + str(x_test.shape))\r\n",
        "print(\"y_test : \" + str(y_test.shape))"
      ],
      "execution_count": 201,
      "outputs": [
        {
          "output_type": "stream",
          "text": [
            "x_train : (80000, 500)\n",
            "y_train : (80000, 1)\n",
            "x_test : (20000, 500)\n",
            "y_test : (20000, 1)\n"
          ],
          "name": "stdout"
        }
      ]
    },
    {
      "cell_type": "markdown",
      "metadata": {
        "id": "gHL_spmInPGQ"
      },
      "source": [
        "# IV. Le modèle et l'entrainement\r\n",
        "\r\n",
        "Maintenant que nos données sont prêtes, nous allons devoir passer à la définition et à l'entrainement du modèle\r\n",
        "\r\n",
        "Pour notre modèle, nous voulons simplement plusieurs couches (layers), chacune ayant des vecteurs d’entrée et de sortie. Nous utilisons donc un modèle séquentiel (Sequential()), qui est approprié pour cela.\r\n",
        "\r\n",
        "- Etape 1 : L'entrée du modèle est de longueur *max_len* mots car il s'agit du nombre de  mots que nous avons choisis d'extraire du texte des tweets.\r\n",
        "\r\n",
        "- Etape 2 : Nous ajoutons une couche Embedding (un layer de keras), avec une taille de *vocab_size* mots, un espace vectoriel de 64 dimensions dans lequel les mots seront incorporés, et des entrées de *max_len* (500) mots chacun. La couche Embedding permet de représenter les mots par des vecteurs où un vecteur représente la projection du mot dans un espace vectoriel continu. La position d'un mot dans l'espace vectoriel est apprise à partir du texte en entrée et est basée sur les mots qui entourent le mot lorsqu'il est utilisé.\r\n",
        "\r\n",
        "- Etape 3 : La couche LSTM transforme la séquence vectorielle sortant de Embedding en un seul vecteur de taille 32, contenant des informations sur la séquence entière. L'objectif de la couche LSTM est d'apprendre à notre modèle quelles informations stocker dans la mémoire à long terme et de quoi se débarrasser. Elle enregistre les mots et prédit les mots suivants en fonction des mots précédents. LSTM est un prédicteur de séquence des prochains mots à venir.\r\n",
        "\r\n",
        "- Etape 4 : La couche Dense est une couche de réseau neuronal qui est profondément connectée, ce qui signifie que chaque neurone de la couche Dense reçoit une entrée de tous les neurones de la couche précédente. Nos couches Dense effectuent des multiplications matrice-vecteur, et elles sont utilisées pour améliorer la précision. Cette couche envoie 256 sorties\r\n",
        "\r\n",
        "- Etape 5 : La fonction d'activation 'relu' renvoie l'activation ReLU standard : le maximum entre 0 et la valeur d'entrée. Elle aide à décider quel neurone doit passer et quel neurone doit se déclencher\r\n",
        "\r\n",
        "- Etape 6 : Avec la couche Dropout, des neurones sélectionnés au hasard sont ignorés pendant l'entraînement. L'effet est que le réseau devient moins sensible aux poids spécifiques des neurones, et donc capable d'une meilleure généralisation\r\n",
        "\r\n",
        "- Etape 7 : Comme l'étape 4, mais on donne seulement 1 sortie au réseau de neurones pour classer le tweet positif ou négatif\r\n",
        "\r\n",
        "- Etape 8 : La fonction d'activation 'sigmoid' renvoie une valeur proche de zéro pour les petites valeurs (<-5), et pour les grandes valeurs (> 5) le résultat de la fonction se rapproche de 1. Cela nous permet d'obtenir un résultat entre 0 et 1 pour la classification de nos données"
      ]
    },
    {
      "cell_type": "code",
      "metadata": {
        "id": "SW-x78vv7XrI"
      },
      "source": [
        "def model1():\r\n",
        "    model = Sequential()\r\n",
        "    inputs = Input(name='inputs',shape=[max_len])# etape 1\r\n",
        "    model.add(Embedding(vocab_size, 64, input_length=max_len)) # etape 2\r\n",
        "    model.add(LSTM(32)) # etape3\r\n",
        "    model.add(Dense(256,name='FC1')) # etape 4\r\n",
        "    model.add(Activation('relu')) # etape 5\r\n",
        "    model.add(Dropout(0.5)) # etape 6\r\n",
        "    model.add(Dense(1,name='out_layer')) # etape 4\r\n",
        "    model.add(Activation('sigmoid')) # etape 5 \r\n",
        "    return model"
      ],
      "execution_count": 202,
      "outputs": []
    },
    {
      "cell_type": "markdown",
      "metadata": {
        "id": "dQpotFXcrcze"
      },
      "source": [
        "Etant donné qu'on utilise seulement 2 classes (texte et sentiment), on utilise 'binary_crossentropy'\r\n",
        "\r\n",
        "L'optimizer est une fonction utilisée pour modifier les fonctionnalités du réseau neuronal telles que le taux d'apprentissage afin de réduire les pertes. Ainsi, le taux d'apprentissage du réseau de neurones pour réduire les pertes est défini par l'optimizer.\r\n",
        "\r\n",
        "Nous définissons metrics='accuracy' car nous allons calculer le pourcentage de prédictions correctes sur toutes les prédictions de l'ensemble de validation\r\n",
        "\r\n",
        "\r\n",
        "Enfin nous lançons l'entraînement de notre modèle (modifier le nombre d'époques selon ce qu'on veut). J'ai choisis une *batch_size* de 100 (donc le modèle prend 100 tweets à chaque itération et les entraîne), 50 époques et un *validation_split* de 0,1 ce qui veut dire que nous alimentons les données d'entraînement et obtenons 10% de données pour validation à partir des données d'entraînement\r\n",
        "\r\n",
        "Je fais mes derniers tests avec 50 époques, et un jeu de données de 100000 tweets (50000 positifs et 50000 négatifs)"
      ]
    },
    {
      "cell_type": "code",
      "metadata": {
        "id": "Fme7St6m8EnK"
      },
      "source": [
        "model = model1() # on crée notre modèle\r\n",
        "model.compile(loss='binary_crossentropy',optimizer='adam',metrics=['accuracy']) "
      ],
      "execution_count": 203,
      "outputs": []
    },
    {
      "cell_type": "code",
      "metadata": {
        "colab": {
          "base_uri": "https://localhost:8080/"
        },
        "id": "ZxFAvBj-8Gz_",
        "outputId": "5e93daae-1324-4242-ff78-7b41a1f01495"
      },
      "source": [
        "history=model.fit(x_train,y_train,batch_size=100,epochs=50, validation_split=0.1)# On entraine le modèle avec les données d'entraînement\r\n",
        "print('Entrainement terminé !')"
      ],
      "execution_count": 204,
      "outputs": [
        {
          "output_type": "stream",
          "text": [
            "Epoch 1/50\n",
            "720/720 [==============================] - 32s 43ms/step - loss: 0.5767 - accuracy: 0.6891 - val_loss: 0.5007 - val_accuracy: 0.7508\n",
            "Epoch 2/50\n",
            "720/720 [==============================] - 30s 42ms/step - loss: 0.4915 - accuracy: 0.7626 - val_loss: 0.4963 - val_accuracy: 0.7550\n",
            "Epoch 3/50\n",
            "720/720 [==============================] - 30s 42ms/step - loss: 0.4765 - accuracy: 0.7696 - val_loss: 0.4960 - val_accuracy: 0.7545\n",
            "Epoch 4/50\n",
            "720/720 [==============================] - 30s 42ms/step - loss: 0.4560 - accuracy: 0.7811 - val_loss: 0.5004 - val_accuracy: 0.7525\n",
            "Epoch 5/50\n",
            "720/720 [==============================] - 30s 42ms/step - loss: 0.4474 - accuracy: 0.7854 - val_loss: 0.5100 - val_accuracy: 0.7496\n",
            "Epoch 6/50\n",
            "720/720 [==============================] - 30s 42ms/step - loss: 0.4364 - accuracy: 0.7913 - val_loss: 0.5185 - val_accuracy: 0.7489\n",
            "Epoch 7/50\n",
            "720/720 [==============================] - 30s 42ms/step - loss: 0.4248 - accuracy: 0.7975 - val_loss: 0.5224 - val_accuracy: 0.7451\n",
            "Epoch 8/50\n",
            "720/720 [==============================] - 30s 41ms/step - loss: 0.4127 - accuracy: 0.8045 - val_loss: 0.5444 - val_accuracy: 0.7421\n",
            "Epoch 9/50\n",
            "720/720 [==============================] - 30s 41ms/step - loss: 0.4013 - accuracy: 0.8106 - val_loss: 0.5777 - val_accuracy: 0.7424\n",
            "Epoch 10/50\n",
            "720/720 [==============================] - 29s 40ms/step - loss: 0.3856 - accuracy: 0.8184 - val_loss: 0.6039 - val_accuracy: 0.7424\n",
            "Epoch 11/50\n",
            "720/720 [==============================] - 29s 40ms/step - loss: 0.3683 - accuracy: 0.8254 - val_loss: 0.6226 - val_accuracy: 0.7344\n",
            "Epoch 12/50\n",
            "720/720 [==============================] - 28s 40ms/step - loss: 0.3481 - accuracy: 0.8369 - val_loss: 0.6552 - val_accuracy: 0.7336\n",
            "Epoch 13/50\n",
            "720/720 [==============================] - 28s 40ms/step - loss: 0.3320 - accuracy: 0.8438 - val_loss: 0.7205 - val_accuracy: 0.7326\n",
            "Epoch 14/50\n",
            "720/720 [==============================] - 29s 40ms/step - loss: 0.3139 - accuracy: 0.8501 - val_loss: 0.7572 - val_accuracy: 0.7296\n",
            "Epoch 15/50\n",
            "720/720 [==============================] - 29s 40ms/step - loss: 0.2984 - accuracy: 0.8569 - val_loss: 0.8473 - val_accuracy: 0.7321\n",
            "Epoch 16/50\n",
            "720/720 [==============================] - 29s 40ms/step - loss: 0.2851 - accuracy: 0.8621 - val_loss: 0.9124 - val_accuracy: 0.7245\n",
            "Epoch 17/50\n",
            "720/720 [==============================] - 29s 40ms/step - loss: 0.2705 - accuracy: 0.8675 - val_loss: 1.0420 - val_accuracy: 0.7276\n",
            "Epoch 18/50\n",
            "720/720 [==============================] - 28s 40ms/step - loss: 0.2524 - accuracy: 0.8772 - val_loss: 1.1728 - val_accuracy: 0.7279\n",
            "Epoch 19/50\n",
            "720/720 [==============================] - 29s 40ms/step - loss: 0.2388 - accuracy: 0.8836 - val_loss: 1.2076 - val_accuracy: 0.7210\n",
            "Epoch 20/50\n",
            "720/720 [==============================] - 29s 40ms/step - loss: 0.2302 - accuracy: 0.8888 - val_loss: 1.3241 - val_accuracy: 0.7212\n",
            "Epoch 21/50\n",
            "720/720 [==============================] - 29s 40ms/step - loss: 0.2185 - accuracy: 0.8926 - val_loss: 1.5118 - val_accuracy: 0.7232\n",
            "Epoch 22/50\n",
            "720/720 [==============================] - 29s 40ms/step - loss: 0.2101 - accuracy: 0.8979 - val_loss: 1.5805 - val_accuracy: 0.7191\n",
            "Epoch 23/50\n",
            "720/720 [==============================] - 29s 40ms/step - loss: 0.2032 - accuracy: 0.9027 - val_loss: 1.6465 - val_accuracy: 0.7139\n",
            "Epoch 24/50\n",
            "720/720 [==============================] - 29s 40ms/step - loss: 0.1956 - accuracy: 0.9053 - val_loss: 1.6856 - val_accuracy: 0.7163\n",
            "Epoch 25/50\n",
            "720/720 [==============================] - 29s 40ms/step - loss: 0.1844 - accuracy: 0.9089 - val_loss: 1.9222 - val_accuracy: 0.7132\n",
            "Epoch 26/50\n",
            "720/720 [==============================] - 29s 40ms/step - loss: 0.1806 - accuracy: 0.9123 - val_loss: 1.9960 - val_accuracy: 0.7132\n",
            "Epoch 27/50\n",
            "720/720 [==============================] - 29s 40ms/step - loss: 0.1729 - accuracy: 0.9158 - val_loss: 2.0695 - val_accuracy: 0.7146\n",
            "Epoch 28/50\n",
            "720/720 [==============================] - 29s 40ms/step - loss: 0.1693 - accuracy: 0.9189 - val_loss: 2.1335 - val_accuracy: 0.7128\n",
            "Epoch 29/50\n",
            "720/720 [==============================] - 29s 40ms/step - loss: 0.1614 - accuracy: 0.9210 - val_loss: 2.2497 - val_accuracy: 0.7135\n",
            "Epoch 30/50\n",
            "720/720 [==============================] - 29s 40ms/step - loss: 0.1602 - accuracy: 0.9229 - val_loss: 2.3178 - val_accuracy: 0.7106\n",
            "Epoch 31/50\n",
            "720/720 [==============================] - 29s 40ms/step - loss: 0.1588 - accuracy: 0.9225 - val_loss: 2.3918 - val_accuracy: 0.7107\n",
            "Epoch 32/50\n",
            "720/720 [==============================] - 29s 41ms/step - loss: 0.1511 - accuracy: 0.9263 - val_loss: 2.4314 - val_accuracy: 0.7080\n",
            "Epoch 33/50\n",
            "720/720 [==============================] - 29s 40ms/step - loss: 0.1446 - accuracy: 0.9295 - val_loss: 2.4639 - val_accuracy: 0.7044\n",
            "Epoch 34/50\n",
            "720/720 [==============================] - 29s 40ms/step - loss: 0.1437 - accuracy: 0.9290 - val_loss: 2.6428 - val_accuracy: 0.7040\n",
            "Epoch 35/50\n",
            "720/720 [==============================] - 29s 40ms/step - loss: 0.1405 - accuracy: 0.9308 - val_loss: 2.6257 - val_accuracy: 0.7054\n",
            "Epoch 36/50\n",
            "720/720 [==============================] - 29s 41ms/step - loss: 0.1318 - accuracy: 0.9349 - val_loss: 2.7941 - val_accuracy: 0.7023\n",
            "Epoch 37/50\n",
            "720/720 [==============================] - 29s 40ms/step - loss: 0.1336 - accuracy: 0.9367 - val_loss: 2.8932 - val_accuracy: 0.6981\n",
            "Epoch 38/50\n",
            "720/720 [==============================] - 30s 41ms/step - loss: 0.1300 - accuracy: 0.9378 - val_loss: 2.7854 - val_accuracy: 0.7009\n",
            "Epoch 39/50\n",
            "720/720 [==============================] - 29s 40ms/step - loss: 0.1295 - accuracy: 0.9377 - val_loss: 2.9815 - val_accuracy: 0.7029\n",
            "Epoch 40/50\n",
            "720/720 [==============================] - 29s 40ms/step - loss: 0.1183 - accuracy: 0.9415 - val_loss: 3.0379 - val_accuracy: 0.7039\n",
            "Epoch 41/50\n",
            "720/720 [==============================] - 29s 40ms/step - loss: 0.1195 - accuracy: 0.9414 - val_loss: 3.1547 - val_accuracy: 0.6989\n",
            "Epoch 42/50\n",
            "720/720 [==============================] - 30s 42ms/step - loss: 0.1282 - accuracy: 0.9382 - val_loss: 3.0160 - val_accuracy: 0.6992\n",
            "Epoch 43/50\n",
            "720/720 [==============================] - 30s 41ms/step - loss: 0.1183 - accuracy: 0.9413 - val_loss: 3.2417 - val_accuracy: 0.6991\n",
            "Epoch 44/50\n",
            "720/720 [==============================] - 29s 41ms/step - loss: 0.1185 - accuracy: 0.9436 - val_loss: 3.0918 - val_accuracy: 0.6981\n",
            "Epoch 45/50\n",
            "720/720 [==============================] - 29s 41ms/step - loss: 0.1118 - accuracy: 0.9459 - val_loss: 3.2998 - val_accuracy: 0.6980\n",
            "Epoch 46/50\n",
            "720/720 [==============================] - 30s 41ms/step - loss: 0.1121 - accuracy: 0.9465 - val_loss: 3.3647 - val_accuracy: 0.7050\n",
            "Epoch 47/50\n",
            "720/720 [==============================] - 29s 41ms/step - loss: 0.1078 - accuracy: 0.9485 - val_loss: 3.2425 - val_accuracy: 0.6992\n",
            "Epoch 48/50\n",
            "720/720 [==============================] - 29s 41ms/step - loss: 0.1105 - accuracy: 0.9477 - val_loss: 3.3385 - val_accuracy: 0.6971\n",
            "Epoch 49/50\n",
            "720/720 [==============================] - 30s 41ms/step - loss: 0.1054 - accuracy: 0.9496 - val_loss: 3.4687 - val_accuracy: 0.6961\n",
            "Epoch 50/50\n",
            "720/720 [==============================] - 29s 41ms/step - loss: 0.1033 - accuracy: 0.9505 - val_loss: 3.5099 - val_accuracy: 0.6975\n",
            "Entrainement terminé !\n"
          ],
          "name": "stdout"
        }
      ]
    },
    {
      "cell_type": "code",
      "metadata": {
        "id": "yYZwoFrWQMuA"
      },
      "source": [
        "def plot_model_history(model_history):\r\n",
        "    fig, axs = plt.subplots(1,2,figsize=(15,5))\r\n",
        "    # summarize history for accuracy\r\n",
        "    axs[0].plot(range(1,len(model_history.history['accuracy'])+1),model_history.history['accuracy'])\r\n",
        "    axs[0].plot(range(1,len(model_history.history['val_accuracy'])+1),model_history.history['val_accuracy'])\r\n",
        "    axs[0].set_title('Model Accuracy')\r\n",
        "    axs[0].set_ylabel('Accuracy')\r\n",
        "    axs[0].set_xlabel('Epoch')\r\n",
        "    axs[0].set_xticks(np.arange(1,len(model_history.history['accuracy'])+1),len(model_history.history['accuracy'])/10)\r\n",
        "    axs[0].legend(['train', 'val'], loc='best')\r\n",
        "    # summarize history for loss\r\n",
        "    axs[1].plot(range(1,len(model_history.history['loss'])+1),model_history.history['loss'])\r\n",
        "    axs[1].plot(range(1,len(model_history.history['val_loss'])+1),model_history.history['val_loss'])\r\n",
        "    axs[1].set_title('Model Loss')\r\n",
        "    axs[1].set_ylabel('Loss')\r\n",
        "    axs[1].set_xlabel('Epoch')\r\n",
        "    axs[1].set_xticks(np.arange(1,len(model_history.history['loss'])+1),len(model_history.history['loss'])/10)\r\n",
        "    axs[1].legend(['train', 'val'], loc='best')\r\n",
        "    plt.show()"
      ],
      "execution_count": 213,
      "outputs": []
    },
    {
      "cell_type": "markdown",
      "metadata": {
        "id": "O15pzfYl1VMy"
      },
      "source": [
        "Affichage du graphique d'entraînement de notre modèle"
      ]
    },
    {
      "cell_type": "code",
      "metadata": {
        "id": "6gU0D72mQGZj",
        "colab": {
          "base_uri": "https://localhost:8080/",
          "height": 423
        },
        "outputId": "22a0cda9-02d3-4e60-bbda-a9f37a75f3a4"
      },
      "source": [
        "plot_model_history(history)"
      ],
      "execution_count": 214,
      "outputs": [
        {
          "output_type": "stream",
          "text": [
            "/usr/local/lib/python3.7/dist-packages/ipykernel_launcher.py:9: MatplotlibDeprecationWarning: Passing the minor parameter of set_xticks() positionally is deprecated since Matplotlib 3.2; the parameter will become keyword-only two minor releases later.\n",
            "  if __name__ == '__main__':\n",
            "/usr/local/lib/python3.7/dist-packages/ipykernel_launcher.py:17: MatplotlibDeprecationWarning: Passing the minor parameter of set_xticks() positionally is deprecated since Matplotlib 3.2; the parameter will become keyword-only two minor releases later.\n"
          ],
          "name": "stderr"
        },
        {
          "output_type": "display_data",
          "data": {
            "image/png": "[encoded data removed]",
            "text/plain": [
              "<Figure size 1080x360 with 2 Axes>"
            ]
          },
          "metadata": {
            "tags": [],
            "needs_background": "light"
          }
        }
      ]
    },
    {
      "cell_type": "code",
      "metadata": {
        "id": "0UKxY4gm8kmT",
        "colab": {
          "base_uri": "https://localhost:8080/"
        },
        "outputId": "02daaf25-fee5-4da2-d040-b8c2fbb3f392"
      },
      "source": [
        "score = model.evaluate(x_test, y_test, batch_size = 100)\r\n",
        "print(\"Accuracy :\",score[1]) # précision du modèle"
      ],
      "execution_count": 222,
      "outputs": [
        {
          "output_type": "stream",
          "text": [
            "200/200 [==============================] - 2s 10ms/step - loss: 3.3987 - accuracy: 0.7038\n",
            "Accuracy : 0.7038499712944031\n"
          ],
          "name": "stdout"
        }
      ]
    },
    {
      "cell_type": "markdown",
      "metadata": {
        "id": "pVB-ZhUx1ddE"
      },
      "source": [
        "#V. Tests de prédiction\r\n",
        "\r\n",
        "*get_sentiment* permet de savoir si le tweet est positif ou négatif, selon le score calculé par le modèle"
      ]
    },
    {
      "cell_type": "code",
      "metadata": {
        "id": "Ls4Plawbnyu3"
      },
      "source": [
        "def get_sentiment(score):\r\n",
        "  if score < 0.5 :\r\n",
        "    return \"Negative sentiment\"\r\n",
        "  else : \r\n",
        "    return \"Positive sentiment\""
      ],
      "execution_count": 216,
      "outputs": []
    },
    {
      "cell_type": "markdown",
      "metadata": {
        "id": "KvdIG5vr1sge"
      },
      "source": [
        "*clean_phrase* permet de faire toutes les étapes de prétraitement du texte vues à l'étape 2) Traitement des tweets"
      ]
    },
    {
      "cell_type": "code",
      "metadata": {
        "id": "h1nZMaCur32u"
      },
      "source": [
        "def clean_phrase(text):\r\n",
        "  text.replace('[^a-zA-Z#]',' ')\r\n",
        "  text.lower()\r\n",
        "  text = re.sub('((www\\.[^\\s]+)|(https?://[^\\s]+))',' ',text)\r\n",
        "  text = re.sub('@[^\\s]+',' ', text)\r\n",
        "  text = re.sub('[\\s]+', ' ', text)\r\n",
        "  text = re.sub(r'#([^\\s]+)', r' ', text)\r\n",
        "  text = ' '.join(word for word in text.split() if word not in stopWords)\r\n",
        "  tokens = text.split()\r\n",
        "  tokensStem = [stemmer.stem(i) for i in tokens]\r\n",
        "  textClean = ' '.join(tokensStem)\r\n",
        "  \r\n",
        "  return textClean"
      ],
      "execution_count": 217,
      "outputs": []
    },
    {
      "cell_type": "markdown",
      "metadata": {
        "id": "vABgp2qL1-qf"
      },
      "source": [
        "predict() est la fonction finale qui va prédire si une phrase est positive ou négative"
      ]
    },
    {
      "cell_type": "code",
      "metadata": {
        "id": "8YAv9SwZ0TaB"
      },
      "source": [
        "def predict(text):\r\n",
        "  # clean the text\r\n",
        "  textClean = clean_phrase(text)\r\n",
        "  # Tokenize text\r\n",
        "  x_test = pad_sequences(tokenizer.texts_to_sequences([textClean]), maxlen=max_len)\r\n",
        "  # Predict\r\n",
        "  score = model.predict([x_test])[0]\r\n",
        "  # Decode sentiment\r\n",
        "  label = get_sentiment(score)\r\n",
        "\r\n",
        "  return {\"Label\": label, \"Score\": float(score)}"
      ],
      "execution_count": 218,
      "outputs": []
    },
    {
      "cell_type": "code",
      "metadata": {
        "id": "-ZIMdhE1opRY",
        "colab": {
          "base_uri": "https://localhost:8080/"
        },
        "outputId": "f4e1b1e4-2f0b-4fc2-b3c1-e845c9e8c015"
      },
      "source": [
        "predict(\"I liked the burger\")"
      ],
      "execution_count": 219,
      "outputs": [
        {
          "output_type": "execute_result",
          "data": {
            "text/plain": [
              "{'Label': 'Positive sentiment', 'Score': 1.0}"
            ]
          },
          "metadata": {
            "tags": []
          },
          "execution_count": 219
        }
      ]
    },
    {
      "cell_type": "code",
      "metadata": {
        "id": "wH-xUz8borOQ",
        "colab": {
          "base_uri": "https://localhost:8080/"
        },
        "outputId": "60b2c679-8db1-46d2-98fe-f56d7dc33f66"
      },
      "source": [
        "predict(\"Covid is a really sad period\")"
      ],
      "execution_count": 220,
      "outputs": [
        {
          "output_type": "execute_result",
          "data": {
            "text/plain": [
              "{'Label': 'Negative sentiment', 'Score': 9.470858640270308e-05}"
            ]
          },
          "metadata": {
            "tags": []
          },
          "execution_count": 220
        }
      ]
    },
    {
      "cell_type": "code",
      "metadata": {
        "id": "AMSOeJit5Zem"
      },
      "source": [
        ""
      ],
      "execution_count": 220,
      "outputs": []
    }
  ]
}