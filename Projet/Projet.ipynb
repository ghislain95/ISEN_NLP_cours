{
  "nbformat": 4,
  "nbformat_minor": 0,
  "metadata": {
    "colab": {
      "name": "Projet.ipynb",
      "provenance": [],
      "collapsed_sections": []
    },
    "kernelspec": {
      "name": "python3",
      "display_name": "Python 3"
    },
    "accelerator": "GPU"
  },
  "cells": [
    {
      "cell_type": "markdown",
      "metadata": {
        "id": "yaNnroOjgW72"
      },
      "source": [
        "# 1) Importation des modules\r\n",
        "On importe les différents modules que nous allons utiliser : tensorflow, numpy, pandas, etc..\r\n",
        "Pour la création de notre modèle, nous utilisons des layers de keras\r\n",
        "Nous utilisaons aussi des fonctions (sequence, pad_sequences, etc) de keras pour transformer nos phrases en vecteurs, matrices"
      ]
    },
    {
      "cell_type": "code",
      "metadata": {
        "colab": {
          "base_uri": "https://localhost:8080/"
        },
        "id": "xwR0Ea50w_qy",
        "outputId": "fc973614-7f6a-49f7-dddd-8cdd6979843b"
      },
      "source": [
        "import tensorflow as tf\r\n",
        "from tensorflow import keras\r\n",
        "from tensorflow.keras import preprocessing\r\n",
        "import numpy as np\r\n",
        "import pandas as pd\r\n",
        "import matplotlib.pyplot as plt\r\n",
        "import nltk\r\n",
        "\r\n",
        "from tensorflow.keras.layers import LSTM, Activation, Dense, Dropout, Input, Embedding\r\n",
        "from tensorflow.keras.preprocessing.text import Tokenizer\r\n",
        "from tensorflow.keras.preprocessing import sequence\r\n",
        "from keras.preprocessing.sequence import pad_sequences\r\n",
        "from sklearn.model_selection import train_test_split\r\n",
        "from tensorflow.keras.models import Model\r\n",
        "from tensorflow.keras.optimizers import RMSprop\r\n",
        "from tensorflow import keras\r\n",
        "\r\n",
        "from sklearn.feature_extraction.text import CountVectorizer\r\n",
        "\r\n",
        "nltk.download('punkt')\r\n",
        "nltk.download('stopwords')\r\n",
        "nltk.download('wordnet')\r\n",
        "nltk.download('averaged_perceptron_tagger')"
      ],
      "execution_count": 1,
      "outputs": [
        {
          "output_type": "stream",
          "text": [
            "[nltk_data] Downloading package punkt to /root/nltk_data...\n",
            "[nltk_data]   Unzipping tokenizers/punkt.zip.\n",
            "[nltk_data] Downloading package stopwords to /root/nltk_data...\n",
            "[nltk_data]   Unzipping corpora/stopwords.zip.\n",
            "[nltk_data] Downloading package wordnet to /root/nltk_data...\n",
            "[nltk_data]   Unzipping corpora/wordnet.zip.\n",
            "[nltk_data] Downloading package averaged_perceptron_tagger to\n",
            "[nltk_data]     /root/nltk_data...\n",
            "[nltk_data]   Unzipping taggers/averaged_perceptron_tagger.zip.\n"
          ],
          "name": "stdout"
        },
        {
          "output_type": "execute_result",
          "data": {
            "text/plain": [
              "True"
            ]
          },
          "metadata": {
            "tags": []
          },
          "execution_count": 1
        }
      ]
    },
    {
      "cell_type": "code",
      "metadata": {
        "colab": {
          "base_uri": "https://localhost:8080/"
        },
        "id": "fHwQ9BSDxBOv",
        "outputId": "3d37db5f-497d-4721-b49e-c8f11424239c"
      },
      "source": [
        "from google.colab import drive\r\n",
        "drive.mount('/content/gdrive/')"
      ],
      "execution_count": 2,
      "outputs": [
        {
          "output_type": "stream",
          "text": [
            "Mounted at /content/gdrive/\n"
          ],
          "name": "stdout"
        }
      ]
    },
    {
      "cell_type": "markdown",
      "metadata": {
        "id": "eg5XYt-Ajfyk"
      },
      "source": [
        "On importe le jeu de données disponnible sur le drive (changer le chemin pour le faire fonctionner)"
      ]
    },
    {
      "cell_type": "code",
      "metadata": {
        "id": "CWgf93kaxMLm"
      },
      "source": [
        "df = pd.read_csv('gdrive/MyDrive/Colab Notebooks/Projet/training.1600000.processed.noemoticon.csv', encoding='latin-1', header=None)\r\n",
        "\r\n",
        "df.columns = ['target','id','date','flag','user','text']"
      ],
      "execution_count": 3,
      "outputs": []
    },
    {
      "cell_type": "markdown",
      "metadata": {
        "id": "v2nKqiDAjsgF"
      },
      "source": [
        "Et on visualise le jeu de données"
      ]
    },
    {
      "cell_type": "code",
      "metadata": {
        "colab": {
          "base_uri": "https://localhost:8080/",
          "height": 419
        },
        "id": "PfA01OFLySP4",
        "outputId": "db3c3863-63a7-4667-d8d1-a72ae0ec0e50"
      },
      "source": [
        "#Visualize dataframe\r\n",
        "df"
      ],
      "execution_count": 4,
      "outputs": [
        {
          "output_type": "execute_result",
          "data": {
            "text/html": [
              "<div>\n",
              "<style scoped>\n",
              "    .dataframe tbody tr th:only-of-type {\n",
              "        vertical-align: middle;\n",
              "    }\n",
              "\n",
              "    .dataframe tbody tr th {\n",
              "        vertical-align: top;\n",
              "    }\n",
              "\n",
              "    .dataframe thead th {\n",
              "        text-align: right;\n",
              "    }\n",
              "</style>\n",
              "<table border=\"1\" class=\"dataframe\">\n",
              "  <thead>\n",
              "    <tr style=\"text-align: right;\">\n",
              "      <th></th>\n",
              "      <th>target</th>\n",
              "      <th>id</th>\n",
              "      <th>date</th>\n",
              "      <th>flag</th>\n",
              "      <th>user</th>\n",
              "      <th>text</th>\n",
              "    </tr>\n",
              "  </thead>\n",
              "  <tbody>\n",
              "    <tr>\n",
              "      <th>0</th>\n",
              "      <td>0</td>\n",
              "      <td>1467810369</td>\n",
              "      <td>Mon Apr 06 22:19:45 PDT 2009</td>\n",
              "      <td>NO_QUERY</td>\n",
              "      <td>_TheSpecialOne_</td>\n",
              "      <td>@switchfoot http://twitpic.com/2y1zl - Awww, t...</td>\n",
              "    </tr>\n",
              "    <tr>\n",
              "      <th>1</th>\n",
              "      <td>0</td>\n",
              "      <td>1467810672</td>\n",
              "      <td>Mon Apr 06 22:19:49 PDT 2009</td>\n",
              "      <td>NO_QUERY</td>\n",
              "      <td>scotthamilton</td>\n",
              "      <td>is upset that he can't update his Facebook by ...</td>\n",
              "    </tr>\n",
              "    <tr>\n",
              "      <th>2</th>\n",
              "      <td>0</td>\n",
              "      <td>1467810917</td>\n",
              "      <td>Mon Apr 06 22:19:53 PDT 2009</td>\n",
              "      <td>NO_QUERY</td>\n",
              "      <td>mattycus</td>\n",
              "      <td>@Kenichan I dived many times for the ball. Man...</td>\n",
              "    </tr>\n",
              "    <tr>\n",
              "      <th>3</th>\n",
              "      <td>0</td>\n",
              "      <td>1467811184</td>\n",
              "      <td>Mon Apr 06 22:19:57 PDT 2009</td>\n",
              "      <td>NO_QUERY</td>\n",
              "      <td>ElleCTF</td>\n",
              "      <td>my whole body feels itchy and like its on fire</td>\n",
              "    </tr>\n",
              "    <tr>\n",
              "      <th>4</th>\n",
              "      <td>0</td>\n",
              "      <td>1467811193</td>\n",
              "      <td>Mon Apr 06 22:19:57 PDT 2009</td>\n",
              "      <td>NO_QUERY</td>\n",
              "      <td>Karoli</td>\n",
              "      <td>@nationwideclass no, it's not behaving at all....</td>\n",
              "    </tr>\n",
              "    <tr>\n",
              "      <th>...</th>\n",
              "      <td>...</td>\n",
              "      <td>...</td>\n",
              "      <td>...</td>\n",
              "      <td>...</td>\n",
              "      <td>...</td>\n",
              "      <td>...</td>\n",
              "    </tr>\n",
              "    <tr>\n",
              "      <th>1599995</th>\n",
              "      <td>4</td>\n",
              "      <td>2193601966</td>\n",
              "      <td>Tue Jun 16 08:40:49 PDT 2009</td>\n",
              "      <td>NO_QUERY</td>\n",
              "      <td>AmandaMarie1028</td>\n",
              "      <td>Just woke up. Having no school is the best fee...</td>\n",
              "    </tr>\n",
              "    <tr>\n",
              "      <th>1599996</th>\n",
              "      <td>4</td>\n",
              "      <td>2193601969</td>\n",
              "      <td>Tue Jun 16 08:40:49 PDT 2009</td>\n",
              "      <td>NO_QUERY</td>\n",
              "      <td>TheWDBoards</td>\n",
              "      <td>TheWDB.com - Very cool to hear old Walt interv...</td>\n",
              "    </tr>\n",
              "    <tr>\n",
              "      <th>1599997</th>\n",
              "      <td>4</td>\n",
              "      <td>2193601991</td>\n",
              "      <td>Tue Jun 16 08:40:49 PDT 2009</td>\n",
              "      <td>NO_QUERY</td>\n",
              "      <td>bpbabe</td>\n",
              "      <td>Are you ready for your MoJo Makeover? Ask me f...</td>\n",
              "    </tr>\n",
              "    <tr>\n",
              "      <th>1599998</th>\n",
              "      <td>4</td>\n",
              "      <td>2193602064</td>\n",
              "      <td>Tue Jun 16 08:40:49 PDT 2009</td>\n",
              "      <td>NO_QUERY</td>\n",
              "      <td>tinydiamondz</td>\n",
              "      <td>Happy 38th Birthday to my boo of alll time!!! ...</td>\n",
              "    </tr>\n",
              "    <tr>\n",
              "      <th>1599999</th>\n",
              "      <td>4</td>\n",
              "      <td>2193602129</td>\n",
              "      <td>Tue Jun 16 08:40:50 PDT 2009</td>\n",
              "      <td>NO_QUERY</td>\n",
              "      <td>RyanTrevMorris</td>\n",
              "      <td>happy #charitytuesday @theNSPCC @SparksCharity...</td>\n",
              "    </tr>\n",
              "  </tbody>\n",
              "</table>\n",
              "<p>1600000 rows × 6 columns</p>\n",
              "</div>"
            ],
            "text/plain": [
              "         target  ...                                               text\n",
              "0             0  ...  @switchfoot http://twitpic.com/2y1zl - Awww, t...\n",
              "1             0  ...  is upset that he can't update his Facebook by ...\n",
              "2             0  ...  @Kenichan I dived many times for the ball. Man...\n",
              "3             0  ...    my whole body feels itchy and like its on fire \n",
              "4             0  ...  @nationwideclass no, it's not behaving at all....\n",
              "...         ...  ...                                                ...\n",
              "1599995       4  ...  Just woke up. Having no school is the best fee...\n",
              "1599996       4  ...  TheWDB.com - Very cool to hear old Walt interv...\n",
              "1599997       4  ...  Are you ready for your MoJo Makeover? Ask me f...\n",
              "1599998       4  ...  Happy 38th Birthday to my boo of alll time!!! ...\n",
              "1599999       4  ...  happy #charitytuesday @theNSPCC @SparksCharity...\n",
              "\n",
              "[1600000 rows x 6 columns]"
            ]
          },
          "metadata": {
            "tags": []
          },
          "execution_count": 4
        }
      ]
    },
    {
      "cell_type": "markdown",
      "metadata": {
        "id": "vnwwOgGAjvcD"
      },
      "source": [
        "On peut voir qu'il y a 1600000 tweets, avec 6 colonnes (target(le sentiment), id du tweet, la date, flag, l'utilisateur qui a tweeté et le tweet (text))"
      ]
    },
    {
      "cell_type": "code",
      "metadata": {
        "colab": {
          "base_uri": "https://localhost:8080/"
        },
        "id": "xYojKMz2CZsB",
        "outputId": "c38ee2da-42d9-4e8d-a361-d1717654c990"
      },
      "source": [
        "print(\"Shape : \" + str(df.shape))\r\n",
        "print(\"Length : \" + str(len(df)))"
      ],
      "execution_count": 5,
      "outputs": [
        {
          "output_type": "stream",
          "text": [
            "Shape : (1600000, 6)\n",
            "Length : 1600000\n"
          ],
          "name": "stdout"
        }
      ]
    },
    {
      "cell_type": "markdown",
      "metadata": {
        "id": "0-J-yx5dkGDF"
      },
      "source": [
        "Le seules colonnes qui nous intéressent sont celles du sentiment et le texte, on ne garde donc que celles-là dans notre jeu de données"
      ]
    },
    {
      "cell_type": "code",
      "metadata": {
        "colab": {
          "base_uri": "https://localhost:8080/",
          "height": 419
        },
        "id": "Hq7pmekryb_C",
        "outputId": "cee8d849-e6df-4e63-9f47-6058d17da574"
      },
      "source": [
        "#Let's keep only targets and text\r\n",
        "df = df[['target','text']]\r\n",
        "df"
      ],
      "execution_count": 6,
      "outputs": [
        {
          "output_type": "execute_result",
          "data": {
            "text/html": [
              "<div>\n",
              "<style scoped>\n",
              "    .dataframe tbody tr th:only-of-type {\n",
              "        vertical-align: middle;\n",
              "    }\n",
              "\n",
              "    .dataframe tbody tr th {\n",
              "        vertical-align: top;\n",
              "    }\n",
              "\n",
              "    .dataframe thead th {\n",
              "        text-align: right;\n",
              "    }\n",
              "</style>\n",
              "<table border=\"1\" class=\"dataframe\">\n",
              "  <thead>\n",
              "    <tr style=\"text-align: right;\">\n",
              "      <th></th>\n",
              "      <th>target</th>\n",
              "      <th>text</th>\n",
              "    </tr>\n",
              "  </thead>\n",
              "  <tbody>\n",
              "    <tr>\n",
              "      <th>0</th>\n",
              "      <td>0</td>\n",
              "      <td>@switchfoot http://twitpic.com/2y1zl - Awww, t...</td>\n",
              "    </tr>\n",
              "    <tr>\n",
              "      <th>1</th>\n",
              "      <td>0</td>\n",
              "      <td>is upset that he can't update his Facebook by ...</td>\n",
              "    </tr>\n",
              "    <tr>\n",
              "      <th>2</th>\n",
              "      <td>0</td>\n",
              "      <td>@Kenichan I dived many times for the ball. Man...</td>\n",
              "    </tr>\n",
              "    <tr>\n",
              "      <th>3</th>\n",
              "      <td>0</td>\n",
              "      <td>my whole body feels itchy and like its on fire</td>\n",
              "    </tr>\n",
              "    <tr>\n",
              "      <th>4</th>\n",
              "      <td>0</td>\n",
              "      <td>@nationwideclass no, it's not behaving at all....</td>\n",
              "    </tr>\n",
              "    <tr>\n",
              "      <th>...</th>\n",
              "      <td>...</td>\n",
              "      <td>...</td>\n",
              "    </tr>\n",
              "    <tr>\n",
              "      <th>1599995</th>\n",
              "      <td>4</td>\n",
              "      <td>Just woke up. Having no school is the best fee...</td>\n",
              "    </tr>\n",
              "    <tr>\n",
              "      <th>1599996</th>\n",
              "      <td>4</td>\n",
              "      <td>TheWDB.com - Very cool to hear old Walt interv...</td>\n",
              "    </tr>\n",
              "    <tr>\n",
              "      <th>1599997</th>\n",
              "      <td>4</td>\n",
              "      <td>Are you ready for your MoJo Makeover? Ask me f...</td>\n",
              "    </tr>\n",
              "    <tr>\n",
              "      <th>1599998</th>\n",
              "      <td>4</td>\n",
              "      <td>Happy 38th Birthday to my boo of alll time!!! ...</td>\n",
              "    </tr>\n",
              "    <tr>\n",
              "      <th>1599999</th>\n",
              "      <td>4</td>\n",
              "      <td>happy #charitytuesday @theNSPCC @SparksCharity...</td>\n",
              "    </tr>\n",
              "  </tbody>\n",
              "</table>\n",
              "<p>1600000 rows × 2 columns</p>\n",
              "</div>"
            ],
            "text/plain": [
              "         target                                               text\n",
              "0             0  @switchfoot http://twitpic.com/2y1zl - Awww, t...\n",
              "1             0  is upset that he can't update his Facebook by ...\n",
              "2             0  @Kenichan I dived many times for the ball. Man...\n",
              "3             0    my whole body feels itchy and like its on fire \n",
              "4             0  @nationwideclass no, it's not behaving at all....\n",
              "...         ...                                                ...\n",
              "1599995       4  Just woke up. Having no school is the best fee...\n",
              "1599996       4  TheWDB.com - Very cool to hear old Walt interv...\n",
              "1599997       4  Are you ready for your MoJo Makeover? Ask me f...\n",
              "1599998       4  Happy 38th Birthday to my boo of alll time!!! ...\n",
              "1599999       4  happy #charitytuesday @theNSPCC @SparksCharity...\n",
              "\n",
              "[1600000 rows x 2 columns]"
            ]
          },
          "metadata": {
            "tags": []
          },
          "execution_count": 6
        }
      ]
    },
    {
      "cell_type": "markdown",
      "metadata": {
        "id": "7D5IUpZHkRMB"
      },
      "source": [
        "# 2) Traitement des tweets\r\n",
        "Maintenant que nous avons ce qui nous intéresse, il va falloir traiter le texte\r\n",
        "\r\n",
        "On commence par la fonction clean_tweet, qui va permettre d'enlever les liens (www., http:://), les mentions (@user), les zones vides, ainsi que les hashtags\r\n",
        "\r\n",
        "On crée une nouvelle colonne dans notre dataframe, dans laquelle on mets le tweet \"nettoyé\""
      ]
    },
    {
      "cell_type": "code",
      "metadata": {
        "colab": {
          "base_uri": "https://localhost:8080/",
          "height": 521
        },
        "id": "hDwPIkJuv5TF",
        "outputId": "3a4e60eb-16af-455e-bbcf-cf3d274b738e"
      },
      "source": [
        "import re\r\n",
        "def clean_tweet(text):\r\n",
        "    text = re.sub('((www\\.[^\\s]+)|(https?://[^\\s]+))',' ',text) #remove links\r\n",
        "    text = re.sub('@[^\\s]+',' ', text) #remove mentions\r\n",
        "    text = re.sub('[\\s]+', ' ', text) #remove blanks\r\n",
        "    text = re.sub(r'#([^\\s]+)', r' ', text) #remove #\r\n",
        "    return text\r\n",
        "df['clean_tweet'] = df.text.apply(clean_tweet)\r\n",
        "df"
      ],
      "execution_count": 7,
      "outputs": [
        {
          "output_type": "stream",
          "text": [
            "/usr/local/lib/python3.7/dist-packages/ipykernel_launcher.py:8: SettingWithCopyWarning: \n",
            "A value is trying to be set on a copy of a slice from a DataFrame.\n",
            "Try using .loc[row_indexer,col_indexer] = value instead\n",
            "\n",
            "See the caveats in the documentation: https://pandas.pydata.org/pandas-docs/stable/user_guide/indexing.html#returning-a-view-versus-a-copy\n",
            "  \n"
          ],
          "name": "stderr"
        },
        {
          "output_type": "execute_result",
          "data": {
            "text/html": [
              "<div>\n",
              "<style scoped>\n",
              "    .dataframe tbody tr th:only-of-type {\n",
              "        vertical-align: middle;\n",
              "    }\n",
              "\n",
              "    .dataframe tbody tr th {\n",
              "        vertical-align: top;\n",
              "    }\n",
              "\n",
              "    .dataframe thead th {\n",
              "        text-align: right;\n",
              "    }\n",
              "</style>\n",
              "<table border=\"1\" class=\"dataframe\">\n",
              "  <thead>\n",
              "    <tr style=\"text-align: right;\">\n",
              "      <th></th>\n",
              "      <th>target</th>\n",
              "      <th>text</th>\n",
              "      <th>clean_tweet</th>\n",
              "    </tr>\n",
              "  </thead>\n",
              "  <tbody>\n",
              "    <tr>\n",
              "      <th>0</th>\n",
              "      <td>0</td>\n",
              "      <td>@switchfoot http://twitpic.com/2y1zl - Awww, t...</td>\n",
              "      <td>- Awww, that's a bummer. You shoulda got Davi...</td>\n",
              "    </tr>\n",
              "    <tr>\n",
              "      <th>1</th>\n",
              "      <td>0</td>\n",
              "      <td>is upset that he can't update his Facebook by ...</td>\n",
              "      <td>is upset that he can't update his Facebook by ...</td>\n",
              "    </tr>\n",
              "    <tr>\n",
              "      <th>2</th>\n",
              "      <td>0</td>\n",
              "      <td>@Kenichan I dived many times for the ball. Man...</td>\n",
              "      <td>I dived many times for the ball. Managed to s...</td>\n",
              "    </tr>\n",
              "    <tr>\n",
              "      <th>3</th>\n",
              "      <td>0</td>\n",
              "      <td>my whole body feels itchy and like its on fire</td>\n",
              "      <td>my whole body feels itchy and like its on fire</td>\n",
              "    </tr>\n",
              "    <tr>\n",
              "      <th>4</th>\n",
              "      <td>0</td>\n",
              "      <td>@nationwideclass no, it's not behaving at all....</td>\n",
              "      <td>no, it's not behaving at all. i'm mad. why am...</td>\n",
              "    </tr>\n",
              "    <tr>\n",
              "      <th>...</th>\n",
              "      <td>...</td>\n",
              "      <td>...</td>\n",
              "      <td>...</td>\n",
              "    </tr>\n",
              "    <tr>\n",
              "      <th>1599995</th>\n",
              "      <td>4</td>\n",
              "      <td>Just woke up. Having no school is the best fee...</td>\n",
              "      <td>Just woke up. Having no school is the best fee...</td>\n",
              "    </tr>\n",
              "    <tr>\n",
              "      <th>1599996</th>\n",
              "      <td>4</td>\n",
              "      <td>TheWDB.com - Very cool to hear old Walt interv...</td>\n",
              "      <td>TheWDB.com - Very cool to hear old Walt interv...</td>\n",
              "    </tr>\n",
              "    <tr>\n",
              "      <th>1599997</th>\n",
              "      <td>4</td>\n",
              "      <td>Are you ready for your MoJo Makeover? Ask me f...</td>\n",
              "      <td>Are you ready for your MoJo Makeover? Ask me f...</td>\n",
              "    </tr>\n",
              "    <tr>\n",
              "      <th>1599998</th>\n",
              "      <td>4</td>\n",
              "      <td>Happy 38th Birthday to my boo of alll time!!! ...</td>\n",
              "      <td>Happy 38th Birthday to my boo of alll time!!! ...</td>\n",
              "    </tr>\n",
              "    <tr>\n",
              "      <th>1599999</th>\n",
              "      <td>4</td>\n",
              "      <td>happy #charitytuesday @theNSPCC @SparksCharity...</td>\n",
              "      <td>happy</td>\n",
              "    </tr>\n",
              "  </tbody>\n",
              "</table>\n",
              "<p>1600000 rows × 3 columns</p>\n",
              "</div>"
            ],
            "text/plain": [
              "         target  ...                                        clean_tweet\n",
              "0             0  ...   - Awww, that's a bummer. You shoulda got Davi...\n",
              "1             0  ...  is upset that he can't update his Facebook by ...\n",
              "2             0  ...   I dived many times for the ball. Managed to s...\n",
              "3             0  ...    my whole body feels itchy and like its on fire \n",
              "4             0  ...   no, it's not behaving at all. i'm mad. why am...\n",
              "...         ...  ...                                                ...\n",
              "1599995       4  ...  Just woke up. Having no school is the best fee...\n",
              "1599996       4  ...  TheWDB.com - Very cool to hear old Walt interv...\n",
              "1599997       4  ...  Are you ready for your MoJo Makeover? Ask me f...\n",
              "1599998       4  ...  Happy 38th Birthday to my boo of alll time!!! ...\n",
              "1599999       4  ...                                           happy   \n",
              "\n",
              "[1600000 rows x 3 columns]"
            ]
          },
          "metadata": {
            "tags": []
          },
          "execution_count": 7
        }
      ]
    },
    {
      "cell_type": "markdown",
      "metadata": {
        "id": "rIfvT-GulIbr"
      },
      "source": [
        "Ensuite, nous continuons le nettoyage des tweets en supprimant les ponctuations (on décide de ne garder que les lettres). Puis on mets toutes nos lettres en minuscule. Enfin, on supprime les stopwords. Les tweets étant en anglais, on utilise le dictionnaire de stopwords anglais.\r\n",
        "\r\n",
        "On remplace les tweets de la colonne clean_tweets par les nouveaux tweets"
      ]
    },
    {
      "cell_type": "code",
      "metadata": {
        "colab": {
          "base_uri": "https://localhost:8080/",
          "height": 521
        },
        "id": "AlNb1_73ydne",
        "outputId": "87bd2596-d496-438d-bec8-876765835f54"
      },
      "source": [
        "#Remove punctiations, numbers, uppercases letters and stopwords in tweets\r\n",
        "from nltk.corpus import stopwords\r\n",
        "stopWords = set(stopwords.words('english'))\r\n",
        "def remove_punct(text):\r\n",
        "    text = text.str.replace('[^a-zA-Z#]',' ') # keep only letters, if not a letter replace with space\r\n",
        "    text = text.str.lower() #remove uppercases letters\r\n",
        "    text = text.apply(lambda x: ' '.join(w for w in x.split() if w not in stopWords)) # remove stopwords\r\n",
        "    return text\r\n",
        "df['clean_tweet'] = remove_punct(df['clean_tweet'])\r\n",
        "df "
      ],
      "execution_count": 8,
      "outputs": [
        {
          "output_type": "stream",
          "text": [
            "/usr/local/lib/python3.7/dist-packages/ipykernel_launcher.py:9: SettingWithCopyWarning: \n",
            "A value is trying to be set on a copy of a slice from a DataFrame.\n",
            "Try using .loc[row_indexer,col_indexer] = value instead\n",
            "\n",
            "See the caveats in the documentation: https://pandas.pydata.org/pandas-docs/stable/user_guide/indexing.html#returning-a-view-versus-a-copy\n",
            "  if __name__ == '__main__':\n"
          ],
          "name": "stderr"
        },
        {
          "output_type": "execute_result",
          "data": {
            "text/html": [
              "<div>\n",
              "<style scoped>\n",
              "    .dataframe tbody tr th:only-of-type {\n",
              "        vertical-align: middle;\n",
              "    }\n",
              "\n",
              "    .dataframe tbody tr th {\n",
              "        vertical-align: top;\n",
              "    }\n",
              "\n",
              "    .dataframe thead th {\n",
              "        text-align: right;\n",
              "    }\n",
              "</style>\n",
              "<table border=\"1\" class=\"dataframe\">\n",
              "  <thead>\n",
              "    <tr style=\"text-align: right;\">\n",
              "      <th></th>\n",
              "      <th>target</th>\n",
              "      <th>text</th>\n",
              "      <th>clean_tweet</th>\n",
              "    </tr>\n",
              "  </thead>\n",
              "  <tbody>\n",
              "    <tr>\n",
              "      <th>0</th>\n",
              "      <td>0</td>\n",
              "      <td>@switchfoot http://twitpic.com/2y1zl - Awww, t...</td>\n",
              "      <td>awww bummer shoulda got david carr third day</td>\n",
              "    </tr>\n",
              "    <tr>\n",
              "      <th>1</th>\n",
              "      <td>0</td>\n",
              "      <td>is upset that he can't update his Facebook by ...</td>\n",
              "      <td>upset update facebook texting might cry result...</td>\n",
              "    </tr>\n",
              "    <tr>\n",
              "      <th>2</th>\n",
              "      <td>0</td>\n",
              "      <td>@Kenichan I dived many times for the ball. Man...</td>\n",
              "      <td>dived many times ball managed save rest go bounds</td>\n",
              "    </tr>\n",
              "    <tr>\n",
              "      <th>3</th>\n",
              "      <td>0</td>\n",
              "      <td>my whole body feels itchy and like its on fire</td>\n",
              "      <td>whole body feels itchy like fire</td>\n",
              "    </tr>\n",
              "    <tr>\n",
              "      <th>4</th>\n",
              "      <td>0</td>\n",
              "      <td>@nationwideclass no, it's not behaving at all....</td>\n",
              "      <td>behaving mad see</td>\n",
              "    </tr>\n",
              "    <tr>\n",
              "      <th>...</th>\n",
              "      <td>...</td>\n",
              "      <td>...</td>\n",
              "      <td>...</td>\n",
              "    </tr>\n",
              "    <tr>\n",
              "      <th>1599995</th>\n",
              "      <td>4</td>\n",
              "      <td>Just woke up. Having no school is the best fee...</td>\n",
              "      <td>woke school best feeling ever</td>\n",
              "    </tr>\n",
              "    <tr>\n",
              "      <th>1599996</th>\n",
              "      <td>4</td>\n",
              "      <td>TheWDB.com - Very cool to hear old Walt interv...</td>\n",
              "      <td>thewdb com cool hear old walt interviews</td>\n",
              "    </tr>\n",
              "    <tr>\n",
              "      <th>1599997</th>\n",
              "      <td>4</td>\n",
              "      <td>Are you ready for your MoJo Makeover? Ask me f...</td>\n",
              "      <td>ready mojo makeover ask details</td>\n",
              "    </tr>\n",
              "    <tr>\n",
              "      <th>1599998</th>\n",
              "      <td>4</td>\n",
              "      <td>Happy 38th Birthday to my boo of alll time!!! ...</td>\n",
              "      <td>happy th birthday boo alll time tupac amaru sh...</td>\n",
              "    </tr>\n",
              "    <tr>\n",
              "      <th>1599999</th>\n",
              "      <td>4</td>\n",
              "      <td>happy #charitytuesday @theNSPCC @SparksCharity...</td>\n",
              "      <td>happy</td>\n",
              "    </tr>\n",
              "  </tbody>\n",
              "</table>\n",
              "<p>1600000 rows × 3 columns</p>\n",
              "</div>"
            ],
            "text/plain": [
              "         target  ...                                        clean_tweet\n",
              "0             0  ...       awww bummer shoulda got david carr third day\n",
              "1             0  ...  upset update facebook texting might cry result...\n",
              "2             0  ...  dived many times ball managed save rest go bounds\n",
              "3             0  ...                   whole body feels itchy like fire\n",
              "4             0  ...                                   behaving mad see\n",
              "...         ...  ...                                                ...\n",
              "1599995       4  ...                      woke school best feeling ever\n",
              "1599996       4  ...           thewdb com cool hear old walt interviews\n",
              "1599997       4  ...                    ready mojo makeover ask details\n",
              "1599998       4  ...  happy th birthday boo alll time tupac amaru sh...\n",
              "1599999       4  ...                                              happy\n",
              "\n",
              "[1600000 rows x 3 columns]"
            ]
          },
          "metadata": {
            "tags": []
          },
          "execution_count": 8
        }
      ]
    },
    {
      "cell_type": "markdown",
      "metadata": {
        "id": "su_ucgMpl7oB"
      },
      "source": [
        "L'étape suivante est le Stemming. Pour procéder, nous devons tokenizer chaque tweet en splitant simplement les mots dans les tweets"
      ]
    },
    {
      "cell_type": "code",
      "metadata": {
        "colab": {
          "base_uri": "https://localhost:8080/"
        },
        "id": "uaqFDG4G4eLl",
        "outputId": "7951a7cd-e6b2-41ed-82f6-28deed42f735"
      },
      "source": [
        "#tokenize texts\r\n",
        "tokenized_text = df['clean_tweet'].apply(lambda x: x.split())\r\n",
        "tokenized_text.head()"
      ],
      "execution_count": 9,
      "outputs": [
        {
          "output_type": "execute_result",
          "data": {
            "text/plain": [
              "0    [awww, bummer, shoulda, got, david, carr, thir...\n",
              "1    [upset, update, facebook, texting, might, cry,...\n",
              "2    [dived, many, times, ball, managed, save, rest...\n",
              "3              [whole, body, feels, itchy, like, fire]\n",
              "4                                 [behaving, mad, see]\n",
              "Name: clean_tweet, dtype: object"
            ]
          },
          "metadata": {
            "tags": []
          },
          "execution_count": 9
        }
      ]
    },
    {
      "cell_type": "markdown",
      "metadata": {
        "id": "BPeML5PSmJI1"
      },
      "source": [
        "Puis nous appliquons le Stemming (PorterStemming) à nos tokens"
      ]
    },
    {
      "cell_type": "code",
      "metadata": {
        "colab": {
          "base_uri": "https://localhost:8080/"
        },
        "id": "CXdaqP7849py",
        "outputId": "449b25e7-3a66-44cf-9746-82ecebac99cf"
      },
      "source": [
        "#stemming words\r\n",
        "from nltk.stem.porter import *\r\n",
        "stemmer = PorterStemmer()\r\n",
        "\r\n",
        "tokenized_text = tokenized_text.apply(lambda x: [stemmer.stem(i) for i in x])\r\n",
        "tokenized_text.head()"
      ],
      "execution_count": 10,
      "outputs": [
        {
          "output_type": "execute_result",
          "data": {
            "text/plain": [
              "0    [awww, bummer, shoulda, got, david, carr, thir...\n",
              "1    [upset, updat, facebook, text, might, cri, res...\n",
              "2    [dive, mani, time, ball, manag, save, rest, go...\n",
              "3               [whole, bodi, feel, itchi, like, fire]\n",
              "4                                    [behav, mad, see]\n",
              "Name: clean_tweet, dtype: object"
            ]
          },
          "metadata": {
            "tags": []
          },
          "execution_count": 10
        }
      ]
    },
    {
      "cell_type": "markdown",
      "metadata": {
        "id": "wOeQ2jDYmSd3"
      },
      "source": [
        "Nous créons une nouvelle colonne représentant les tokens + Stemming des tweets"
      ]
    },
    {
      "cell_type": "code",
      "metadata": {
        "colab": {
          "base_uri": "https://localhost:8080/",
          "height": 521
        },
        "id": "BwIRDVC8HTB7",
        "outputId": "c3d5c38a-442c-4e02-bedf-1e30cc5da145"
      },
      "source": [
        "df['tokens'] = tokenized_text\r\n",
        "df"
      ],
      "execution_count": 11,
      "outputs": [
        {
          "output_type": "stream",
          "text": [
            "/usr/local/lib/python3.7/dist-packages/ipykernel_launcher.py:1: SettingWithCopyWarning: \n",
            "A value is trying to be set on a copy of a slice from a DataFrame.\n",
            "Try using .loc[row_indexer,col_indexer] = value instead\n",
            "\n",
            "See the caveats in the documentation: https://pandas.pydata.org/pandas-docs/stable/user_guide/indexing.html#returning-a-view-versus-a-copy\n",
            "  \"\"\"Entry point for launching an IPython kernel.\n"
          ],
          "name": "stderr"
        },
        {
          "output_type": "execute_result",
          "data": {
            "text/html": [
              "<div>\n",
              "<style scoped>\n",
              "    .dataframe tbody tr th:only-of-type {\n",
              "        vertical-align: middle;\n",
              "    }\n",
              "\n",
              "    .dataframe tbody tr th {\n",
              "        vertical-align: top;\n",
              "    }\n",
              "\n",
              "    .dataframe thead th {\n",
              "        text-align: right;\n",
              "    }\n",
              "</style>\n",
              "<table border=\"1\" class=\"dataframe\">\n",
              "  <thead>\n",
              "    <tr style=\"text-align: right;\">\n",
              "      <th></th>\n",
              "      <th>target</th>\n",
              "      <th>text</th>\n",
              "      <th>clean_tweet</th>\n",
              "      <th>tokens</th>\n",
              "    </tr>\n",
              "  </thead>\n",
              "  <tbody>\n",
              "    <tr>\n",
              "      <th>0</th>\n",
              "      <td>0</td>\n",
              "      <td>@switchfoot http://twitpic.com/2y1zl - Awww, t...</td>\n",
              "      <td>awww bummer shoulda got david carr third day</td>\n",
              "      <td>[awww, bummer, shoulda, got, david, carr, thir...</td>\n",
              "    </tr>\n",
              "    <tr>\n",
              "      <th>1</th>\n",
              "      <td>0</td>\n",
              "      <td>is upset that he can't update his Facebook by ...</td>\n",
              "      <td>upset update facebook texting might cry result...</td>\n",
              "      <td>[upset, updat, facebook, text, might, cri, res...</td>\n",
              "    </tr>\n",
              "    <tr>\n",
              "      <th>2</th>\n",
              "      <td>0</td>\n",
              "      <td>@Kenichan I dived many times for the ball. Man...</td>\n",
              "      <td>dived many times ball managed save rest go bounds</td>\n",
              "      <td>[dive, mani, time, ball, manag, save, rest, go...</td>\n",
              "    </tr>\n",
              "    <tr>\n",
              "      <th>3</th>\n",
              "      <td>0</td>\n",
              "      <td>my whole body feels itchy and like its on fire</td>\n",
              "      <td>whole body feels itchy like fire</td>\n",
              "      <td>[whole, bodi, feel, itchi, like, fire]</td>\n",
              "    </tr>\n",
              "    <tr>\n",
              "      <th>4</th>\n",
              "      <td>0</td>\n",
              "      <td>@nationwideclass no, it's not behaving at all....</td>\n",
              "      <td>behaving mad see</td>\n",
              "      <td>[behav, mad, see]</td>\n",
              "    </tr>\n",
              "    <tr>\n",
              "      <th>...</th>\n",
              "      <td>...</td>\n",
              "      <td>...</td>\n",
              "      <td>...</td>\n",
              "      <td>...</td>\n",
              "    </tr>\n",
              "    <tr>\n",
              "      <th>1599995</th>\n",
              "      <td>4</td>\n",
              "      <td>Just woke up. Having no school is the best fee...</td>\n",
              "      <td>woke school best feeling ever</td>\n",
              "      <td>[woke, school, best, feel, ever]</td>\n",
              "    </tr>\n",
              "    <tr>\n",
              "      <th>1599996</th>\n",
              "      <td>4</td>\n",
              "      <td>TheWDB.com - Very cool to hear old Walt interv...</td>\n",
              "      <td>thewdb com cool hear old walt interviews</td>\n",
              "      <td>[thewdb, com, cool, hear, old, walt, interview]</td>\n",
              "    </tr>\n",
              "    <tr>\n",
              "      <th>1599997</th>\n",
              "      <td>4</td>\n",
              "      <td>Are you ready for your MoJo Makeover? Ask me f...</td>\n",
              "      <td>ready mojo makeover ask details</td>\n",
              "      <td>[readi, mojo, makeov, ask, detail]</td>\n",
              "    </tr>\n",
              "    <tr>\n",
              "      <th>1599998</th>\n",
              "      <td>4</td>\n",
              "      <td>Happy 38th Birthday to my boo of alll time!!! ...</td>\n",
              "      <td>happy th birthday boo alll time tupac amaru sh...</td>\n",
              "      <td>[happi, th, birthday, boo, alll, time, tupac, ...</td>\n",
              "    </tr>\n",
              "    <tr>\n",
              "      <th>1599999</th>\n",
              "      <td>4</td>\n",
              "      <td>happy #charitytuesday @theNSPCC @SparksCharity...</td>\n",
              "      <td>happy</td>\n",
              "      <td>[happi]</td>\n",
              "    </tr>\n",
              "  </tbody>\n",
              "</table>\n",
              "<p>1600000 rows × 4 columns</p>\n",
              "</div>"
            ],
            "text/plain": [
              "         target  ...                                             tokens\n",
              "0             0  ...  [awww, bummer, shoulda, got, david, carr, thir...\n",
              "1             0  ...  [upset, updat, facebook, text, might, cri, res...\n",
              "2             0  ...  [dive, mani, time, ball, manag, save, rest, go...\n",
              "3             0  ...             [whole, bodi, feel, itchi, like, fire]\n",
              "4             0  ...                                  [behav, mad, see]\n",
              "...         ...  ...                                                ...\n",
              "1599995       4  ...                   [woke, school, best, feel, ever]\n",
              "1599996       4  ...    [thewdb, com, cool, hear, old, walt, interview]\n",
              "1599997       4  ...                 [readi, mojo, makeov, ask, detail]\n",
              "1599998       4  ...  [happi, th, birthday, boo, alll, time, tupac, ...\n",
              "1599999       4  ...                                            [happi]\n",
              "\n",
              "[1600000 rows x 4 columns]"
            ]
          },
          "metadata": {
            "tags": []
          },
          "execution_count": 11
        }
      ]
    },
    {
      "cell_type": "markdown",
      "metadata": {
        "id": "wGo-GSnAmdKf"
      },
      "source": [
        "Enfin, nous recréons les phrases en rassemblant tous les tokens. Nous obtenons donc les tweets finaux, qui vont nous servir pour l'entrainement.\r\n",
        "Ces textes sont placés dans une nouvelle colonne, *clean_tweet_final*"
      ]
    },
    {
      "cell_type": "code",
      "metadata": {
        "colab": {
          "base_uri": "https://localhost:8080/"
        },
        "id": "YEUhnRIo8OjK",
        "outputId": "149d901f-b611-4672-9cf4-854b7499aa7c"
      },
      "source": [
        "# now let's see how clean tweets look like in the dataframe\r\n",
        "for i in range(len(tokenized_text)):\r\n",
        "    tokenized_text[i] = ' '.join(tokenized_text[i])\r\n",
        "\r\n",
        "df['clean_tweet_final'] = tokenized_text"
      ],
      "execution_count": 12,
      "outputs": [
        {
          "output_type": "stream",
          "text": [
            "/usr/local/lib/python3.7/dist-packages/ipykernel_launcher.py:5: SettingWithCopyWarning: \n",
            "A value is trying to be set on a copy of a slice from a DataFrame.\n",
            "Try using .loc[row_indexer,col_indexer] = value instead\n",
            "\n",
            "See the caveats in the documentation: https://pandas.pydata.org/pandas-docs/stable/user_guide/indexing.html#returning-a-view-versus-a-copy\n",
            "  \"\"\"\n"
          ],
          "name": "stderr"
        }
      ]
    },
    {
      "cell_type": "code",
      "metadata": {
        "colab": {
          "base_uri": "https://localhost:8080/",
          "height": 419
        },
        "id": "qG_5nPLaPkL4",
        "outputId": "f02687bb-ba2b-420c-9d2d-afd022af9b34"
      },
      "source": [
        "df"
      ],
      "execution_count": 13,
      "outputs": [
        {
          "output_type": "execute_result",
          "data": {
            "text/html": [
              "<div>\n",
              "<style scoped>\n",
              "    .dataframe tbody tr th:only-of-type {\n",
              "        vertical-align: middle;\n",
              "    }\n",
              "\n",
              "    .dataframe tbody tr th {\n",
              "        vertical-align: top;\n",
              "    }\n",
              "\n",
              "    .dataframe thead th {\n",
              "        text-align: right;\n",
              "    }\n",
              "</style>\n",
              "<table border=\"1\" class=\"dataframe\">\n",
              "  <thead>\n",
              "    <tr style=\"text-align: right;\">\n",
              "      <th></th>\n",
              "      <th>target</th>\n",
              "      <th>text</th>\n",
              "      <th>clean_tweet</th>\n",
              "      <th>tokens</th>\n",
              "      <th>clean_tweet_final</th>\n",
              "    </tr>\n",
              "  </thead>\n",
              "  <tbody>\n",
              "    <tr>\n",
              "      <th>0</th>\n",
              "      <td>0</td>\n",
              "      <td>@switchfoot http://twitpic.com/2y1zl - Awww, t...</td>\n",
              "      <td>awww bummer shoulda got david carr third day</td>\n",
              "      <td>[awww, bummer, shoulda, got, david, carr, thir...</td>\n",
              "      <td>awww bummer shoulda got david carr third day</td>\n",
              "    </tr>\n",
              "    <tr>\n",
              "      <th>1</th>\n",
              "      <td>0</td>\n",
              "      <td>is upset that he can't update his Facebook by ...</td>\n",
              "      <td>upset update facebook texting might cry result...</td>\n",
              "      <td>[upset, updat, facebook, text, might, cri, res...</td>\n",
              "      <td>upset updat facebook text might cri result sch...</td>\n",
              "    </tr>\n",
              "    <tr>\n",
              "      <th>2</th>\n",
              "      <td>0</td>\n",
              "      <td>@Kenichan I dived many times for the ball. Man...</td>\n",
              "      <td>dived many times ball managed save rest go bounds</td>\n",
              "      <td>[dive, mani, time, ball, manag, save, rest, go...</td>\n",
              "      <td>dive mani time ball manag save rest go bound</td>\n",
              "    </tr>\n",
              "    <tr>\n",
              "      <th>3</th>\n",
              "      <td>0</td>\n",
              "      <td>my whole body feels itchy and like its on fire</td>\n",
              "      <td>whole body feels itchy like fire</td>\n",
              "      <td>[whole, bodi, feel, itchi, like, fire]</td>\n",
              "      <td>whole bodi feel itchi like fire</td>\n",
              "    </tr>\n",
              "    <tr>\n",
              "      <th>4</th>\n",
              "      <td>0</td>\n",
              "      <td>@nationwideclass no, it's not behaving at all....</td>\n",
              "      <td>behaving mad see</td>\n",
              "      <td>[behav, mad, see]</td>\n",
              "      <td>behav mad see</td>\n",
              "    </tr>\n",
              "    <tr>\n",
              "      <th>...</th>\n",
              "      <td>...</td>\n",
              "      <td>...</td>\n",
              "      <td>...</td>\n",
              "      <td>...</td>\n",
              "      <td>...</td>\n",
              "    </tr>\n",
              "    <tr>\n",
              "      <th>1599995</th>\n",
              "      <td>4</td>\n",
              "      <td>Just woke up. Having no school is the best fee...</td>\n",
              "      <td>woke school best feeling ever</td>\n",
              "      <td>[woke, school, best, feel, ever]</td>\n",
              "      <td>woke school best feel ever</td>\n",
              "    </tr>\n",
              "    <tr>\n",
              "      <th>1599996</th>\n",
              "      <td>4</td>\n",
              "      <td>TheWDB.com - Very cool to hear old Walt interv...</td>\n",
              "      <td>thewdb com cool hear old walt interviews</td>\n",
              "      <td>[thewdb, com, cool, hear, old, walt, interview]</td>\n",
              "      <td>thewdb com cool hear old walt interview</td>\n",
              "    </tr>\n",
              "    <tr>\n",
              "      <th>1599997</th>\n",
              "      <td>4</td>\n",
              "      <td>Are you ready for your MoJo Makeover? Ask me f...</td>\n",
              "      <td>ready mojo makeover ask details</td>\n",
              "      <td>[readi, mojo, makeov, ask, detail]</td>\n",
              "      <td>readi mojo makeov ask detail</td>\n",
              "    </tr>\n",
              "    <tr>\n",
              "      <th>1599998</th>\n",
              "      <td>4</td>\n",
              "      <td>Happy 38th Birthday to my boo of alll time!!! ...</td>\n",
              "      <td>happy th birthday boo alll time tupac amaru sh...</td>\n",
              "      <td>[happi, th, birthday, boo, alll, time, tupac, ...</td>\n",
              "      <td>happi th birthday boo alll time tupac amaru sh...</td>\n",
              "    </tr>\n",
              "    <tr>\n",
              "      <th>1599999</th>\n",
              "      <td>4</td>\n",
              "      <td>happy #charitytuesday @theNSPCC @SparksCharity...</td>\n",
              "      <td>happy</td>\n",
              "      <td>[happi]</td>\n",
              "      <td>happi</td>\n",
              "    </tr>\n",
              "  </tbody>\n",
              "</table>\n",
              "<p>1600000 rows × 5 columns</p>\n",
              "</div>"
            ],
            "text/plain": [
              "         target  ...                                  clean_tweet_final\n",
              "0             0  ...       awww bummer shoulda got david carr third day\n",
              "1             0  ...  upset updat facebook text might cri result sch...\n",
              "2             0  ...       dive mani time ball manag save rest go bound\n",
              "3             0  ...                    whole bodi feel itchi like fire\n",
              "4             0  ...                                      behav mad see\n",
              "...         ...  ...                                                ...\n",
              "1599995       4  ...                         woke school best feel ever\n",
              "1599996       4  ...            thewdb com cool hear old walt interview\n",
              "1599997       4  ...                       readi mojo makeov ask detail\n",
              "1599998       4  ...  happi th birthday boo alll time tupac amaru sh...\n",
              "1599999       4  ...                                              happi\n",
              "\n",
              "[1600000 rows x 5 columns]"
            ]
          },
          "metadata": {
            "tags": []
          },
          "execution_count": 13
        }
      ]
    },
    {
      "cell_type": "markdown",
      "metadata": {
        "id": "P78mpmm9m5PK"
      },
      "source": [
        "# 3) Préparation des données\r\n",
        "\r\n",
        "Maintenant que nos données sont traitées, il faut les utiliser.\r\n",
        "\r\n",
        "Pour commencer, on modifie 4 par 1 dans la colonne des sentiments, pour une meilleure lecture.\r\n",
        "Ainsi 0 = sentiment négatif, 1 = sentiment positif.\r\n",
        "\r\n",
        "Ensuite, nous sélectionnons les données positives et négatives en les mettant dans *data_pos* et *data_neg*\r\n",
        "\r\n",
        "Pour nos tests, nous choisissons de ne sélectionner qu'une partie des données : 30000 tweets positifs, 30000 tweets négatifs.\r\n",
        "\r\n",
        "*data* sera donc nos données d'entrainement"
      ]
    },
    {
      "cell_type": "code",
      "metadata": {
        "id": "NFaJ2zb09FNW",
        "colab": {
          "base_uri": "https://localhost:8080/",
          "height": 589
        },
        "outputId": "70e08337-b1d0-4391-ee88-23e4d29b25da"
      },
      "source": [
        "# Put label = 4 to 1 for better reading\r\n",
        "df['target'][df['target']==4]=1\r\n",
        "\r\n",
        "# and put pos and neg in data_pos and data_neg\r\n",
        "#data_pos from 800000 to 1599999\r\n",
        "data_pos = df[df['target'] == 1]\r\n",
        "#data_neg from 0 to 799999\r\n",
        "data_neg = df[df['target'] == 0]\r\n",
        "\r\n",
        "# for training, keep only 40000 elements of neg and pos\r\n",
        "data_neg_test = data_neg.iloc[:int(40000)] # 40000 neg tweets\r\n",
        "data_pos_test = data_pos.iloc[:int(40000)] # 40000 pos tweets\r\n",
        "\r\n",
        "# For tests we keep only 80000 elements\r\n",
        "data = pd.concat([data_neg_test, data_pos_test])\r\n",
        "\r\n",
        "data=data[['clean_tweet_final', 'target']]\r\n",
        "data"
      ],
      "execution_count": 65,
      "outputs": [
        {
          "output_type": "stream",
          "text": [
            "/usr/local/lib/python3.7/dist-packages/ipykernel_launcher.py:2: SettingWithCopyWarning: \n",
            "A value is trying to be set on a copy of a slice from a DataFrame\n",
            "\n",
            "See the caveats in the documentation: https://pandas.pydata.org/pandas-docs/stable/user_guide/indexing.html#returning-a-view-versus-a-copy\n",
            "  \n",
            "/usr/local/lib/python3.7/dist-packages/pandas/core/series.py:1021: SettingWithCopyWarning: \n",
            "A value is trying to be set on a copy of a slice from a DataFrame\n",
            "\n",
            "See the caveats in the documentation: https://pandas.pydata.org/pandas-docs/stable/user_guide/indexing.html#returning-a-view-versus-a-copy\n",
            "  self._where(~key, value, inplace=True)\n"
          ],
          "name": "stderr"
        },
        {
          "output_type": "execute_result",
          "data": {
            "text/html": [
              "<div>\n",
              "<style scoped>\n",
              "    .dataframe tbody tr th:only-of-type {\n",
              "        vertical-align: middle;\n",
              "    }\n",
              "\n",
              "    .dataframe tbody tr th {\n",
              "        vertical-align: top;\n",
              "    }\n",
              "\n",
              "    .dataframe thead th {\n",
              "        text-align: right;\n",
              "    }\n",
              "</style>\n",
              "<table border=\"1\" class=\"dataframe\">\n",
              "  <thead>\n",
              "    <tr style=\"text-align: right;\">\n",
              "      <th></th>\n",
              "      <th>clean_tweet_final</th>\n",
              "      <th>target</th>\n",
              "    </tr>\n",
              "  </thead>\n",
              "  <tbody>\n",
              "    <tr>\n",
              "      <th>0</th>\n",
              "      <td>awww bummer shoulda got david carr third day</td>\n",
              "      <td>0</td>\n",
              "    </tr>\n",
              "    <tr>\n",
              "      <th>1</th>\n",
              "      <td>upset updat facebook text might cri result sch...</td>\n",
              "      <td>0</td>\n",
              "    </tr>\n",
              "    <tr>\n",
              "      <th>2</th>\n",
              "      <td>dive mani time ball manag save rest go bound</td>\n",
              "      <td>0</td>\n",
              "    </tr>\n",
              "    <tr>\n",
              "      <th>3</th>\n",
              "      <td>whole bodi feel itchi like fire</td>\n",
              "      <td>0</td>\n",
              "    </tr>\n",
              "    <tr>\n",
              "      <th>4</th>\n",
              "      <td>behav mad see</td>\n",
              "      <td>0</td>\n",
              "    </tr>\n",
              "    <tr>\n",
              "      <th>...</th>\n",
              "      <td>...</td>\n",
              "      <td>...</td>\n",
              "    </tr>\n",
              "    <tr>\n",
              "      <th>839995</th>\n",
              "      <td>ofici done driver ed stuff wait june licens ri...</td>\n",
              "      <td>1</td>\n",
              "    </tr>\n",
              "    <tr>\n",
              "      <th>839996</th>\n",
              "      <td>thank share care glad like quot</td>\n",
              "      <td>1</td>\n",
              "    </tr>\n",
              "    <tr>\n",
              "      <th>839997</th>\n",
              "      <td>ok object sustain</td>\n",
              "      <td>1</td>\n",
              "    </tr>\n",
              "    <tr>\n",
              "      <th>839998</th>\n",
              "      <td>twittin babi girl sleep</td>\n",
              "      <td>1</td>\n",
              "    </tr>\n",
              "    <tr>\n",
              "      <th>839999</th>\n",
              "      <td>facebook u share load myspac see promot celeb ...</td>\n",
              "      <td>1</td>\n",
              "    </tr>\n",
              "  </tbody>\n",
              "</table>\n",
              "<p>80000 rows × 2 columns</p>\n",
              "</div>"
            ],
            "text/plain": [
              "                                        clean_tweet_final  target\n",
              "0            awww bummer shoulda got david carr third day       0\n",
              "1       upset updat facebook text might cri result sch...       0\n",
              "2            dive mani time ball manag save rest go bound       0\n",
              "3                         whole bodi feel itchi like fire       0\n",
              "4                                           behav mad see       0\n",
              "...                                                   ...     ...\n",
              "839995  ofici done driver ed stuff wait june licens ri...       1\n",
              "839996                    thank share care glad like quot       1\n",
              "839997                                  ok object sustain       1\n",
              "839998                            twittin babi girl sleep       1\n",
              "839999  facebook u share load myspac see promot celeb ...       1\n",
              "\n",
              "[80000 rows x 2 columns]"
            ]
          },
          "metadata": {
            "tags": []
          },
          "execution_count": 65
        }
      ]
    },
    {
      "cell_type": "markdown",
      "metadata": {
        "id": "yp3MQKlyoVrX"
      },
      "source": [
        "A présent nous définissons nos données d'entrée : x sera les tweets et y les sentiments"
      ]
    },
    {
      "cell_type": "code",
      "metadata": {
        "id": "_YPGPpqh2SFZ"
      },
      "source": [
        "#x = data.cleaned_tweet\r\n",
        "x = data.clean_tweet_final # input features\r\n",
        "y = data.target # label"
      ],
      "execution_count": 66,
      "outputs": []
    },
    {
      "cell_type": "markdown",
      "metadata": {
        "id": "sHnVr4RcoiIO"
      },
      "source": [
        "*max_len* représente le nombre maximum de caractéristiques/mots sélectionnés pour l'entrainement. Ces mots seront utilisés selon l'importance qui distingue les tweets positifs et négatifs. Nous en choisissons 500.\r\n",
        "\r\n",
        "Ensuite, nous définissons le Tokenizer, pour lequel nous choisissons un num_words de 2000, c'est-à-dire que celui-ci n'utilisera que les 2000 mots les plus communs dans le jeu de données. Le tokenizer crée des tokens pour chaque mot du jeu de données et les mappe à un index à l'aide d'un dictionnaire\r\n",
        "\r\n",
        "*vocab_size* représente le nombre total de mots dans le jeu de données\r\n",
        "\r\n",
        "Etant donné que nous allons construire un modèle séquentiel, alimenté par des séquences de nombres, nous devons nous assurer que les séquences en entrée auront toutes la même forme, elles doivent toutes avoir la même longueur. Le problème est que les textes des tweets ont un nombre de mots différent. Pour pallier ce problème, nous utilisons la fonction pad_sequence de keras. Cette fonction transforme toute la séquence dans une longueur constante *max_len*."
      ]
    },
    {
      "cell_type": "code",
      "metadata": {
        "id": "nbn1eRgt4vqO",
        "colab": {
          "base_uri": "https://localhost:8080/"
        },
        "outputId": "a5b3ba72-8480-4ddb-cf05-8fb0e00aa240"
      },
      "source": [
        "# For training, we select maximum 500 features/words\r\n",
        "max_len = 500\r\n",
        "tokenizer = Tokenizer(num_words = 2000) # Tokenizer will use only 2000 most common words\r\n",
        "tokenizer.fit_on_texts(x)\r\n",
        "sequences = tokenizer.texts_to_sequences(x)\r\n",
        "sequences_matrix = sequence.pad_sequences(sequences,maxlen=max_len)\r\n",
        "\r\n",
        "vocab_size = len(tokenizer.word_index)\r\n",
        "print(\"Total words\", vocab_size)\r\n",
        "print(\"Matrix shape\", sequences_matrix.shape)\r\n"
      ],
      "execution_count": 67,
      "outputs": [
        {
          "output_type": "stream",
          "text": [
            "Total words 33555\n",
            "Matrix shape (80000, 500)\n"
          ],
          "name": "stdout"
        }
      ]
    },
    {
      "cell_type": "markdown",
      "metadata": {
        "id": "sv6-JfCsVS5f"
      },
      "source": [
        "Puis nous définissons nos données de l'entrainement et nos données de test.\r\n",
        "\r\n",
        "Pour cela on utilise la fonction train_test_split de sklearn, qui mélange le jeu de données et le divise. Cette fonction prend un paramètre appelé test_size, qui correspond à la portion du jeu de données que nous souhaitons assigner aux données de test. Nous choisissons d'assigner 20% du jeu de données aux données de test"
      ]
    },
    {
      "cell_type": "code",
      "metadata": {
        "id": "fAfR3MmH40sg",
        "colab": {
          "base_uri": "https://localhost:8080/"
        },
        "outputId": "db7ad96a-9bdd-4472-8e9c-c3703595f73e"
      },
      "source": [
        "# train_test_split mélange le jeu de données et le divise pour donner un ensemble de données d'entraînement et de test. On choisir une portion de 20% (0.2) réservée aux données de test\r\n",
        "x_train, x_test, y_train, y_test = train_test_split(sequences_matrix, y, test_size=0.2, random_state=2) # create train and test data\r\n",
        "#x_train = pad_sequences(tokenizer.texts_to_sequences(train_data.clean_tweet_final), maxlen=max_len)\r\n",
        "#x_test = pad_sequences(tokenizer.texts_to_sequences(test_data.clean_tweet_final), maxlen=max_len)\r\n",
        "y_train = y_train.values.reshape(-1,1)\r\n",
        "y_test = y_test.values.reshape(-1,1)\r\n",
        "\r\n",
        "print(\"x_train : \" + str(x_train.shape))\r\n",
        "print(\"y_train : \" + str(y_train.shape))\r\n",
        "print(\"x_test : \" + str(x_test.shape))\r\n",
        "print(\"y_test : \" + str(y_test.shape))"
      ],
      "execution_count": 68,
      "outputs": [
        {
          "output_type": "stream",
          "text": [
            "x_train : (64000, 500)\n",
            "y_train : (64000, 1)\n",
            "x_test : (16000, 500)\n",
            "y_test : (16000, 1)\n"
          ],
          "name": "stdout"
        }
      ]
    },
    {
      "cell_type": "markdown",
      "metadata": {
        "id": "gHL_spmInPGQ"
      },
      "source": [
        "# 4) Le modèle\r\n",
        "\r\n",
        "Maintenant que nos données sont prêtes, nous allons devoir passer à la définition et à l'entrainement du modèle"
      ]
    },
    {
      "cell_type": "code",
      "metadata": {
        "id": "SW-x78vv7XrI"
      },
      "source": [
        "def model1(): # Pour entrainer le modèle on utilise la fonction tensorflow_based_model\r\n",
        "    model = Sequential()\r\n",
        "    inputs = Input(name='inputs',shape=[max_len])# etape 1\r\n",
        "    model.add(Embedding(vocab_size, 64, input_length=max_len)) # etape 2\r\n",
        "    model.add(LSTM(64)) # etape3\r\n",
        "    model.add(Dense(256,name='FC1')) # etape 4\r\n",
        "    model.add(Activation('relu')) # etape 5\r\n",
        "    model.add(Dropout(0.5)) # step6\r\n",
        "    model.add(Dense(1,name='out_layer')) # etape 4 encore, mais on donne seulement 1 sortie car il faut classer le tweet positif ou négatif\r\n",
        "    model.add(Activation('sigmoid')) # etape 5 encore mais la fonction d'activation est sigmoid pour une seule sortie\r\n",
        "    #model = Model(inputs=inputs,outputs=layer) # Ici on obtient la sortie finale pour la classification\r\n",
        "    return model # on retourne la valeur"
      ],
      "execution_count": 69,
      "outputs": []
    },
    {
      "cell_type": "code",
      "metadata": {
        "id": "NjRGhgn5O0KW"
      },
      "source": [
        "from keras.models import Sequential\r\n",
        "def model2():\r\n",
        "  model = Sequential()\r\n",
        "  inputs = Input(name='inputs',shape=[max_len])\r\n",
        "  model.add(Embedding(2000,50,input_length=max_len))\r\n",
        "  model.add(LSTM(64))\r\n",
        "  model.add(Dense(512,name='FC1'))\r\n",
        "  model.add(Activation('relu'))\r\n",
        "  model.add(Dropout(0.75))\r\n",
        "  model.add(Dense(256,name='FC2'))\r\n",
        "  model.add(Activation('relu'))\r\n",
        "  model.add(Dropout(0.5))\r\n",
        "  model.add(Dense(128,name='FC3'))\r\n",
        "  model.add(Activation('relu'))\r\n",
        "  model.add(Dropout(0.5))\r\n",
        "  model.add(Dense(50, activation='softmax'))\r\n",
        "  model.add(Dense(1,name='out_layer'))\r\n",
        "  model.add(Activation('sigmoid'))\r\n",
        "\r\n",
        "  return model"
      ],
      "execution_count": 70,
      "outputs": []
    },
    {
      "cell_type": "code",
      "metadata": {
        "id": "ezCrKRBPCp5R"
      },
      "source": [
        "def model1LSTM():\r\n",
        "  model = Sequential()\r\n",
        "  embedding_layer = Embedding(sequences_matrix.shape[0], 500, weights=[sequences_matrix], input_length=max_len , trainable=False)\r\n",
        "  model.add(embedding_layer)\r\n",
        "  model.add(LSTM(128))\r\n",
        "\r\n",
        "  model.add(Dense(1, activation='sigmoid'))\r\n",
        "  model.compile(optimizer='adam', loss='binary_crossentropy', metrics=['accuracy'])  \r\n",
        "  return model"
      ],
      "execution_count": 71,
      "outputs": []
    },
    {
      "cell_type": "code",
      "metadata": {
        "id": "Fme7St6m8EnK"
      },
      "source": [
        "model = model1() # on crée notre modèle\r\n",
        "model.compile(loss='binary_crossentropy',optimizer='adam',metrics=['accuracy']) "
      ],
      "execution_count": 72,
      "outputs": []
    },
    {
      "cell_type": "code",
      "metadata": {
        "colab": {
          "base_uri": "https://localhost:8080/"
        },
        "id": "ZxFAvBj-8Gz_",
        "outputId": "f70f8f1e-b1fa-4848-fe32-5ba4e4655f76"
      },
      "source": [
        "history=model.fit(x_train,y_train,batch_size=80,epochs=60, validation_split=0.1)# On entraine le modèle avec les données d'entraînement\r\n",
        "print('Entrainement terminé !')"
      ],
      "execution_count": 74,
      "outputs": [
        {
          "output_type": "stream",
          "text": [
            "Epoch 1/60\n",
            "720/720 [==============================] - 30s 42ms/step - loss: 0.5066 - accuracy: 0.7536 - val_loss: 0.5018 - val_accuracy: 0.7563\n",
            "Epoch 2/60\n",
            "720/720 [==============================] - 30s 41ms/step - loss: 0.4859 - accuracy: 0.7665 - val_loss: 0.5051 - val_accuracy: 0.7530\n",
            "Epoch 3/60\n",
            "720/720 [==============================] - 30s 41ms/step - loss: 0.4705 - accuracy: 0.7729 - val_loss: 0.5057 - val_accuracy: 0.7516\n",
            "Epoch 4/60\n",
            "720/720 [==============================] - 30s 41ms/step - loss: 0.4605 - accuracy: 0.7766 - val_loss: 0.5256 - val_accuracy: 0.7459\n",
            "Epoch 5/60\n",
            "720/720 [==============================] - 30s 41ms/step - loss: 0.4457 - accuracy: 0.7827 - val_loss: 0.5273 - val_accuracy: 0.7481\n",
            "Epoch 6/60\n",
            "720/720 [==============================] - 30s 41ms/step - loss: 0.4339 - accuracy: 0.7895 - val_loss: 0.5367 - val_accuracy: 0.7470\n",
            "Epoch 7/60\n",
            "720/720 [==============================] - 30s 41ms/step - loss: 0.4215 - accuracy: 0.7933 - val_loss: 0.5568 - val_accuracy: 0.7456\n",
            "Epoch 8/60\n",
            "720/720 [==============================] - 30s 41ms/step - loss: 0.4058 - accuracy: 0.8006 - val_loss: 0.5669 - val_accuracy: 0.7409\n",
            "Epoch 9/60\n",
            "720/720 [==============================] - 30s 41ms/step - loss: 0.3896 - accuracy: 0.8076 - val_loss: 0.6288 - val_accuracy: 0.7367\n",
            "Epoch 10/60\n",
            "720/720 [==============================] - 31s 42ms/step - loss: 0.4946 - accuracy: 0.7560 - val_loss: 0.5150 - val_accuracy: 0.7520\n",
            "Epoch 11/60\n",
            "720/720 [==============================] - 30s 42ms/step - loss: 0.4586 - accuracy: 0.7762 - val_loss: 0.5260 - val_accuracy: 0.7527\n",
            "Epoch 12/60\n",
            "720/720 [==============================] - 31s 42ms/step - loss: 0.4366 - accuracy: 0.7869 - val_loss: 0.5444 - val_accuracy: 0.7473\n",
            "Epoch 13/60\n",
            "720/720 [==============================] - 31s 42ms/step - loss: 0.4205 - accuracy: 0.7941 - val_loss: 0.5524 - val_accuracy: 0.7412\n",
            "Epoch 14/60\n",
            "720/720 [==============================] - 30s 42ms/step - loss: 0.4070 - accuracy: 0.7998 - val_loss: 0.5992 - val_accuracy: 0.7395\n",
            "Epoch 15/60\n",
            "720/720 [==============================] - 30s 42ms/step - loss: 0.3809 - accuracy: 0.8114 - val_loss: 0.6374 - val_accuracy: 0.7412\n",
            "Epoch 16/60\n",
            "720/720 [==============================] - 30s 42ms/step - loss: 0.3602 - accuracy: 0.8199 - val_loss: 0.6927 - val_accuracy: 0.7362\n",
            "Epoch 17/60\n",
            "720/720 [==============================] - 30s 42ms/step - loss: 0.3418 - accuracy: 0.8272 - val_loss: 0.7848 - val_accuracy: 0.7327\n",
            "Epoch 18/60\n",
            "720/720 [==============================] - 30s 42ms/step - loss: 0.3272 - accuracy: 0.8333 - val_loss: 0.8410 - val_accuracy: 0.7308\n",
            "Epoch 19/60\n",
            "720/720 [==============================] - 30s 42ms/step - loss: 0.3112 - accuracy: 0.8409 - val_loss: 0.9935 - val_accuracy: 0.7330\n",
            "Epoch 20/60\n",
            "720/720 [==============================] - 30s 42ms/step - loss: 0.2979 - accuracy: 0.8456 - val_loss: 0.9853 - val_accuracy: 0.7234\n",
            "Epoch 21/60\n",
            "720/720 [==============================] - 30s 42ms/step - loss: 0.2854 - accuracy: 0.8519 - val_loss: 1.1508 - val_accuracy: 0.7211\n",
            "Epoch 22/60\n",
            "720/720 [==============================] - 30s 42ms/step - loss: 0.2736 - accuracy: 0.8575 - val_loss: 1.1845 - val_accuracy: 0.7223\n",
            "Epoch 23/60\n",
            "720/720 [==============================] - 30s 42ms/step - loss: 0.2591 - accuracy: 0.8645 - val_loss: 1.2892 - val_accuracy: 0.7181\n",
            "Epoch 24/60\n",
            "720/720 [==============================] - 30s 42ms/step - loss: 0.2493 - accuracy: 0.8687 - val_loss: 1.4214 - val_accuracy: 0.7158\n",
            "Epoch 25/60\n",
            "720/720 [==============================] - 30s 42ms/step - loss: 0.2398 - accuracy: 0.8736 - val_loss: 1.5561 - val_accuracy: 0.7169\n",
            "Epoch 26/60\n",
            "720/720 [==============================] - 30s 42ms/step - loss: 0.2310 - accuracy: 0.8789 - val_loss: 1.6324 - val_accuracy: 0.7197\n",
            "Epoch 27/60\n",
            "720/720 [==============================] - 30s 42ms/step - loss: 0.2199 - accuracy: 0.8840 - val_loss: 1.7284 - val_accuracy: 0.7150\n",
            "Epoch 28/60\n",
            "720/720 [==============================] - 30s 42ms/step - loss: 0.2100 - accuracy: 0.8889 - val_loss: 1.9381 - val_accuracy: 0.7095\n",
            "Epoch 29/60\n",
            "720/720 [==============================] - 30s 42ms/step - loss: 0.2034 - accuracy: 0.8942 - val_loss: 1.9750 - val_accuracy: 0.7127\n",
            "Epoch 30/60\n",
            "720/720 [==============================] - 30s 42ms/step - loss: 0.1952 - accuracy: 0.8973 - val_loss: 1.9974 - val_accuracy: 0.7080\n",
            "Epoch 31/60\n",
            "720/720 [==============================] - 30s 42ms/step - loss: 0.1884 - accuracy: 0.9024 - val_loss: 2.1472 - val_accuracy: 0.7086\n",
            "Epoch 32/60\n",
            "720/720 [==============================] - 30s 42ms/step - loss: 0.1836 - accuracy: 0.9072 - val_loss: 2.0769 - val_accuracy: 0.7069\n",
            "Epoch 33/60\n",
            "720/720 [==============================] - 30s 42ms/step - loss: 0.1744 - accuracy: 0.9098 - val_loss: 2.3741 - val_accuracy: 0.7103\n",
            "Epoch 34/60\n",
            "720/720 [==============================] - 30s 42ms/step - loss: 0.1672 - accuracy: 0.9147 - val_loss: 2.5318 - val_accuracy: 0.7052\n",
            "Epoch 35/60\n",
            "720/720 [==============================] - 30s 42ms/step - loss: 0.1603 - accuracy: 0.9178 - val_loss: 2.8223 - val_accuracy: 0.7120\n",
            "Epoch 36/60\n",
            "720/720 [==============================] - 30s 42ms/step - loss: 0.1562 - accuracy: 0.9204 - val_loss: 2.7263 - val_accuracy: 0.7080\n",
            "Epoch 37/60\n",
            "720/720 [==============================] - 30s 42ms/step - loss: 0.1605 - accuracy: 0.9204 - val_loss: 2.7397 - val_accuracy: 0.7034\n",
            "Epoch 38/60\n",
            "720/720 [==============================] - 30s 42ms/step - loss: 0.1472 - accuracy: 0.9260 - val_loss: 2.7337 - val_accuracy: 0.7028\n",
            "Epoch 39/60\n",
            "720/720 [==============================] - 30s 42ms/step - loss: 0.1425 - accuracy: 0.9288 - val_loss: 2.9688 - val_accuracy: 0.7008\n",
            "Epoch 40/60\n",
            "720/720 [==============================] - 30s 42ms/step - loss: 0.1401 - accuracy: 0.9301 - val_loss: 3.0347 - val_accuracy: 0.7041\n",
            "Epoch 41/60\n",
            "720/720 [==============================] - 30s 42ms/step - loss: 0.1343 - accuracy: 0.9334 - val_loss: 3.1605 - val_accuracy: 0.7045\n",
            "Epoch 42/60\n",
            "720/720 [==============================] - 31s 42ms/step - loss: 0.1291 - accuracy: 0.9360 - val_loss: 3.2345 - val_accuracy: 0.7039\n",
            "Epoch 43/60\n",
            "720/720 [==============================] - 31s 42ms/step - loss: 0.1260 - accuracy: 0.9377 - val_loss: 3.1442 - val_accuracy: 0.7005\n",
            "Epoch 44/60\n",
            "720/720 [==============================] - 31s 43ms/step - loss: 0.1334 - accuracy: 0.9360 - val_loss: 3.2977 - val_accuracy: 0.7064\n",
            "Epoch 45/60\n",
            "720/720 [==============================] - 31s 43ms/step - loss: 0.1232 - accuracy: 0.9398 - val_loss: 3.2830 - val_accuracy: 0.6994\n",
            "Epoch 46/60\n",
            "720/720 [==============================] - 31s 43ms/step - loss: 0.1180 - accuracy: 0.9432 - val_loss: 3.4267 - val_accuracy: 0.7009\n",
            "Epoch 47/60\n",
            "720/720 [==============================] - 31s 42ms/step - loss: 0.1140 - accuracy: 0.9443 - val_loss: 3.5103 - val_accuracy: 0.6998\n",
            "Epoch 48/60\n",
            "720/720 [==============================] - 31s 42ms/step - loss: 0.1181 - accuracy: 0.9436 - val_loss: 3.4486 - val_accuracy: 0.7006\n",
            "Epoch 49/60\n",
            "720/720 [==============================] - 31s 42ms/step - loss: 0.1099 - accuracy: 0.9467 - val_loss: 3.5410 - val_accuracy: 0.6950\n",
            "Epoch 50/60\n",
            "720/720 [==============================] - 30s 42ms/step - loss: 0.1104 - accuracy: 0.9476 - val_loss: 3.4713 - val_accuracy: 0.6997\n",
            "Epoch 51/60\n",
            "720/720 [==============================] - 31s 42ms/step - loss: 0.1100 - accuracy: 0.9491 - val_loss: 3.6235 - val_accuracy: 0.6997\n",
            "Epoch 52/60\n",
            "720/720 [==============================] - 31s 42ms/step - loss: 0.1011 - accuracy: 0.9519 - val_loss: 3.9001 - val_accuracy: 0.7033\n",
            "Epoch 53/60\n",
            "720/720 [==============================] - 31s 42ms/step - loss: 0.1000 - accuracy: 0.9527 - val_loss: 3.9497 - val_accuracy: 0.7039\n",
            "Epoch 54/60\n",
            "720/720 [==============================] - 30s 42ms/step - loss: 0.1056 - accuracy: 0.9519 - val_loss: 3.7479 - val_accuracy: 0.7030\n",
            "Epoch 55/60\n",
            "720/720 [==============================] - 31s 43ms/step - loss: 0.0966 - accuracy: 0.9544 - val_loss: 3.8377 - val_accuracy: 0.7002\n",
            "Epoch 56/60\n",
            "720/720 [==============================] - 31s 43ms/step - loss: 0.0952 - accuracy: 0.9550 - val_loss: 4.0367 - val_accuracy: 0.7048\n",
            "Epoch 57/60\n",
            "720/720 [==============================] - 31s 42ms/step - loss: 0.0971 - accuracy: 0.9549 - val_loss: 4.0564 - val_accuracy: 0.6991\n",
            "Epoch 58/60\n",
            "720/720 [==============================] - 31s 42ms/step - loss: 0.0945 - accuracy: 0.9562 - val_loss: 4.0767 - val_accuracy: 0.6952\n",
            "Epoch 59/60\n",
            "720/720 [==============================] - 31s 43ms/step - loss: 0.0910 - accuracy: 0.9582 - val_loss: 4.0566 - val_accuracy: 0.7017\n",
            "Epoch 60/60\n",
            "720/720 [==============================] - 31s 43ms/step - loss: 0.0882 - accuracy: 0.9591 - val_loss: 4.1014 - val_accuracy: 0.6983\n",
            "Entrainement terminé !\n"
          ],
          "name": "stdout"
        }
      ]
    },
    {
      "cell_type": "code",
      "metadata": {
        "id": "yYZwoFrWQMuA"
      },
      "source": [
        "def plot_model_history(model_history):\r\n",
        "    fig, axs = plt.subplots(1,2,figsize=(15,5))\r\n",
        "    # summarize history for accuracy\r\n",
        "    axs[0].plot(range(1,len(model_history.history['accuracy'])+1),model_history.history['accuracy'])\r\n",
        "    axs[0].plot(range(1,len(model_history.history['val_accuracy'])+1),model_history.history['val_accuracy'])\r\n",
        "    axs[0].set_title('Model Accuracy')\r\n",
        "    axs[0].set_ylabel('Accuracy')\r\n",
        "    axs[0].set_xlabel('Epoch')\r\n",
        "    axs[0].set_xticks(np.arange(1,len(model_history.history['accuracy'])+1),len(model_history.history['accuracy'])/10)\r\n",
        "    axs[0].legend(['train', 'val'], loc='best')\r\n",
        "    # summarize history for loss\r\n",
        "    axs[1].plot(range(1,len(model_history.history['loss'])+1),model_history.history['loss'])\r\n",
        "    axs[1].plot(range(1,len(model_history.history['val_loss'])+1),model_history.history['val_loss'])\r\n",
        "    axs[1].set_title('Model Loss')\r\n",
        "    axs[1].set_ylabel('Loss')\r\n",
        "    axs[1].set_xlabel('Epoch')\r\n",
        "    axs[1].set_xticks(np.arange(1,len(model_history.history['loss'])+1),len(model_history.history['loss'])/10)\r\n",
        "    axs[1].legend(['train', 'val'], loc='best')\r\n",
        "    plt.show()"
      ],
      "execution_count": 75,
      "outputs": []
    },
    {
      "cell_type": "code",
      "metadata": {
        "id": "6gU0D72mQGZj",
        "colab": {
          "base_uri": "https://localhost:8080/",
          "height": 421
        },
        "outputId": "021a297a-8d30-47b5-9d67-9b80f92febfd"
      },
      "source": [
        "plot_model_history(history)"
      ],
      "execution_count": 76,
      "outputs": [
        {
          "output_type": "stream",
          "text": [
            "/usr/local/lib/python3.7/dist-packages/ipykernel_launcher.py:9: MatplotlibDeprecationWarning: Passing the minor parameter of set_xticks() positionally is deprecated since Matplotlib 3.2; the parameter will become keyword-only two minor releases later.\n",
            "  if __name__ == '__main__':\n",
            "/usr/local/lib/python3.7/dist-packages/ipykernel_launcher.py:17: MatplotlibDeprecationWarning: Passing the minor parameter of set_xticks() positionally is deprecated since Matplotlib 3.2; the parameter will become keyword-only two minor releases later.\n"
          ],
          "name": "stderr"
        },
        {
          "output_type": "display_data",
          "data": {
            "image/png": "[encoded data removed]",
            "text/plain": [
              "<Figure size 1080x360 with 2 Axes>"
            ]
          },
          "metadata": {
            "tags": [],
            "needs_background": "light"
          }
        }
      ]
    },
    {
      "cell_type": "code",
      "metadata": {
        "id": "0UKxY4gm8kmT",
        "colab": {
          "base_uri": "https://localhost:8080/"
        },
        "outputId": "8359d52d-a9b0-4bb4-d2bd-8b9f9d1fa31f"
      },
      "source": [
        "score = model.evaluate(x_test, y_test)\r\n",
        "print(\"Accuracy :\",score[1]) # précision du modèle"
      ],
      "execution_count": 77,
      "outputs": [
        {
          "output_type": "stream",
          "text": [
            "500/500 [==============================] - 5s 10ms/step - loss: 4.0924 - accuracy: 0.7001\n",
            "Accuracy : 0.7000625133514404\n"
          ],
          "name": "stdout"
        }
      ]
    },
    {
      "cell_type": "code",
      "metadata": {
        "id": "Ls4Plawbnyu3"
      },
      "source": [
        "def get_sentiment(score):\r\n",
        "  if score < 0.5 :\r\n",
        "    return \"Negative sentiment\"\r\n",
        "  else : \r\n",
        "    return \"Positive sentiment\""
      ],
      "execution_count": 78,
      "outputs": []
    },
    {
      "cell_type": "code",
      "metadata": {
        "id": "ULk1QW0zoXUn"
      },
      "source": [
        ""
      ],
      "execution_count": 78,
      "outputs": []
    },
    {
      "cell_type": "code",
      "metadata": {
        "id": "DWIoE0PNtDeu"
      },
      "source": [
        ""
      ],
      "execution_count": 78,
      "outputs": []
    },
    {
      "cell_type": "code",
      "metadata": {
        "id": "h1nZMaCur32u"
      },
      "source": [
        "def clean_phrase(text):\r\n",
        "  text.replace('[^a-zA-Z#]',' ') # keep only letters\r\n",
        "  text.lower() #remove uppercases letters\r\n",
        "  #remove links, mentions, blanks and hashtags\r\n",
        "  text = re.sub('((www\\.[^\\s]+)|(https?://[^\\s]+))',' ',text)\r\n",
        "  text = re.sub('@[^\\s]+',' ', text)\r\n",
        "  text = re.sub('[\\s]+', ' ', text)\r\n",
        "  text = re.sub(r'#([^\\s]+)', r' ', text)\r\n",
        "  text = ' '.join(word for word in text.split() if word not in stopWords) #remove stopwords\r\n",
        "  tokens = text.split()\r\n",
        "  tokensStem = [stemmer.stem(i) for i in tokens] # stemming\r\n",
        "  textClean = ' '.join(tokensStem)\r\n",
        "  \r\n",
        "  return textClean"
      ],
      "execution_count": 79,
      "outputs": []
    },
    {
      "cell_type": "code",
      "metadata": {
        "id": "FoEmROfdaD25",
        "colab": {
          "base_uri": "https://localhost:8080/",
          "height": 35
        },
        "outputId": "19e91e41-0bb1-48b2-9c3e-373e9bf17547"
      },
      "source": [
        "clean_phrase(\"Hello I am in the bummer happy\")"
      ],
      "execution_count": 80,
      "outputs": [
        {
          "output_type": "execute_result",
          "data": {
            "application/vnd.google.colaboratory.intrinsic+json": {
              "type": "string"
            },
            "text/plain": [
              "'hello I bummer happi'"
            ]
          },
          "metadata": {
            "tags": []
          },
          "execution_count": 80
        }
      ]
    },
    {
      "cell_type": "code",
      "metadata": {
        "id": "8YAv9SwZ0TaB"
      },
      "source": [
        "def predict(text):\r\n",
        "  # clean the text\r\n",
        "  textClean = clean_phrase(text)\r\n",
        "  # Tokenize text\r\n",
        "  x_test = pad_sequences(tokenizer.texts_to_sequences([textClean]), maxlen=max_len)\r\n",
        "  # Predict\r\n",
        "  score = model.predict([x_test])[0]\r\n",
        "  # Decode sentiment\r\n",
        "  label = get_sentiment(score)\r\n",
        "\r\n",
        "  return {\"label\": label, \"score\": float(score)}"
      ],
      "execution_count": 81,
      "outputs": []
    },
    {
      "cell_type": "code",
      "metadata": {
        "id": "hAhuesDHsnHx"
      },
      "source": [
        ""
      ],
      "execution_count": 81,
      "outputs": []
    },
    {
      "cell_type": "code",
      "metadata": {
        "id": "-ZIMdhE1opRY",
        "colab": {
          "base_uri": "https://localhost:8080/"
        },
        "outputId": "38e4322b-7ea2-432b-d5b1-127417c0f6cf"
      },
      "source": [
        "predict(\"I liked the burger\")"
      ],
      "execution_count": 86,
      "outputs": [
        {
          "output_type": "execute_result",
          "data": {
            "text/plain": [
              "{'label': 'Positive sentiment', 'score': 0.9972822666168213}"
            ]
          },
          "metadata": {
            "tags": []
          },
          "execution_count": 86
        }
      ]
    },
    {
      "cell_type": "code",
      "metadata": {
        "id": "wH-xUz8borOQ",
        "colab": {
          "base_uri": "https://localhost:8080/"
        },
        "outputId": "f17b8c99-bcde-4e02-a542-ab4360fa6aa9"
      },
      "source": [
        "predict(\"Covid is a really sad period\")"
      ],
      "execution_count": 83,
      "outputs": [
        {
          "output_type": "execute_result",
          "data": {
            "text/plain": [
              "{'label': 'Negative sentiment', 'score': 1.4174683649059716e-09}"
            ]
          },
          "metadata": {
            "tags": []
          },
          "execution_count": 83
        }
      ]
    },
    {
      "cell_type": "code",
      "metadata": {
        "id": "OKVJWnBppnXs"
      },
      "source": [
        ""
      ],
      "execution_count": 50,
      "outputs": []
    },
    {
      "cell_type": "code",
      "metadata": {
        "id": "hfocRC1zrqhz"
      },
      "source": [
        ""
      ],
      "execution_count": null,
      "outputs": []
    }
  ]
}